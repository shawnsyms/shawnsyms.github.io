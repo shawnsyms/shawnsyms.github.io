{
 "cells": [
  {
   "cell_type": "markdown",
   "metadata": {
    "slideshow": {
     "slide_type": "slide"
    }
   },
   "source": [
    "<img src=\"../img/cover.png\">"
   ]
  },
  {
   "cell_type": "markdown",
   "metadata": {
    "slideshow": {
     "slide_type": "slide"
    }
   },
   "source": [
    "# Training a binary classifier for reddit posts using Natural Language Processing (NLP) \n",
    "\n",
    "### Executive summary\n",
    "<a href=\"#executive_summary\">Executive summary</a> / \n",
    "<a href=\"#problem_statement\">Problem statement</a> / \n",
    "<a href=\"#models\">Models</a> / \n",
    "<a href=\"#results\">Results</a> / \n",
    "<a href=\"#recommendations\">Recommendations</a>\n",
    "\n",
    "### Data analysis and modeling\n",
    "<a href=\"#admin_and_setup\">Administration and setup</a> / \n",
    "<a href=\"#cleaning_and_eda\">Cleaning and exploratory data analysis (EDA)</a> / \n",
    "<a href=\"#data_preprocessing\">Data preprocessing</a> / \n",
    "<a href=\"#modeling_and_evaluation\">Modeling and evaluation</a> / \n",
    "<a href=\"#test_data\">Final test data</a>\n",
    "\n",
    "<hr>"
   ]
  },
  {
   "cell_type": "markdown",
   "metadata": {
    "slideshow": {
     "slide_type": "slide"
    }
   },
   "source": [
    "<a name=\"executive_summary\"></a>\n",
    "# Executive summary\n",
    "\n",
    "<em>What if you could tell where clients are in the recovery lifecycle based on their writing?</em>\n",
    "\n",
    "It's rewarding, but challenging, to run recovery initiatives for people who want to control their problem alcohol and drug use, whether we are talking about inpatient or outpatient rehabilitation, or supervised injection sites with on-site access to treatment, counselling or support. Reviewing the thoughts and feelings of patients and clients, sometimes through their creative output, can be one part of the recovery process. \n",
    "\n",
    "In counselling, clients are not always truthful about their problem substance use because of guilt, shame and/or stigma. In response, I have developed a machine learning model that can help validate whether a client is still actively using substances or actively working on their recovery. The model has been trained and tested using online postings from reddit.com, to understand if content has come from subreddits where active substance use is discussed versus subreddits focused on recovery from addiction, despite the experience overlap from these two groups of potential clients. \n",
    "\n",
    "The model has a success rate of over 90 percent, which is higher than many subjective treatment modalities and less invasive and confrontational than other compliance tools such as urinalysis. And all the hard work happens behind the scenes in the model itself. It's my hope that this research can eventually contribute to better outcomes for people facing addiction and contemplating recovery. Because everyone, no matter what their circumstances, deserves their best chance for health, wellness, productivity and happiness."
   ]
  },
  {
   "cell_type": "markdown",
   "metadata": {
    "slideshow": {
     "slide_type": "subslide"
    }
   },
   "source": [
    "<a name=\"problem_statement\"></a>\n",
    "# Problem statement\n",
    "\n",
    "> Can I successfully build a natural language processing (NLP) binary-classification model that will distinguish between writing, in the form of reddit posts, by active substance users vs people in recovery from addiction? How accurate, and how generalizable, could it be?  \n",
    "\n",
    "To answer this question, I constructed an NLP model which took as its training input the content from over 3,000 preprocessed reddit posts, half of them originating in four subreddits dedicated to discussion of active substance use and half of them from four subreddits focused on active recovery from drug and alcohol addiction. I ran the model using a train-test split, and then used another 600 reddit posts as unknown data for the model to classify as active drug use or active recovery. <em>The project will be considered successful if the model can properly identify 90 percent or more of the posts.</em>\n",
    "\n",
    "<img src=\"../img/subreddits.png\">\n",
    "\n",
    "<hr>"
   ]
  },
  {
   "cell_type": "markdown",
   "metadata": {
    "slideshow": {
     "slide_type": "subslide"
    }
   },
   "source": [
    "## Some context: The recovery lifecycle\n",
    "\n",
    "<img src=\"../img/recovery.png\">\n",
    "\n"
   ]
  },
  {
   "cell_type": "markdown",
   "metadata": {},
   "source": [
    "A core aspect of the recovery lifecycle is that very often, relapse is a part of the road to recovery—and it can occur at any point in the journey. This suggests that rather being two discrete groups of people, active substance users and people in recovery have shared histories and share a vocabulary.\n",
    "\n",
    "I created a dataframe with the statistics of how many words could be found exclusively in drug-user posts or recovery posts, versus how many words were present in both groups of posts. The results are below."
   ]
  },
  {
   "cell_type": "code",
   "execution_count": 12,
   "metadata": {
    "slideshow": {
     "slide_type": "fragment"
    }
   },
   "outputs": [],
   "source": [
    "stats = pd.read_csv('../data/stats.csv')\n",
    "stats = stats.rename(index={0: 'number_of_words'})\n",
    "stats_normalized = pd.read_csv('../data/stats_normalized.csv')\n",
    "stats_normalized = stats_normalized.rename(index={0: 'percentage_of_words'})"
   ]
  },
  {
   "cell_type": "code",
   "execution_count": 13,
   "metadata": {
    "slideshow": {
     "slide_type": "fragment"
    }
   },
   "outputs": [
    {
     "data": {
      "text/html": [
       "<div>\n",
       "<style scoped>\n",
       "    .dataframe tbody tr th:only-of-type {\n",
       "        vertical-align: middle;\n",
       "    }\n",
       "\n",
       "    .dataframe tbody tr th {\n",
       "        vertical-align: top;\n",
       "    }\n",
       "\n",
       "    .dataframe thead th {\n",
       "        text-align: right;\n",
       "    }\n",
       "</style>\n",
       "<table border=\"1\" class=\"dataframe\">\n",
       "  <thead>\n",
       "    <tr style=\"text-align: right;\">\n",
       "      <th></th>\n",
       "      <th>shared_words</th>\n",
       "      <th>drug_words</th>\n",
       "      <th>recovery_words</th>\n",
       "      <th>total</th>\n",
       "    </tr>\n",
       "  </thead>\n",
       "  <tbody>\n",
       "    <tr>\n",
       "      <th>number_of_words</th>\n",
       "      <td>8288</td>\n",
       "      <td>2031</td>\n",
       "      <td>3001</td>\n",
       "      <td>13320</td>\n",
       "    </tr>\n",
       "  </tbody>\n",
       "</table>\n",
       "</div>"
      ],
      "text/plain": [
       "                 shared_words  drug_words  recovery_words  total\n",
       "number_of_words          8288        2031            3001  13320"
      ]
     },
     "execution_count": 13,
     "metadata": {},
     "output_type": "execute_result"
    }
   ],
   "source": [
    "stats.head()"
   ]
  },
  {
   "cell_type": "code",
   "execution_count": 14,
   "metadata": {
    "slideshow": {
     "slide_type": "fragment"
    }
   },
   "outputs": [
    {
     "data": {
      "text/html": [
       "<div>\n",
       "<style scoped>\n",
       "    .dataframe tbody tr th:only-of-type {\n",
       "        vertical-align: middle;\n",
       "    }\n",
       "\n",
       "    .dataframe tbody tr th {\n",
       "        vertical-align: top;\n",
       "    }\n",
       "\n",
       "    .dataframe thead th {\n",
       "        text-align: right;\n",
       "    }\n",
       "</style>\n",
       "<table border=\"1\" class=\"dataframe\">\n",
       "  <thead>\n",
       "    <tr style=\"text-align: right;\">\n",
       "      <th></th>\n",
       "      <th>shared_words</th>\n",
       "      <th>drug_words</th>\n",
       "      <th>recovery_words</th>\n",
       "      <th>total</th>\n",
       "    </tr>\n",
       "  </thead>\n",
       "  <tbody>\n",
       "    <tr>\n",
       "      <th>percentage_of_words</th>\n",
       "      <td>62%</td>\n",
       "      <td>15%</td>\n",
       "      <td>23%</td>\n",
       "      <td>100%</td>\n",
       "    </tr>\n",
       "  </tbody>\n",
       "</table>\n",
       "</div>"
      ],
      "text/plain": [
       "                    shared_words drug_words recovery_words total\n",
       "percentage_of_words          62%        15%            23%  100%"
      ]
     },
     "execution_count": 14,
     "metadata": {},
     "output_type": "execute_result"
    }
   ],
   "source": [
    "stats_normalized.head()"
   ]
  },
  {
   "cell_type": "markdown",
   "metadata": {},
   "source": [
    "Note not only the high degree of vocabulary overlap (62%), but also that there are words and expressions only used (within the sample) by active substance users or those active in recovery."
   ]
  },
  {
   "cell_type": "markdown",
   "metadata": {
    "slideshow": {
     "slide_type": "slide"
    }
   },
   "source": [
    "<a name=\"models\"></a>\n",
    "# Models \n",
    "Using sci-kit learn, we deployed four different models, using CountVectorizer in a \"bag of words\" model\n",
    "\n",
    "> Naive Bayes Multinomial  \n",
    ">\n",
    "> Naive Bayes Gaussian\n",
    ">\n",
    "> Decision Tree (with hyperparameters tuned using GridSearchCV)\n",
    ">\n",
    "> Random Forest (with hyperparameters tuned using RandomizedSearchCV)\n",
    "\n",
    "<hr>"
   ]
  },
  {
   "cell_type": "markdown",
   "metadata": {
    "slideshow": {
     "slide_type": "subslide"
    }
   },
   "source": [
    "<a name=\"results\"></a>\n",
    "# Results \n",
    "I used train-test split to train and assess our models using the following criteria:\n",
    "\n",
    "> <b>Accuracy (and the variance between train and test accuracy to detect over- or underfitting)</b><em>To what extent can the model successfully classify?</em><p>\n",
    "> <b>Precision</b>\n",
    "> <em>Ratio of correctly predicted positive observations to the total predicted positive observations</em><p>\n",
    "> <b>Recall</b>\n",
    "> <em>Ratio of correctly predicted positive observations to the all observations in actual class</em><p>\n",
    "> <b>F1 score</b>\n",
    "> <em>Weighted average of precision and recall, taking false negatives and false positives into account</em>\n",
    "<hr>"
   ]
  },
  {
   "cell_type": "markdown",
   "metadata": {
    "slideshow": {
     "slide_type": "subslide"
    }
   },
   "source": [
    "# Successful model \n",
    "The model that I successfully deployed against unknown data in a new test set was the Naive Bayes Gaussian.\n",
    "\n",
    "<img src=\"../img/final.png\">\n",
    "\n",
    "> This model boasted the highest accuracy of all models tested, as well as the smallest variance between accuracy against training vs test data; the model was actually slightly underfitted at -4.85% variance.\n",
    "<hr>"
   ]
  },
  {
   "cell_type": "markdown",
   "metadata": {
    "slideshow": {
     "slide_type": "subslide"
    }
   },
   "source": [
    "# Model overview \n",
    "We trained two different Naive Bayes models: Multinomial and Gaussian. \n",
    "<img src=\"../img/bayes-scores.png\"><img src=\"../img/bayes-cm.png\">\n",
    "Both models performed well and were slightly underfit. Multinomial had a lower variance, but it was edged out by Gaussian in all other metrics."
   ]
  },
  {
   "cell_type": "markdown",
   "metadata": {
    "slideshow": {
     "slide_type": "subslide"
    }
   },
   "source": [
    "# Model overview \n",
    "I trained and optimized a decision-tree model. \n",
    "<img src=\"../img/dtree-scores.png\"><img src=\"../img/dtree-cm.png\">\n",
    "The default decision-tree model was dramatically overfit at over 25%. Optimization using GridSearchCV helped reduce overfitting but at the significant expense of accuracy."
   ]
  },
  {
   "cell_type": "markdown",
   "metadata": {
    "slideshow": {
     "slide_type": "subslide"
    }
   },
   "source": [
    "# Model overview \n",
    "I also trained and optimized a random-forest model. \n",
    "\n",
    "<img src=\"../img/rforest-scores.png\"><img src=\"../img/rforest-cm.png\">\n",
    "\n",
    "The default model was significantly overfit; optimization helped, but overall performance compared unfavourably with the NB models."
   ]
  },
  {
   "cell_type": "markdown",
   "metadata": {
    "slideshow": {
     "slide_type": "slide"
    }
   },
   "source": [
    "# Data visualization"
   ]
  },
  {
   "cell_type": "markdown",
   "metadata": {},
   "source": [
    "I took all the scores of all of the models and put them into a dataframe for comparison purposes."
   ]
  },
  {
   "cell_type": "code",
   "execution_count": 1,
   "metadata": {
    "slideshow": {
     "slide_type": "fragment"
    }
   },
   "outputs": [],
   "source": [
    "import pandas as pd\n",
    "import seaborn as sns\n",
    "import matplotlib.pyplot as plt\n",
    "evaluation = pd.read_csv('../data/evaluation.csv')"
   ]
  },
  {
   "cell_type": "code",
   "execution_count": 16,
   "metadata": {
    "slideshow": {
     "slide_type": "fragment"
    }
   },
   "outputs": [
    {
     "data": {
      "text/html": [
       "<div>\n",
       "<style scoped>\n",
       "    .dataframe tbody tr th:only-of-type {\n",
       "        vertical-align: middle;\n",
       "    }\n",
       "\n",
       "    .dataframe tbody tr th {\n",
       "        vertical-align: top;\n",
       "    }\n",
       "\n",
       "    .dataframe thead th {\n",
       "        text-align: right;\n",
       "    }\n",
       "</style>\n",
       "<table border=\"1\" class=\"dataframe\">\n",
       "  <thead>\n",
       "    <tr style=\"text-align: right;\">\n",
       "      <th></th>\n",
       "      <th>model</th>\n",
       "      <th>Variance</th>\n",
       "      <th>train_accuracy</th>\n",
       "      <th>test_accuracy</th>\n",
       "      <th>test_precision</th>\n",
       "      <th>test_recall</th>\n",
       "      <th>test_f1</th>\n",
       "    </tr>\n",
       "  </thead>\n",
       "  <tbody>\n",
       "    <tr>\n",
       "      <th>0</th>\n",
       "      <td>Naïve Bayes Multinomial</td>\n",
       "      <td>-1.56</td>\n",
       "      <td>91.78</td>\n",
       "      <td>93.34</td>\n",
       "      <td>99.32</td>\n",
       "      <td>90.25</td>\n",
       "      <td>94.57</td>\n",
       "    </tr>\n",
       "    <tr>\n",
       "      <th>1</th>\n",
       "      <td>Naïve Bayes Gaussian</td>\n",
       "      <td>-4.85</td>\n",
       "      <td>90.63</td>\n",
       "      <td>95.47</td>\n",
       "      <td>92.24</td>\n",
       "      <td>1.00</td>\n",
       "      <td>95.96</td>\n",
       "    </tr>\n",
       "    <tr>\n",
       "      <th>2</th>\n",
       "      <td>Decision Tree</td>\n",
       "      <td>25.74</td>\n",
       "      <td>99.64</td>\n",
       "      <td>73.90</td>\n",
       "      <td>78.77</td>\n",
       "      <td>77.01</td>\n",
       "      <td>77.88</td>\n",
       "    </tr>\n",
       "    <tr>\n",
       "      <th>3</th>\n",
       "      <td>Decision Tree Optimized</td>\n",
       "      <td>6.33</td>\n",
       "      <td>78.63</td>\n",
       "      <td>72.30</td>\n",
       "      <td>71.69</td>\n",
       "      <td>78.89</td>\n",
       "      <td>75.12</td>\n",
       "    </tr>\n",
       "    <tr>\n",
       "      <th>4</th>\n",
       "      <td>Random Forest</td>\n",
       "      <td>18.55</td>\n",
       "      <td>99.64</td>\n",
       "      <td>81.09</td>\n",
       "      <td>91.55</td>\n",
       "      <td>79.25</td>\n",
       "      <td>84.96</td>\n",
       "    </tr>\n",
       "    <tr>\n",
       "      <th>5</th>\n",
       "      <td>Random Forest Optimized</td>\n",
       "      <td>13.84</td>\n",
       "      <td>94.27</td>\n",
       "      <td>80.43</td>\n",
       "      <td>91.32</td>\n",
       "      <td>79.37</td>\n",
       "      <td>84.93</td>\n",
       "    </tr>\n",
       "    <tr>\n",
       "      <th>6</th>\n",
       "      <td>Final Naïve Bayes Gaussian</td>\n",
       "      <td>0.00</td>\n",
       "      <td>0.00</td>\n",
       "      <td>96.44</td>\n",
       "      <td>93.91</td>\n",
       "      <td>1.00</td>\n",
       "      <td>96.86</td>\n",
       "    </tr>\n",
       "  </tbody>\n",
       "</table>\n",
       "</div>"
      ],
      "text/plain": [
       "                        model  Variance  train_accuracy  test_accuracy  \\\n",
       "0     Naïve Bayes Multinomial     -1.56           91.78          93.34   \n",
       "1        Naïve Bayes Gaussian     -4.85           90.63          95.47   \n",
       "2               Decision Tree     25.74           99.64          73.90   \n",
       "3     Decision Tree Optimized      6.33           78.63          72.30   \n",
       "4               Random Forest     18.55           99.64          81.09   \n",
       "5     Random Forest Optimized     13.84           94.27          80.43   \n",
       "6  Final Naïve Bayes Gaussian      0.00            0.00          96.44   \n",
       "\n",
       "   test_precision  test_recall  test_f1  \n",
       "0           99.32        90.25    94.57  \n",
       "1           92.24         1.00    95.96  \n",
       "2           78.77        77.01    77.88  \n",
       "3           71.69        78.89    75.12  \n",
       "4           91.55        79.25    84.96  \n",
       "5           91.32        79.37    84.93  \n",
       "6           93.91         1.00    96.86  "
      ]
     },
     "execution_count": 16,
     "metadata": {},
     "output_type": "execute_result"
    }
   ],
   "source": [
    "evaluation.head(10)"
   ]
  },
  {
   "cell_type": "markdown",
   "metadata": {},
   "source": [
    "<img src=\"../img/model-comparison.png\">"
   ]
  },
  {
   "cell_type": "code",
   "execution_count": 17,
   "metadata": {
    "slideshow": {
     "slide_type": "subslide"
    }
   },
   "outputs": [
    {
     "data": {
      "image/png": "[encoded data removed]",
      "text/plain": [
       "<Figure size 792x612 with 1 Axes>"
      ]
     },
     "metadata": {},
     "output_type": "display_data"
    }
   ],
   "source": [
    "sns.set(style=\"whitegrid\")\n",
    "fig_dims = (11, 8.5)\n",
    "fig, ax = plt.subplots(figsize=fig_dims)\n",
    "ax = sns.barplot(x=\"test_accuracy\", y=\"model\", data=evaluation)"
   ]
  },
  {
   "cell_type": "code",
   "execution_count": 18,
   "metadata": {
    "slideshow": {
     "slide_type": "subslide"
    }
   },
   "outputs": [
    {
     "data": {
      "image/png": "[encoded data removed]",
      "text/plain": [
       "<Figure size 792x612 with 1 Axes>"
      ]
     },
     "metadata": {},
     "output_type": "display_data"
    }
   ],
   "source": [
    "sns.set(style=\"whitegrid\")\n",
    "fig_dims = (11, 8.5)\n",
    "fig, ax = plt.subplots(figsize=fig_dims)\n",
    "ax = sns.barplot(x=\"Variance\", y=\"model\", data=evaluation)"
   ]
  },
  {
   "cell_type": "markdown",
   "metadata": {
    "slideshow": {
     "slide_type": "slide"
    }
   },
   "source": [
    "<a name=\"recommendations\"></a>\n",
    "# Conclusions and recommendations \n",
    "I conclude from the model statistics that this project is viable and meets the criteria for success. Next steps include expanding the model's training to include as many pieces of content as is computationally reasonable, and to strategize about further experiments with different inputs, including different forms of social media and other writing sources.  \n",
    "\n",
    "<hr>"
   ]
  },
  {
   "cell_type": "markdown",
   "metadata": {
    "slideshow": {
     "slide_type": "slide"
    }
   },
   "source": [
    "<a name=\"admin_and_setup\"></a>\n",
    "# Technical implementation\n",
    "\n",
    "## Administration and setup \n",
    "\n",
    "### Imports"
   ]
  },
  {
   "cell_type": "code",
   "execution_count": 2,
   "metadata": {
    "slideshow": {
     "slide_type": "subslide"
    }
   },
   "outputs": [],
   "source": [
    "# Note: Running all cells will take approximately 70 minutes to complete\n",
    "\n",
    "# pandas and numpy\n",
    "import pandas as pd\n",
    "import numpy as np\n",
    "\n",
    "# http imports\n",
    "import requests\n",
    "from bs4 import BeautifulSoup\n",
    "\n",
    "# nltk imports\n",
    "import nltk\n",
    "from nltk.corpus import stopwords\n",
    "from nltk.stem import WordNetLemmatizer\n",
    "from nltk.stem.porter import PorterStemmer\n",
    "from nltk.tokenize import RegexpTokenizer\n",
    "\n",
    "# sci-kit learn imports\n",
    "from sklearn.base import TransformerMixin\n",
    "from sklearn.ensemble import RandomForestClassifier\n",
    "from sklearn.feature_extraction.text import CountVectorizer, TfidfVectorizer\n",
    "from sklearn.linear_model import LogisticRegression\n",
    "from sklearn.metrics import confusion_matrix, plot_confusion_matrix, classification_report\n",
    "from sklearn.model_selection import train_test_split, cross_val_score, GridSearchCV, RandomizedSearchCV\n",
    "from sklearn.naive_bayes import MultinomialNB, GaussianNB, BernoulliNB\n",
    "from sklearn.pipeline import Pipeline\n",
    "from sklearn.preprocessing import StandardScaler, FunctionTransformer, LabelEncoder\n",
    "from sklearn.svm import LinearSVC\n",
    "from sklearn.tree import DecisionTreeClassifier\n",
    "\n",
    "# Presentation and visuals\n",
    "import seaborn as sns\n",
    "import matplotlib.pyplot as plt\n",
    "\n",
    "# This magic line will allow you to generate plots\n",
    "# within the Jupyter notebook.\n",
    "%matplotlib inline\n",
    "from IPython.display import HTML\n",
    "from IPython.core.display import display, HTML\n",
    "from IPython.core.interactiveshell import InteractiveShell\n",
    "from IPython.display import Markdown, display\n",
    "from pprint import pprint\n",
    "pd.options.display.max_seq_items = 2000\n",
    "pd.options.display.max_rows = 4000\n",
    "#pd.set_option(display.max_columns), None\n",
    "\n",
    "# other imports\n",
    "import random\n",
    "import regex as re\n",
    "import time"
   ]
  },
  {
   "cell_type": "markdown",
   "metadata": {
    "slideshow": {
     "slide_type": "slide"
    }
   },
   "source": [
    "## Get the reddit content"
   ]
  },
  {
   "cell_type": "code",
   "execution_count": 3,
   "metadata": {
    "slideshow": {
     "slide_type": "fragment"
    }
   },
   "outputs": [],
   "source": [
    "# Create a completely empty Dataframe without any column names, indices or data\n",
    "df = pd.DataFrame()"
   ]
  },
  {
   "cell_type": "code",
   "execution_count": 4,
   "metadata": {
    "slideshow": {
     "slide_type": "fragment"
    }
   },
   "outputs": [],
   "source": [
    "# This should take less than a minute, not posing any\n",
    "# undue pressure on Reddit's server resources\n",
    "\n",
    "# Use a for loop to iterate through this list of subreddits, \n",
    "# using the PushShift API and requests to pull the content from a specific date\n",
    "# then write the content into my pandas dataframe\n",
    "\n",
    "subreddit_list = ['drugs', 'opiates', 'stims', 'drinking', 'recovery', \n",
    "                  'opiatesrecovery', 'redditorsinrecovery', 'stopdrinking']\n",
    "\n",
    "\n",
    "for subreddit in subreddit_list:\n",
    "    params = {'subreddit' : subreddit, 'size' : 500, 'before' : 1585819518}\n",
    "    url = 'https://api.pushshift.io/reddit/submission/search'\n",
    "    results = requests.get(url, params)\n",
    "    rawdata = results.json()\n",
    "    posts = rawdata['data']\n",
    "    df = df.append(posts, sort=True)"
   ]
  },
  {
   "cell_type": "code",
   "execution_count": 5,
   "metadata": {
    "slideshow": {
     "slide_type": "fragment"
    }
   },
   "outputs": [
    {
     "data": {
      "text/plain": [
       "Stims                  500\n",
       "Drinking               500\n",
       "OpiatesRecovery        500\n",
       "recovery               500\n",
       "opiates                500\n",
       "Drugs                  500\n",
       "REDDITORSINRECOVERY    500\n",
       "stopdrinking           500\n",
       "Name: subreddit, dtype: int64"
      ]
     },
     "execution_count": 5,
     "metadata": {},
     "output_type": "execute_result"
    }
   ],
   "source": [
    "# Confirm the subreddits and number of posts\n",
    "df['subreddit'].value_counts()"
   ]
  },
  {
   "cell_type": "markdown",
   "metadata": {
    "slideshow": {
     "slide_type": "slide"
    }
   },
   "source": [
    "<a name=\"cleaning_and_eda\"></a>\n",
    "## Cleaning and exploratory data analysis (EDA)"
   ]
  },
  {
   "cell_type": "code",
   "execution_count": 6,
   "metadata": {
    "slideshow": {
     "slide_type": "fragment"
    }
   },
   "outputs": [
    {
     "data": {
      "text/plain": [
       "Index(['all_awardings', 'allow_live_comments', 'author', 'author_cakeday',\n",
       "       'author_flair_background_color', 'author_flair_css_class',\n",
       "       'author_flair_richtext', 'author_flair_template_id',\n",
       "       'author_flair_text', 'author_flair_text_color', 'author_flair_type',\n",
       "       'author_fullname', 'author_patreon_flair', 'author_premium', 'awarders',\n",
       "       'banned_by', 'can_mod_post', 'contest_mode', 'created_utc',\n",
       "       'crosspost_parent', 'crosspost_parent_list', 'domain', 'edited',\n",
       "       'full_link', 'gildings', 'id', 'is_crosspostable', 'is_meta',\n",
       "       'is_original_content', 'is_reddit_media_domain', 'is_robot_indexable',\n",
       "       'is_self', 'is_video', 'link_flair_background_color',\n",
       "       'link_flair_css_class', 'link_flair_richtext', 'link_flair_template_id',\n",
       "       'link_flair_text', 'link_flair_text_color', 'link_flair_type', 'locked',\n",
       "       'media', 'media_embed', 'media_metadata', 'media_only', 'no_follow',\n",
       "       'num_comments', 'num_crossposts', 'over_18', 'parent_whitelist_status',\n",
       "       'permalink', 'pinned', 'poll_data', 'post_hint', 'preview', 'pwls',\n",
       "       'removed_by_category', 'retrieved_on', 'score', 'secure_media',\n",
       "       'secure_media_embed', 'selftext', 'send_replies', 'spoiler',\n",
       "       'steward_reports', 'stickied', 'subreddit', 'subreddit_id',\n",
       "       'subreddit_subscribers', 'subreddit_type', 'suggested_sort',\n",
       "       'thumbnail', 'thumbnail_height', 'thumbnail_width', 'title',\n",
       "       'total_awards_received', 'url', 'whitelist_status', 'wls'],\n",
       "      dtype='object')"
      ]
     },
     "execution_count": 6,
     "metadata": {},
     "output_type": "execute_result"
    }
   ],
   "source": [
    "# Some typical EDA\n",
    "\n",
    "df.columns # we are only interested in subreddit and selftext"
   ]
  },
  {
   "cell_type": "code",
   "execution_count": 7,
   "metadata": {
    "slideshow": {
     "slide_type": "fragment"
    }
   },
   "outputs": [
    {
     "data": {
      "text/plain": [
       "all_awardings                     object\n",
       "allow_live_comments                 bool\n",
       "author                            object\n",
       "author_cakeday                    object\n",
       "author_flair_background_color     object\n",
       "author_flair_css_class            object\n",
       "author_flair_richtext             object\n",
       "author_flair_template_id          object\n",
       "author_flair_text                 object\n",
       "author_flair_text_color           object\n",
       "author_flair_type                 object\n",
       "author_fullname                   object\n",
       "author_patreon_flair              object\n",
       "author_premium                    object\n",
       "awarders                          object\n",
       "banned_by                         object\n",
       "can_mod_post                        bool\n",
       "contest_mode                        bool\n",
       "created_utc                        int64\n",
       "crosspost_parent                  object\n",
       "crosspost_parent_list             object\n",
       "domain                            object\n",
       "edited                           float64\n",
       "full_link                         object\n",
       "gildings                          object\n",
       "id                                object\n",
       "is_crosspostable                    bool\n",
       "is_meta                             bool\n",
       "is_original_content                 bool\n",
       "is_reddit_media_domain              bool\n",
       "is_robot_indexable                  bool\n",
       "is_self                             bool\n",
       "is_video                            bool\n",
       "link_flair_background_color       object\n",
       "link_flair_css_class              object\n",
       "link_flair_richtext               object\n",
       "link_flair_template_id            object\n",
       "link_flair_text                   object\n",
       "link_flair_text_color             object\n",
       "link_flair_type                   object\n",
       "locked                              bool\n",
       "media                             object\n",
       "media_embed                       object\n",
       "media_metadata                    object\n",
       "media_only                          bool\n",
       "no_follow                           bool\n",
       "num_comments                       int64\n",
       "num_crossposts                     int64\n",
       "over_18                             bool\n",
       "parent_whitelist_status           object\n",
       "permalink                         object\n",
       "pinned                              bool\n",
       "poll_data                         object\n",
       "post_hint                         object\n",
       "preview                           object\n",
       "pwls                             float64\n",
       "removed_by_category               object\n",
       "retrieved_on                       int64\n",
       "score                              int64\n",
       "secure_media                      object\n",
       "secure_media_embed                object\n",
       "selftext                          object\n",
       "send_replies                        bool\n",
       "spoiler                             bool\n",
       "steward_reports                   object\n",
       "stickied                            bool\n",
       "subreddit                         object\n",
       "subreddit_id                      object\n",
       "subreddit_subscribers              int64\n",
       "subreddit_type                    object\n",
       "suggested_sort                    object\n",
       "thumbnail                         object\n",
       "thumbnail_height                 float64\n",
       "thumbnail_width                  float64\n",
       "title                             object\n",
       "total_awards_received              int64\n",
       "url                               object\n",
       "whitelist_status                  object\n",
       "wls                              float64\n",
       "dtype: object"
      ]
     },
     "execution_count": 7,
     "metadata": {},
     "output_type": "execute_result"
    }
   ],
   "source": [
    "df.dtypes # created_utc is in Unix epoch time"
   ]
  },
  {
   "cell_type": "code",
   "execution_count": 8,
   "metadata": {
    "slideshow": {
     "slide_type": "fragment"
    }
   },
   "outputs": [
    {
     "data": {
      "text/plain": [
       "(4000, 79)"
      ]
     },
     "execution_count": 8,
     "metadata": {},
     "output_type": "execute_result"
    }
   ],
   "source": [
    "df.shape # There are 4,000 observations vs 79 standard features in the original Reddit dataset"
   ]
  },
  {
   "cell_type": "code",
   "execution_count": 9,
   "metadata": {
    "slideshow": {
     "slide_type": "fragment"
    }
   },
   "outputs": [
    {
     "data": {
      "text/plain": [
       "S1eep1essInSeatt1e      66\n",
       "[deleted]               33\n",
       "Dirty_D_Damnit          17\n",
       "guacatmole              14\n",
       "awp501                  13\n",
       "isaacsauce555           12\n",
       "TheNewJanBrady          11\n",
       "HoneyBeeBzz             11\n",
       "Kranes32                11\n",
       "psxchosocial            10\n",
       "Astimf21                10\n",
       "Alissa143               10\n",
       "Empty_Lettuce            9\n",
       "BermudaDreieck           9\n",
       "kp6615                   9\n",
       "setsekaj                 8\n",
       "DMTMA                    8\n",
       "ivan_darulevskij         8\n",
       "Tweaking_Hard            8\n",
       "fappinatwork             8\n",
       "bunnyb2004               8\n",
       "Gottchen                 8\n",
       "ADAPdevelopment          8\n",
       "butterflyfrenchfry       7\n",
       "clovergirlerin           7\n",
       "speedbackzzz             7\n",
       "bl00d_                   7\n",
       "VeinStereo               7\n",
       "ahansman2020             7\n",
       "TaosLady                 7\n",
       "songbirdjen              7\n",
       "Dokus-Pokus              7\n",
       "chocoloco54              7\n",
       "prada666                 6\n",
       "DMTGod69                 6\n",
       "Esby1211                 6\n",
       "mike_f1988               6\n",
       "VDANSI                   6\n",
       "Ijustwannagiveitatry     6\n",
       "supadupachop             6\n",
       "Monopolah                6\n",
       "mixmastermatt92          6\n",
       "callof_thevoid           6\n",
       "TheWayOutPodcast         6\n",
       "babygray18               6\n",
       "MistressAlice49          6\n",
       "Average-No               5\n",
       "BigBucs731               5\n",
       "MerkinSeasonYo           5\n",
       "Catma222                 5\n",
       "mynameisvanja            5\n",
       "anjuna_970               5\n",
       "qui9                     5\n",
       "Highwaay                 5\n",
       "Psalms1793               5\n",
       "JojoV76                  5\n",
       "recoveringtweaker        5\n",
       "ImRickyChapman           5\n",
       "muzaffar11               5\n",
       "blueskyn01se             5\n",
       "wertwert2000             5\n",
       "theatworkmom             5\n",
       "dstart4                  5\n",
       "jax2bcn                  5\n",
       "YourBrokenOne            5\n",
       "Nicoledploudre           5\n",
       "smacc7                   5\n",
       "dannylee3782             5\n",
       "skinnylighter            4\n",
       "miraclman31              4\n",
       "evanadamdad              4\n",
       "Schizothrow112           4\n",
       "lizzytemp                4\n",
       "Ohpeeitz                 4\n",
       "RichMan_24               4\n",
       "rach_mentalhealth        4\n",
       "mehooooo                 4\n",
       "Humble_SoulJah           4\n",
       "Coxandtales              4\n",
       "ElLocoLobo666            4\n",
       "chemicoletiquette        4\n",
       "kollaps3                 4\n",
       "Mayo_an_Vodka            4\n",
       "soujoude                 4\n",
       "helpiehat5               4\n",
       "cw9595cw                 4\n",
       "DisturbedOranges         4\n",
       "metrot                   4\n",
       "silverfangme             4\n",
       "ReCelledeathz            4\n",
       "recoverysortof           4\n",
       "Nomoreturtless           4\n",
       "missaudrey324            4\n",
       "SweetAsOleander          4\n",
       "naomitokyo               4\n",
       "SoberPTC                 4\n",
       "AxlDaffodil              4\n",
       "fmbdinero                4\n",
       "JennyyPie2               4\n",
       "Flippa888                4\n",
       "IDEKneMOE                4\n",
       "yeeeeert_                4\n",
       "crazyh66                 3\n",
       "matteoj760               3\n",
       "eatsbootyforfun          3\n",
       "joe12221T                3\n",
       "TigerUppercut08          3\n",
       "JayWasHereX              3\n",
       "epooqeo                  3\n",
       "otc108                   3\n",
       "spacecadet32188          3\n",
       "DamselWithTheDrugs       3\n",
       "thatjunkieoverthere      3\n",
       "clmsoprano               3\n",
       "Opiate_Rage              3\n",
       "Niadralades              3\n",
       "verkoren                 3\n",
       "Had_To_Change_Name       3\n",
       "Trumpeachment            3\n",
       "h8teCh00sing             3\n",
       "danknutsack              3\n",
       "CanadianBPD              3\n",
       "Luvqxo                   3\n",
       "helpandadvicepleasee     3\n",
       "ak47revolver9            3\n",
       "Oakester                 3\n",
       "the-real-beanos          3\n",
       "k8thinksyrgr8            3\n",
       "stevemw                  3\n",
       "PositiveMeal4            3\n",
       "krittykushxo             3\n",
       "Jdizzlerino              3\n",
       "murules1                 3\n",
       "Spinny_is_here           3\n",
       "xaniel_da_throwaway      3\n",
       "LeatherResident          3\n",
       "Dent18                   3\n",
       "appalachianma            3\n",
       "Cinderella96761          3\n",
       "ozazark                  3\n",
       "davidmoorad              3\n",
       "sexualnodrivee           3\n",
       "Geomull                  3\n",
       "DrunkGuyExplains         3\n",
       "george_from_the_UK       3\n",
       "JCCD112                  3\n",
       "flyingbabaloo23          3\n",
       "kllisp123                3\n",
       "NecessaryFee7            3\n",
       "daBoiBeLikeYo            3\n",
       "eltraplords8n            3\n",
       "anmolrainat13            3\n",
       "jmargocubs               3\n",
       "letsdrinkpod             3\n",
       "sahewins                 3\n",
       "TommyKlonopin            3\n",
       "German-Horticulture      3\n",
       "rboom123                 3\n",
       "aparadiselost            3\n",
       "LuckyMiracle37           3\n",
       "HeftyBagDatShit          3\n",
       "taranto111               3\n",
       "AyenonEEmus              3\n",
       "raptorpizza              3\n",
       "legal_u4ia               3\n",
       "anxiousgirl2471169       3\n",
       "TriggeredFeminists8      3\n",
       "LilxSmoke                3\n",
       "throwawaythrone13456     3\n",
       "LSDXMT                   3\n",
       "agroat7                  3\n",
       "KittenWhispersnCandy     3\n",
       "amidisse                 3\n",
       "Macadamia1               3\n",
       "docdocassrammerjamer     3\n",
       "babygirlneedstovent      3\n",
       "M0bl3y01                 3\n",
       "3000max                  3\n",
       "jmpace6161               3\n",
       "imawesome666             3\n",
       "offtheoxy                3\n",
       "Tripletryagain           3\n",
       "spidersrcool--           3\n",
       "craftboy90               3\n",
       "MetroMaker               3\n",
       "DummyThicThrowaway       3\n",
       "katsNeo                  3\n",
       "TripTeamSix              3\n",
       "docfuginhawluhday803     3\n",
       "OpioidConnoisseur        3\n",
       "Eva_that_bitch           3\n",
       "suburbanmessiah47        3\n",
       "kmac419                  3\n",
       "milli2323                3\n",
       "sToOpiD_mOnkEEEy         3\n",
       "jhnlmn19th4pr1l          3\n",
       "dyingoutwest94           3\n",
       "adrenalina2020           3\n",
       "TimeIsTheMindOfSpace     3\n",
       "spunlikespidermike       3\n",
       "Ethanyolo1999            3\n",
       "0megaaa                  3\n",
       "panfluidgodsent          3\n",
       "addonustheXII            3\n",
       "arhombus                 3\n",
       "Classic-Ordinary         3\n",
       "KyleH123                 3\n",
       "j_marine                 3\n",
       "Eccentric_Waffles        3\n",
       "KunkleGrunkle            3\n",
       "SpitInMyAss              3\n",
       "benzodid                 3\n",
       "sharxuea                 3\n",
       "rooklez                  2\n",
       "ThatMrk73936             2\n",
       "Sketchy_Drawers          2\n",
       "ImProbablyHigh999        2\n",
       "kisameyare1              2\n",
       "hashtagswagfag           2\n",
       "theearthisflat-_-        2\n",
       "JustOnDrugs              2\n",
       "windowpane77             2\n",
       "Divine-Nemesis           2\n",
       "3lizah                   2\n",
       "FallSevenTimes           2\n",
       "OtherWedding7            2\n",
       "noodle0                  2\n",
       "PAPADELKS6969            2\n",
       "gordonj78                2\n",
       "RxGz8908                 2\n",
       "Donny_Donowitz99         2\n",
       "Master-Eman              2\n",
       "GrimButDim               2\n",
       "HouseofCash82            2\n",
       "Hamzeol_Murf             2\n",
       "PhillyCJ29               2\n",
       "DrugzNpancakes           2\n",
       "Whenwillitgeteasier2     2\n",
       "ShananayRodriguez        2\n",
       "bigpoodle                2\n",
       "sPACErAnger4358          2\n",
       "ExBABYYy                 2\n",
       "TrunkWeed                2\n",
       "SativaLungz              2\n",
       "crystalblue111           2\n",
       "Vitalexistence2          2\n",
       "indigolynx               2\n",
       "JuiceDigits              2\n",
       "Chordstrike1994          2\n",
       "CalvinK1                 2\n",
       "imiximix                 2\n",
       "MissKayNYC               2\n",
       "reddit3reddit4           2\n",
       "walksandteapots          2\n",
       "nooooiice                2\n",
       "Besttobetrueblue         2\n",
       "ashapeless               2\n",
       "dopaminesnake            2\n",
       "naixel4200               2\n",
       "zsreport                 2\n",
       "the2bguy                 2\n",
       "quitandrecoveryIQRR      2\n",
       "throwawaydetox90         2\n",
       "jkday3                   2\n",
       "OdinVeins                2\n",
       "FermentableYou           2\n",
       "Serbiarakijaball         2\n",
       "shortyafter              2\n",
       "TittieMilkTittieMilk     2\n",
       "TheWildColonialBoy1      2\n",
       "Illbury_Doughboy         2\n",
       "dtdelarosa83             2\n",
       "TNTTNTTNT9               2\n",
       "mattybradd               2\n",
       "AnnaAdderall             2\n",
       "dabhash                  2\n",
       "Dartaga                  2\n",
       "Amphetauser              2\n",
       "klf052494                2\n",
       "throwawayawhat           2\n",
       "Dotdueller               2\n",
       "beanbumper               2\n",
       "5ir_Isaac                2\n",
       "Camdonius_503            2\n",
       "druggiethrowaway4206     2\n",
       "saxgod420                2\n",
       "picklesarelife1          2\n",
       "Stairway-To-Survival     2\n",
       "1phello                  2\n",
       "Dwight321                2\n",
       "smokeNbroke              2\n",
       "KetamineKittie           2\n",
       "throwawayawayhelprel     2\n",
       "KhansStrike1984          2\n",
       "guysenbergington         2\n",
       "Janna81                  2\n",
       "doughboyhazlemonade      2\n",
       "USFparteez               2\n",
       "Useful-Staff             2\n",
       "echaloya                 2\n",
       "staycool81               2\n",
       "narwhalfinger            2\n",
       "Gynocology               2\n",
       "pinkkshinyultrablast     2\n",
       "Sufficient-Sub           2\n",
       "psychonaut4020           2\n",
       "SafetyFirstChildren      2\n",
       "09buddylee               2\n",
       "voiceofcalm              2\n",
       "bone_shadows             2\n",
       "bebb123                  2\n",
       "spinderella69            2\n",
       "jamiebbarton             2\n",
       "syrup_guard2020          2\n",
       "misdiagnosisxx1          2\n",
       "smojphace92              2\n",
       "ilovemydogandket         2\n",
       "potential1               2\n",
       "Synx74                   2\n",
       "goggle_glass             2\n",
       "Honey_Society            2\n",
       "age-of-republic          2\n",
       "Exquisitecrafts          2\n",
       "Hallelujah58             2\n",
       "dangerblaster            2\n",
       "lurkin_murican           2\n",
       "pastelligiallo           2\n",
       "Tiny_Prize               2\n",
       "LadyIntr0vert            2\n",
       "XxXx_USER_NAME_xXxX      2\n",
       "oxycaughtyouslippinn     2\n",
       "aflockaaaa               2\n",
       "Austinstephens332        2\n",
       "fancylamp12              2\n",
       "BenzoBenAgain            2\n",
       "sp0okypumpkin666         2\n",
       "therealdeb               2\n",
       "clownfemme               2\n",
       "gdgddggds                2\n",
       "Lumpy-Scholar            2\n",
       "tephtephy28              2\n",
       "IWishIWasBatman123       2\n",
       "AllThings7               2\n",
       "mcguivrfive              2\n",
       "gotdamn77                2\n",
       "throw_away_throw_asj     2\n",
       "lucyblu663               2\n",
       "Joshwebdev               2\n",
       "Packman9317              2\n",
       "tweaksquad666            2\n",
       "ouchieacid               2\n",
       "spunth                   2\n",
       "realcat67                2\n",
       "jjw332                   2\n",
       "Bee9898                  2\n",
       "YouthInAsia3000          2\n",
       "CorrectGrowth            2\n",
       "SMEGMA_CHEESE            2\n",
       "Satanicha                2\n",
       "rainbowrider33           2\n",
       "today-youcan             2\n",
       "Kendrick0014             2\n",
       "iyitteooydyoxyyof        2\n",
       "tiredchild777            2\n",
       "koopfarm                 2\n",
       "drylipsandchapstick      2\n",
       "ansonparker19            2\n",
       "diamondsodacoma          2\n",
       "SteveusChrist            2\n",
       "nansAshes69              2\n",
       "HATE__THIS__LIFE         2\n",
       "urnotbanningme           2\n",
       "bjl1998                  2\n",
       "VenturedUponInsult       2\n",
       "swolebodyyy              2\n",
       "brodieowo                2\n",
       "Google_1t                2\n",
       "dtilly2006               2\n",
       "Alternative_Attempt      2\n",
       "hbjj96                   2\n",
       "vibekilluh               2\n",
       "uterusdweller            2\n",
       "ccastraining             2\n",
       "Slashgingerflasher       2\n",
       "MWanve                   2\n",
       "BoJack_Slothman          2\n",
       "NimerinoHD               2\n",
       "GiftShopAboriginal       2\n",
       "lovedrugs-               2\n",
       "jasonberrywin            2\n",
       "MasturbatingMiles        2\n",
       "throwaway-help12349      2\n",
       "SqueeShee                2\n",
       "gingy760                 2\n",
       "Airziggy                 2\n",
       "ihatedrewthompson        2\n",
       "HoldenAJohnson           2\n",
       "BigPeePeeJutsu           2\n",
       "DrSubs                   2\n",
       "DopeGuy1234              2\n",
       "heyitsthephoneguy        2\n",
       "darknite669              2\n",
       "jordan3122               2\n",
       "nikeswoosh27             2\n",
       "dshroyer9                2\n",
       "7sagesotebamboogrove     2\n",
       "ardi-t                   2\n",
       "Codster850               2\n",
       "4nickbrokemywrist        2\n",
       "velveteen-               2\n",
       "weirdgirl9               2\n",
       "lizzy5433x               2\n",
       "globalinfonic            2\n",
       "scriptbusser             2\n",
       "neptunesice88            2\n",
       "twrpupdate               2\n",
       "makegreatsteak           2\n",
       "Jdough90                 2\n",
       "jarop21                  2\n",
       "idonthavetime4that       2\n",
       "mchrisos                 2\n",
       "Nothing_is_Easy          2\n",
       "hxneyb                   2\n",
       "coulldntthinkofaname     2\n",
       "ShredManyGnar            2\n",
       "alongshore               2\n",
       "ukiyoboy                 2\n",
       "castlefreak7             2\n",
       "Kinglens311              2\n",
       "nondual_duelist          2\n",
       "Johndough1066            2\n",
       "IllReputation5           2\n",
       "Professor-Zulu           2\n",
       "gustimon                 2\n",
       "alaskasbarbiegirl        2\n",
       "yo_ells                  2\n",
       "ArdentWolf42             2\n",
       "steelOxycotton           2\n",
       "ChummyRoo                2\n",
       "giantspacechicken        2\n",
       "touchmeanal              2\n",
       "asdf_xd                  2\n",
       "plasticpaddy1029         2\n",
       "PurpleFisty              2\n",
       "DiabolicalThings         2\n",
       "AlteredThoughts          2\n",
       "TrainingCounter1         2\n",
       "AmBam94                  2\n",
       "Pit2077                  2\n",
       "throwaway9w82626181      2\n",
       "badgirlisbad             2\n",
       "AmericanMuskrat          2\n",
       "EN070903                 2\n",
       "brewtwan                 2\n",
       "Proper-Effective         2\n",
       "Yeahiwilldothatsure      2\n",
       "valentinus89             2\n",
       "Anonymousfreddie         2\n",
       "dirtysoupboy             2\n",
       "BallowGoob               2\n",
       "tuuzo                    2\n",
       "ChiefAzrael              2\n",
       "muchachaganj             2\n",
       "standstilldamit          2\n",
       "Kab33r                   2\n",
       "PennyLanesFree           2\n",
       "obesewhitekids           2\n",
       "clavicl666               2\n",
       "BenzoBoynDrugs           2\n",
       "WeDoRecover12            2\n",
       "Paloma_67                2\n",
       "KemWiz                   2\n",
       "laceupcase19xx           2\n",
       "SIKIC__                  2\n",
       "AMoristar                2\n",
       "donttouchmypurse420      2\n",
       "shiivangii10             2\n",
       "nooddlebitxh             2\n",
       "Whatnow1290              2\n",
       "Anomic-III               2\n",
       "ii2ay                    2\n",
       "schizo_downer95          2\n",
       "AlivePodcast             2\n",
       "breadfittler             2\n",
       "EqualsPro                2\n",
       "ChromeBitchSickTrips     2\n",
       "Forward74                2\n",
       "mucat32                  2\n",
       "marduk123789             2\n",
       "droogMaster64            2\n",
       "vbgsbes                  2\n",
       "aussiefrzz16             2\n",
       "G00Acid                  2\n",
       "kacper791                2\n",
       "OddProfit7               2\n",
       "ukdubsupport21           2\n",
       "MajorJunkie              2\n",
       "Ricco301                 2\n",
       "RelentlesRecognition     2\n",
       "WeFuckOnTheClouds05      2\n",
       "303lipglass              2\n",
       "bingooo1010              2\n",
       "Ssleepygoat              2\n",
       "jason0889                2\n",
       "hatework7124             2\n",
       "LizVSLiz                 2\n",
       "So-brrr                  2\n",
       "jessicamac012            2\n",
       "thecrazycatlady__        2\n",
       "ownerofbigdog            2\n",
       "BraveSea6                2\n",
       "69BoofIt                 2\n",
       "jamesnugg01              2\n",
       "zukothelion              2\n",
       "SpeedLimitsSuck89        2\n",
       "JunkieJesus80            2\n",
       "greedisgood82            2\n",
       "asimplespeck             2\n",
       "logsf415                 2\n",
       "camojang                 2\n",
       "WVHung79                 2\n",
       "clankypumpkin            2\n",
       "RisingChadows            2\n",
       "MrMolo                   2\n",
       "donut8214                2\n",
       "superss231               2\n",
       "6dunkelheit9             2\n",
       "lalalapop                2\n",
       "baconbits1997            2\n",
       "idkwhattodoorg           2\n",
       "JTh0837                  2\n",
       "KleinGuilherme           2\n",
       "scotchbonnet2021         2\n",
       "anon12838459             2\n",
       "lemononyo                2\n",
       "Sonny1717                2\n",
       "slamers_aus              2\n",
       "mishonato                2\n",
       "chrisb-                  1\n",
       "jerichostorm             1\n",
       "StimulifeHealth          1\n",
       "TaoOfSobriety            1\n",
       "Jseaton42                1\n",
       "jdawgsplace              1\n",
       "jws319                   1\n",
       "BeneficialBiscotti3      1\n",
       "hvyucujbcfuxdgsud        1\n",
       "lsd-d                    1\n",
       "yorgisuforum69           1\n",
       "adelaidetrucktow         1\n",
       "h7oyNn                   1\n",
       "ingloriousbasterd54      1\n",
       "korbysage                1\n",
       "Needyouradvice93         1\n",
       "damnit_why_              1\n",
       "5argon                   1\n",
       "beauregrd                1\n",
       "IMG_4346                 1\n",
       "FallToSlow               1\n",
       "bennydabinman            1\n",
       "Funkygirl0302            1\n",
       "UltraKawaiiFuckboi       1\n",
       "JCwizard115              1\n",
       "MisterMayham             1\n",
       "memphisborn1962          1\n",
       "YikeDyke                 1\n",
       "SanctuaryBuyer           1\n",
       "TheMrCheetoFingers       1\n",
       "dontworryicanfixit       1\n",
       "neatbeats66666           1\n",
       "sunnnydayhappy           1\n",
       "terces4ccid              1\n",
       "clean_n_serene           1\n",
       "wecantallknowing         1\n",
       "luseferr                 1\n",
       "LongHairNBeardCALI       1\n",
       "throw_me_away_daddi      1\n",
       "sleepeats                1\n",
       "sipavelli                1\n",
       "dogcmp6                  1\n",
       "empatheticanger          1\n",
       "Nisfit89                 1\n",
       "madison11221             1\n",
       "Ark2226                  1\n",
       "KeyMedicine0             1\n",
       "AndrewCarlsin            1\n",
       "tescoldshadow            1\n",
       "audrey042912             1\n",
       "OohBarracuda729          1\n",
       "rambetino                1\n",
       "BroodingBryanAdams       1\n",
       "AlexMadgw                1\n",
       "captain_rex501st         1\n",
       "youcannotsaypopandfo     1\n",
       "caL-cs                   1\n",
       "angelo_907               1\n",
       "DeadDogBountyHunter      1\n",
       "jajaja0027               1\n",
       "mertonfuton              1\n",
       "ExoticCaptive            1\n",
       "ThrowawayCrewMan         1\n",
       "JamesReddit2             1\n",
       "robinsteg                1\n",
       "BlueXanzCan              1\n",
       "YungGymRat               1\n",
       "minigodd                 1\n",
       "Kingkhakii               1\n",
       "thriftythirsty           1\n",
       "yadayadawhatnow          1\n",
       "AyoubOfficiel            1\n",
       "lulumeme                 1\n",
       "EliteMind49              1\n",
       "Mshoneydew               1\n",
       "malikzyn                 1\n",
       "thomasally117            1\n",
       "PED-JiuJitsu             1\n",
       "pjupz                    1\n",
       "literally_lite_rally     1\n",
       "l3wison33                1\n",
       "Swastikaguatama          1\n",
       "FasterSober              1\n",
       "ThrowawayEVE_            1\n",
       "MuscleBound76            1\n",
       "shadbakht                1\n",
       "GiveKidsDope             1\n",
       "Not_Brandon              1\n",
       "tuesdazee                1\n",
       "sammyboy79               1\n",
       "SalemApple89             1\n",
       "snaresht                 1\n",
       "Flexin5FPS               1\n",
       "MrMuscleGuy              1\n",
       "iWill_-DRINCC            1\n",
       "jiggyciggy               1\n",
       "MyClothesWereInThere     1\n",
       "thatbeervirus            1\n",
       "Arctic_Strider           1\n",
       "jufries                  1\n",
       "RyboXBL                  1\n",
       "Vellichoris              1\n",
       "PositiveType9            1\n",
       "psyche-mikey             1\n",
       "Ode2za                   1\n",
       "skunkwitbier             1\n",
       "UnderArdo                1\n",
       "rankyandstanky           1\n",
       "dub_side                 1\n",
       "blomystupidbrainsout     1\n",
       "wendenator               1\n",
       "fineflyguy               1\n",
       "lotexo5051               1\n",
       "detroitgrasshopper       1\n",
       "Psychology_Study19       1\n",
       "travisboyd19             1\n",
       "EL_hoju                  1\n",
       "El_tacocabra             1\n",
       "Water_Bottle05           1\n",
       "aDammAvailableUser       1\n",
       "LongjumpingCelery        1\n",
       "delamuredarling808       1\n",
       "Obruther                 1\n",
       "seethruceiling           1\n",
       "Cannonb510               1\n",
       "spookydascary667         1\n",
       "gypsyjew420              1\n",
       "WeAreAlreadyInHell       1\n",
       "supremekyloren           1\n",
       "Totuser69                1\n",
       "sammydabs                1\n",
       "joeyjojoejrshabadoo_     1\n",
       "Relapsq                  1\n",
       "rjstim                   1\n",
       "moochs                   1\n",
       "just-another-poster      1\n",
       "MrEnchiladas             1\n",
       "cotastrophy17            1\n",
       "Gladiator564             1\n",
       "CoolGuy180               1\n",
       "Hockey48482002           1\n",
       "wickedmaleficent         1\n",
       "Ferrovipathes1           1\n",
       "Blue-Does                1\n",
       "Moneyman3658             1\n",
       "johnsheepcomehome        1\n",
       "ISnortWeed420            1\n",
       "TheSadBoy1               1\n",
       "iLovePills23             1\n",
       "Creative_Assist          1\n",
       "claudiusquentin          1\n",
       "tigersandterrapins       1\n",
       "Moomoos1982              1\n",
       "Weshwego                 1\n",
       "Kandihapped              1\n",
       "-teaqueen-               1\n",
       "Satanskorn               1\n",
       "michaelgmoore333         1\n",
       "sacchen                  1\n",
       "massguy66                1\n",
       "NortonHayes              1\n",
       "Codi77                   1\n",
       "cajuncape                1\n",
       "Marmatus                 1\n",
       "allmethdup318            1\n",
       "rosemaryrants            1\n",
       "UpstairsAnalyst          1\n",
       "14elirht                 1\n",
       "n-ghtvale                1\n",
       "bababa1919               1\n",
       "CR7_JR_11                1\n",
       "84dayz                   1\n",
       "jfinnzo                  1\n",
       "JuliaBarisReef           1\n",
       "Sufficient_Pudding       1\n",
       "heartlessgiraff          1\n",
       "Early_Title              1\n",
       "toribeatle               1\n",
       "snailtitties             1\n",
       "cuckreddit               1\n",
       "CoolHandLuke9001         1\n",
       "CarlMarksthespot         1\n",
       "lordnani                 1\n",
       "HardxCory                1\n",
       "imasensation             1\n",
       "fathergrumble            1\n",
       "Zyxzes                   1\n",
       "dianepoz779              1\n",
       "shortkonner              1\n",
       "alikiemele               1\n",
       "Tigerlinemen57           1\n",
       "bachwerk                 1\n",
       "sodeanki                 1\n",
       "robologan                1\n",
       "Riddleboxed              1\n",
       "thisfind                 1\n",
       "SpecificallyPorn         1\n",
       "mcrdcr                   1\n",
       "DirEnGay                 1\n",
       "dingerz4dayz             1\n",
       "tomeskuchen              1\n",
       "beerdepressed            1\n",
       "Pussypolitics            1\n",
       "MadeUpMeanings           1\n",
       "an_edema_ruh             1\n",
       "gabevisuals_             1\n",
       "schyrche                 1\n",
       "Gplock                   1\n",
       "stanktooth               1\n",
       "Mr_Firley                1\n",
       "MariaPapaverina          1\n",
       "Cucumbaaaaa              1\n",
       "AntisocialServices       1\n",
       "mamamiaithurts           1\n",
       "caitspaghetti            1\n",
       "DarthLeftist             1\n",
       "bananananananana1        1\n",
       "Hightower_VA             1\n",
       "ellex5                   1\n",
       "SweetyVolty              1\n",
       "kazukes                  1\n",
       "Lurker0459               1\n",
       "FrostyGarden420          1\n",
       "MmmLSD                   1\n",
       "LotusBlooming90          1\n",
       "nevillxxx                1\n",
       "s1mpl3f1rst              1\n",
       "Antidotebeatz            1\n",
       "hey_vmike_saucel_her     1\n",
       "Anniebanana50            1\n",
       "jesusONmeff              1\n",
       "Tylerb0713               1\n",
       "foggydreamer83           1\n",
       "EastWorldliness6         1\n",
       "muelmoney                1\n",
       "stikemanley              1\n",
       "KaiserWilliam95          1\n",
       "ThatCaptainTripz         1\n",
       "basicalme                1\n",
       "hamburgerbuns63          1\n",
       "_night_cat               1\n",
       "Blendin_haymaker         1\n",
       "Tunaozturk99             1\n",
       "kingniga420              1\n",
       "wintering6               1\n",
       "BipBoopp                 1\n",
       "JimGlo                   1\n",
       "FullAgent3               1\n",
       "lovelydisputes           1\n",
       "confusedperson003        1\n",
       "pvprikv                  1\n",
       "The_LeBron_James         1\n",
       "TPMELLOW0821             1\n",
       "HonorablexChairman       1\n",
       "TDreamVIII               1\n",
       "Brutally_Sarcastic       1\n",
       "CooleBanane420           1\n",
       "Sparrowandblades         1\n",
       "tristam30                1\n",
       "Marshmallowcat91         1\n",
       "Wreckoner_               1\n",
       "badvibes42O              1\n",
       "stimfuker                1\n",
       "Elryndil                 1\n",
       "mndjnrt                  1\n",
       "theamazingchey           1\n",
       "Jashan2017               1\n",
       "Deplete1                 1\n",
       "Scriabi                  1\n",
       "Animal_Pharmacy          1\n",
       "MeltAwayWorld            1\n",
       "The902Jumpman            1\n",
       "calypsocasino            1\n",
       "zyzy125                  1\n",
       "313_RN                   1\n",
       "sorusch                  1\n",
       "ChasinChiccen            1\n",
       "throwawayopiates9876     1\n",
       "archieshapeero           1\n",
       "oxosmooches              1\n",
       "CoffinJoe87              1\n",
       "MaxShadowCat             1\n",
       "ilikelucy1               1\n",
       "madblondeugly            1\n",
       "freak_shack              1\n",
       "barrybondsplug           1\n",
       "WhatDaHellBobbyKaty      1\n",
       "buffalolabrat            1\n",
       "Matej23031               1\n",
       "kb4245                   1\n",
       "imtheluckyloser          1\n",
       "jonny055                 1\n",
       "panicinanikin            1\n",
       "wozmatic                 1\n",
       "Sad-Reminders            1\n",
       "netflixandnang           1\n",
       "Undeadzombiedog          1\n",
       "Gohbraztsovashka         1\n",
       "Billyjamesict            1\n",
       "vaginadentataa           1\n",
       "monkaSS88                1\n",
       "TwinFlash                1\n",
       "assinthesandiego         1\n",
       "cljet08                  1\n",
       "NEK449                   1\n",
       "thefirstcenturion        1\n",
       "in2ammelancholy          1\n",
       "pushmaster2019           1\n",
       "Microfagit99             1\n",
       "medicus_vulneratum       1\n",
       "deanie1970               1\n",
       "MJD03                    1\n",
       "searchformeincosmos      1\n",
       "mrpaul1111               1\n",
       "nugs5ever                1\n",
       "Professor_Bookman        1\n",
       "Krirkish                 1\n",
       "ad4m-is-cre4tive         1\n",
       "TheMasterNate            1\n",
       "wafflegrenade            1\n",
       "aaaron64                 1\n",
       "dbsgirl                  1\n",
       "jordanbb4529             1\n",
       "AngryGoose               1\n",
       "JakeDonaghue             1\n",
       "thebankerbyday           1\n",
       "Probablyidkthough        1\n",
       "scarlemoue               1\n",
       "P_Mac_Daddy9292          1\n",
       "PizzaLover102            1\n",
       "Doofusgohome             1\n",
       "deebeezkneez             1\n",
       "Time-Ladder              1\n",
       "Miselfis                 1\n",
       "absn0body                1\n",
       "cehrhardt                1\n",
       "Smartarsefartarse        1\n",
       "control_alt_yeet         1\n",
       "MediumSkin2              1\n",
       "XmanORE                  1\n",
       "skarbux                  1\n",
       "throwawhdns              1\n",
       "_Aspire                  1\n",
       "nojpok                   1\n",
       "mishymishy1              1\n",
       "velvetsevens             1\n",
       "Blaine9299               1\n",
       "agentbammy               1\n",
       "tothosewhoarefree        1\n",
       "prairiedeath             1\n",
       "the_toxic_bug            1\n",
       "Sketchy-Doc              1\n",
       "emmainthesnow            1\n",
       "FeelsTrees               1\n",
       "SEND_ME_UR_ASSHOLE       1\n",
       "cbd1026                  1\n",
       "k1ckhisa55cbass          1\n",
       "Plagman39339             1\n",
       "sedona71717              1\n",
       "bammc                    1\n",
       "RunCrazyDogMom           1\n",
       "cynflowers               1\n",
       "txTHUNDERPONY            1\n",
       "quietmoney513            1\n",
       "AaronMcCarter            1\n",
       "VensawRenshaw            1\n",
       "gazd11                   1\n",
       "euclidianomori           1\n",
       "LJ_7                     1\n",
       "Realist419               1\n",
       "sabeth70                 1\n",
       "stayterpy                1\n",
       "nyfats                   1\n",
       "beefisdelicious          1\n",
       "EnjoyLifeAndNature       1\n",
       "liveinsanity010          1\n",
       "green_man1834            1\n",
       "mikro19xx                1\n",
       "aprilnicole0827          1\n",
       "milovat                  1\n",
       "RonnieB435               1\n",
       "BlackSheep52             1\n",
       "BackwoodsBillyCBR        1\n",
       "kittygrey07              1\n",
       "Thedirtyspoon17          1\n",
       "troymasters              1\n",
       "obelisk56                1\n",
       "Brandonn861              1\n",
       "ryyuke                   1\n",
       "TheAnarchist9081         1\n",
       "yungbanspizzaman         1\n",
       "psychonautictendency     1\n",
       "fl34                     1\n",
       "NeedingHelpHelping       1\n",
       "PhilLeotardo96           1\n",
       "bipolar-addict           1\n",
       "SmokinPemex              1\n",
       "mirmelkey                1\n",
       "100billshirt             1\n",
       "handsomeawkward1         1\n",
       "MassiveOreo              1\n",
       "curlyheadedmongoose      1\n",
       "Likeimacollapse          1\n",
       "comedyfang               1\n",
       "i-me-and-myself          1\n",
       "willsteves               1\n",
       "Im_NotThePope            1\n",
       "--gg                     1\n",
       "sewerPikkle              1\n",
       "GreyandDribbly           1\n",
       "Amiyahxo_                1\n",
       "Christimerforthetame     1\n",
       "throwaway288293201       1\n",
       "drbanimahd               1\n",
       "Allizane45               1\n",
       "mishkablitz              1\n",
       "CertainCrazy3            1\n",
       "LOSSERdenial             1\n",
       "kappuccino14             1\n",
       "AccomplishingNothing     1\n",
       "Corbinjs98               1\n",
       "BaroqueBrook             1\n",
       "EnlightenedAnthrax       1\n",
       "Lonelyloser22            1\n",
       "Cuseorangeball           1\n",
       "Mesagne777               1\n",
       "NeatPea                  1\n",
       "Johndrinks               1\n",
       "mountmoo                 1\n",
       "ectofive                 1\n",
       "morphn-monster           1\n",
       "Talissah                 1\n",
       "AveryPhrenic             1\n",
       "catedintoxi              1\n",
       "SignificantSpeaker1      1\n",
       "BassMusicIsLife          1\n",
       "kileygiroux              1\n",
       "glitterandmischief       1\n",
       "freshorangepeel          1\n",
       "yeetstevenson            1\n",
       "bigbuba68                1\n",
       "MyNaymzYeff              1\n",
       "Atxredhead333            1\n",
       "halfbakedblake           1\n",
       "Electronic-Limit         1\n",
       "BeebosWorld              1\n",
       "ethanalecvance           1\n",
       "unknown_3k               1\n",
       "mydrugprofile            1\n",
       "Bg301                    1\n",
       "Beneficial_Raspberry     1\n",
       "MotherCattle             1\n",
       "doomedmeat               1\n",
       "tomahawk747              1\n",
       "BeginningAmbassador3     1\n",
       "laughinghyena688         1\n",
       "Father_Gascoigne_420     1\n",
       "IHateSkittlesssssss      1\n",
       "interiordivine           1\n",
       "YARRdude                 1\n",
       "Waewagw                  1\n",
       "lil_skrape               1\n",
       "skeetinyoureye666        1\n",
       "YoungLilMadaraUchiha     1\n",
       "valiumisbliss            1\n",
       "MaleINFP                 1\n",
       "dyelyn666                1\n",
       "juggalo_icp              1\n",
       "Spac3xJ3sus              1\n",
       "561skim                  1\n",
       "obeginningnoen           1\n",
       "Jim_bo77                 1\n",
       "nemfontos18              1\n",
       "frogdog137               1\n",
       "my_widdendream           1\n",
       "defZeppelin69            1\n",
       "llagos87                 1\n",
       "LetsGetFloated           1\n",
       "mangocupoftea            1\n",
       "lettersandspace          1\n",
       "MyStyleSpot              1\n",
       "uhhitme67                1\n",
       "FreeFromMorgan           1\n",
       "realchancemedley         1\n",
       "did_you_find_the_fox     1\n",
       "LyonG81                  1\n",
       "effing_usernames         1\n",
       "anaburo                  1\n",
       "SergeantBonwick          1\n",
       "GoldCardiologist5        1\n",
       "alphabasaurus            1\n",
       "204coffee                1\n",
       "WhiteCutieRed            1\n",
       "Lookingfor16             1\n",
       "rubberoctopussy          1\n",
       "TurbulentHomework        1\n",
       "Lilly-of-the-Lake        1\n",
       "SporkFanClub             1\n",
       "jonsemen69               1\n",
       "zakdave                  1\n",
       "cedwarred                1\n",
       "Number406                1\n",
       "Mescalito1022            1\n",
       "davidsensory             1\n",
       "Waiting-For-October      1\n",
       "BrasandPantiesPoet       1\n",
       "lizathornberries         1\n",
       "Putrid-Signature         1\n",
       "OfficerDougEiffel        1\n",
       "BanjoGal6809             1\n",
       "creemsoda                1\n",
       "-SandraDee-              1\n",
       "darkzone28               1\n",
       "brandonjc23              1\n",
       "thrwmeaway111            1\n",
       "EitherSuit4              1\n",
       "Alyce_Queensbury         1\n",
       "ufuckinkiddinme          1\n",
       "MachoTac0s               1\n",
       "infinite_serenity        1\n",
       "noahmungeeeee            1\n",
       "missisipihalfstep        1\n",
       "didactic_                1\n",
       "MysteriousSong5          1\n",
       "welzhrose                1\n",
       "bodhi_hi                 1\n",
       "gsattro                  1\n",
       "JackFuckCockBag          1\n",
       "doublesweeee             1\n",
       "Wonderful-Commission     1\n",
       "Pleaseconsume            1\n",
       "ghosteulogy              1\n",
       "Larg3stTuna              1\n",
       "WillieMac2019            1\n",
       "Eyebuck                  1\n",
       "Tyestr                   1\n",
       "Wyvern_68                1\n",
       "domegranate              1\n",
       "LittleBirdie14           1\n",
       "maxwellsheehan           1\n",
       "anonhill                 1\n",
       "AntiMoneySquandering     1\n",
       "KinkyHomoSapian          1\n",
       "seussngoose              1\n",
       "jennz0rs                 1\n",
       "dches1991                1\n",
       "pmcdny                   1\n",
       "Dope483                  1\n",
       "JamminJimmyJaye          1\n",
       "11Y1N                    1\n",
       "macaronicupboard         1\n",
       "Schockstarre             1\n",
       "throwaway28276897        1\n",
       "grimace1717              1\n",
       "prometheusco6987         1\n",
       "narr4rob                 1\n",
       "OutrageousCook1          1\n",
       "kkloveday                1\n",
       "wiitchflowers            1\n",
       "nosungdeeptongs          1\n",
       "DrMontalban              1\n",
       "M1lli0nAnts              1\n",
       "dbspearman               1\n",
       "ButCanUdoDis_no          1\n",
       "throwaway463738          1\n",
       "DUB_C-connect101         1\n",
       "BupeKing                 1\n",
       "RiskyBiscuits101         1\n",
       "clwclw12345              1\n",
       "Greenie9604              1\n",
       "Keeyrah                  1\n",
       "college_abracadaver      1\n",
       "SavageTapes22            1\n",
       "buffandbitchin96         1\n",
       "Eerased                  1\n",
       "Subtle__Numb             1\n",
       "EatThisRock              1\n",
       "gatech1995               1\n",
       "dididothisright7         1\n",
       "EuronGreyjoy420          1\n",
       "PharmaAthena             1\n",
       "Surgical-corp            1\n",
       "grizzmane                1\n",
       "thekiddddddddd           1\n",
       "bobbyfez                 1\n",
       "onjevaten                1\n",
       "sunlit_cairn             1\n",
       "OkayBuddy1234567         1\n",
       "metalphiliac             1\n",
       "konel7                   1\n",
       "FC_Dubbs                 1\n",
       "dumbinnocentbabe         1\n",
       "FentOverOxyAllDay        1\n",
       "j0nny_a55h0l3            1\n",
       "dtbm666                  1\n",
       "HasaDiga-Eebowai         1\n",
       "Shaundogg83              1\n",
       "HotAtNightim             1\n",
       "acidho3                  1\n",
       "kush-tripdude420         1\n",
       "genogrondin              1\n",
       "ssskek                   1\n",
       "Babocks_Show             1\n",
       "weeman2525               1\n",
       "lydia18514               1\n",
       "iwasnteverbanned         1\n",
       "DixyNormiss              1\n",
       "swami_twocargarajee      1\n",
       "Dysphoric_Otter          1\n",
       "Superfly1980             1\n",
       "clemcampbell             1\n",
       "sorchablossoms           1\n",
       "Deku1977                 1\n",
       "HereToRiskItAll          1\n",
       "tylerj0203               1\n",
       "melias24                 1\n",
       "RapeyDave69              1\n",
       "bigredlax44              1\n",
       "Mactheman098             1\n",
       "tlk13                    1\n",
       "abigail_notAbi           1\n",
       "StonedAlbatross          1\n",
       "wewewawa                 1\n",
       "K-HoIe                   1\n",
       "ramsier4                 1\n",
       "Read_it_somewhere        1\n",
       "Palidor                  1\n",
       "Stoned-Jan               1\n",
       "Helene31                 1\n",
       "MiiKeYxC                 1\n",
       "flipp76                  1\n",
       "X2546                    1\n",
       "suzanne1017              1\n",
       "freebirdls               1\n",
       "Astral-foundations       1\n",
       "TonyTheTiger94           1\n",
       "EvilVector               1\n",
       "artlanta                 1\n",
       "xxCaptainCoolxx          1\n",
       "NearNatural              1\n",
       "whoateallmyweed          1\n",
       "Jgrace31                 1\n",
       "canteatjustone           1\n",
       "amzjoey                  1\n",
       "Steampunk_flyboy         1\n",
       "Shadowlab72              1\n",
       "hollasparxx              1\n",
       "Specific-Towel           1\n",
       "DogLover1237212244       1\n",
       "LoveMeHateMeOhWell       1\n",
       "FreddieMacPropanone1     1\n",
       "goodNonEvilHarry         1\n",
       "barelyconscious55        1\n",
       "tacocasual               1\n",
       "handstothesun            1\n",
       "certifiedraerae          1\n",
       "_FreshHeir               1\n",
       "spotts1211               1\n",
       "standinonthecorner       1\n",
       "kamundola                1\n",
       "ontheforth               1\n",
       "Nortagem369              1\n",
       "Insanenowtime            1\n",
       "1mefofa                  1\n",
       "melvinscam               1\n",
       "Zarlook                  1\n",
       "sargentmeatman11         1\n",
       "Smile_like_u_mean_it     1\n",
       "RelevantBarnacle         1\n",
       "Dr_Despacito             1\n",
       "TRUSTKlLL                1\n",
       "dazeddumbass             1\n",
       "SoulWentMIA              1\n",
       "I_love_my_Ruger          1\n",
       "StomyKittyCat            1\n",
       "pcostolo                 1\n",
       "niiooiiceeeee            1\n",
       "MattyHarlesden2018       1\n",
       "Shadowstar1000           1\n",
       "ColossalCassette         1\n",
       "porkyandbusty            1\n",
       "trappedunderice9         1\n",
       "qxlq                     1\n",
       "Oxy_cleans               1\n",
       "banibee                  1\n",
       "redbeardrob              1\n",
       "idontwannaanymore34      1\n",
       "overlapsing              1\n",
       "ghost_ashes              1\n",
       "WaxStatue                1\n",
       "Cool-Craft               1\n",
       "sheanagans               1\n",
       "udderlebowski            1\n",
       "losMandilones            1\n",
       "CAH41                    1\n",
       "lookingup9               1\n",
       "KryptoBoah               1\n",
       "AdmiralBooBerry          1\n",
       "shaneychanUwU            1\n",
       "infernogodess            1\n",
       "ATLienGG249              1\n",
       "ktluvscricket            1\n",
       "herpesfreesince03121     1\n",
       "mwenner88                1\n",
       "dsjunk0                  1\n",
       "suzihell                 1\n",
       "amdetermined             1\n",
       "piecekeeper634642        1\n",
       "quickthroaway666         1\n",
       "brendylady2401           1\n",
       "AstroAmber               1\n",
       "amulcahy624              1\n",
       "559Drummer               1\n",
       "HotSunShower             1\n",
       "tpalmerstudios           1\n",
       "monsieurpooh             1\n",
       "KornikusPC               1\n",
       "whatsthenameyouwant      1\n",
       "Bag_O_Spiders            1\n",
       "Minimum-Jeweler          1\n",
       "MrClean8993              1\n",
       "landthrow9977            1\n",
       "guitardude333            1\n",
       "SupaDupaDarkwingDuck     1\n",
       "salzo6                   1\n",
       "Skipper12655             1\n",
       "clayvn                   1\n",
       "OKAY____BOOMER           1\n",
       "ikurumba                 1\n",
       "HarleyLanaMama           1\n",
       "Godsmack47               1\n",
       "isaacswrestling          1\n",
       "shiddedmypants           1\n",
       "stokersBSU96             1\n",
       "Tongue37                 1\n",
       "JeSuisLaBanane           1\n",
       "EsctasyShake             1\n",
       "Indigolocust             1\n",
       "Exquisite_Pepperoni      1\n",
       "mac_osx                  1\n",
       "bromonstervz             1\n",
       "chris0llucero            1\n",
       "wateryp1nnedeyes         1\n",
       "Astheperfectmoon         1\n",
       "DaithiSan                1\n",
       "Positive-Mine            1\n",
       "jpb41                    1\n",
       "Tru-Queer                1\n",
       "smoothslappyhours        1\n",
       "AaronToKlaw              1\n",
       "minkaxilic20             1\n",
       "Low2High92               1\n",
       "unicornprincess1997      1\n",
       "drphilgood1010           1\n",
       "5-methoxy-NN-DMT         1\n",
       "Crumble_Eve              1\n",
       "Neosant                  1\n",
       "Chrisb2rn                1\n",
       "CoolFox94                1\n",
       "tonywitthatommy          1\n",
       "dcbake                   1\n",
       "quarterromani            1\n",
       "izpeplaak                1\n",
       "natonio55                1\n",
       "kickypie                 1\n",
       "Veronica1166             1\n",
       "MajorMorphone            1\n",
       "back-asswards            1\n",
       "rmmjnh                   1\n",
       "throwaway119497          1\n",
       "Wantingalilmore          1\n",
       "CertMedia                1\n",
       "nasonstephens            1\n",
       "herrfrosteus             1\n",
       "KingdomKeyKeenan         1\n",
       "boyswannamary            1\n",
       "Lezz926                  1\n",
       "ManyOutlandishness2      1\n",
       "Petermouse32             1\n",
       "Cutekittens012           1\n",
       "momoIndakut              1\n",
       "MTbuckit                 1\n",
       "xGay_As_Fuckx            1\n",
       "999rip                   1\n",
       "FlatJump3                1\n",
       "JBCVA                    1\n",
       "triplesixer66            1\n",
       "-DreamKeeper-            1\n",
       "Shinn808                 1\n",
       "Andrew_Tefft             1\n",
       "JaundicePocahontas       1\n",
       "burgerboymemes           1\n",
       "ifukupeverything         1\n",
       "flavorfrog27             1\n",
       "Suprlean                 1\n",
       "BeardedWonder47          1\n",
       "loerclohs                1\n",
       "fenwayswimmr             1\n",
       "Cheff_T                  1\n",
       "Mellow2033               1\n",
       "_fuzzy_owl_              1\n",
       "instrumental30           1\n",
       "TryinStayPositive        1\n",
       "BadToTheTrombone         1\n",
       "eatuncookedpasta         1\n",
       "kitesurfpro2not4         1\n",
       "looksliketowntome        1\n",
       "SaintsRow2               1\n",
       "Goldfield8               1\n",
       "notthefatha              1\n",
       "xidoneg780               1\n",
       "EthelWinters             1\n",
       "Niche96                  1\n",
       "FreeSpeechIsARight       1\n",
       "robotchild               1\n",
       "Del1riousMax             1\n",
       "HenloKitty666            1\n",
       "shaynecobb               1\n",
       "Slowrolledslow           1\n",
       "vremore                  1\n",
       "Seabreeze12390           1\n",
       "Si-Ran                   1\n",
       "KurdtCarbain             1\n",
       "hollywoodglamorousxo     1\n",
       "babyG1994                1\n",
       "ducatiboy777             1\n",
       "look-a-lurker            1\n",
       "SoberSwimmer             1\n",
       "Rhalrla                  1\n",
       "GreenChileEnchiladas     1\n",
       "Weekly_Language          1\n",
       "throwaway1001234r        1\n",
       "tehbnt                   1\n",
       "0nemorelight             1\n",
       "iluvryanrenolds          1\n",
       "harribao                 1\n",
       "Noone_special25          1\n",
       "Jakeoy                   1\n",
       "dekaao                   1\n",
       "stashking                1\n",
       "Mikedelius               1\n",
       "doebescrait              1\n",
       "stefanlovgren            1\n",
       "MomsMicrowave            1\n",
       "BadMidgetBitches         1\n",
       "whib_m                   1\n",
       "moglovesnog              1\n",
       "bumblebeeee14            1\n",
       "bigheadsmolbrain         1\n",
       "eskatittt                1\n",
       "Vurayyre                 1\n",
       "beefchlef                1\n",
       "Ean211                   1\n",
       "Mindflayer1994           1\n",
       "dummybitchboy            1\n",
       "Throwawayaccountx5       1\n",
       "warri0rp0et              1\n",
       "sicktonsels              1\n",
       "xoxomd                   1\n",
       "mrgirlgaming             1\n",
       "vividlyclear             1\n",
       "calltheplugback          1\n",
       "SpliceyWicey             1\n",
       "insipidmediocrity        1\n",
       "everydaythrwaway13       1\n",
       "dvn-nvd                  1\n",
       "FireCFI956RGV            1\n",
       "out_of_the_ornery        1\n",
       "raw-and-untethered       1\n",
       "my_dark_passenger_45     1\n",
       "Austerhorai              1\n",
       "mugirl2003               1\n",
       "artislife08A             1\n",
       "Jaxt2020                 1\n",
       "Furiousmasturbator10     1\n",
       "outofcontrolnosehair     1\n",
       "IlikeForestsNstuff       1\n",
       "DerWeltenficker          1\n",
       "TheSophist87             1\n",
       "Aliraza88                1\n",
       "MediocreProstitute       1\n",
       "Flylavish                1\n",
       "eiberger1                1\n",
       "laura_landdd             1\n",
       "tijmen909                1\n",
       "hambonex5                1\n",
       "didarocket               1\n",
       "ThawtNot                 1\n",
       "tommymc101               1\n",
       "mnpoorboy                1\n",
       "thegiantpinkwalrus       1\n",
       "districtdave             1\n",
       "Neversaidthatbefore      1\n",
       "Ltshinysides5            1\n",
       "CranberryPerry           1\n",
       "shawty-kei               1\n",
       "SOBHOP                   1\n",
       "ExcellentTone3           1\n",
       "NikkiVsevolodovich       1\n",
       "deumtripper              1\n",
       "NotMonicaLewinsky95      1\n",
       "Chrisneilltalks          1\n",
       "backonthemenuboys        1\n",
       "AidenTheGamerYT          1\n",
       "Where_You_Want_To_Be     1\n",
       "-unspecified-            1\n",
       "hungone48                1\n",
       "blinkbaby29              1\n",
       "fuckaneggbud             1\n",
       "AmIEnablingHer           1\n",
       "xRzaq                    1\n",
       "backkk-                  1\n",
       "Running_machine21        1\n",
       "crestiveusername369      1\n",
       "DreamWalker01            1\n",
       "jzozwho                  1\n",
       "BrokenDumpsterFire       1\n",
       "TheBeardo84              1\n",
       "Trru290703               1\n",
       "GrabTheWheelBro          1\n",
       "Recovid                  1\n",
       "HiM0m                    1\n",
       "robotwithumanhair666     1\n",
       "blairwitch1424           1\n",
       "Joeymeathooks            1\n",
       "sortadark                1\n",
       "kionake                  1\n",
       "MrDootyboi               1\n",
       "ammp1618                 1\n",
       "GetThatSwaggBack         1\n",
       "LucySkyDiamonds17        1\n",
       "pres10alk                1\n",
       "Jojora92                 1\n",
       "Ovixii                   1\n",
       "ImAZuckerForYou          1\n",
       "bulgethrowaway124        1\n",
       "sje12345                 1\n",
       "relaxedFOCUS             1\n",
       "drummerfilmguy           1\n",
       "woe909                   1\n",
       "Zaydmerl                 1\n",
       "fearloathing02           1\n",
       "F_ckDolphins             1\n",
       "Illbethereinfive         1\n",
       "znerofigus               1\n",
       "JayGee66                 1\n",
       "Pack4Ever12              1\n",
       "imthelungs               1\n",
       "Ginger_Vampire89         1\n",
       "MaximumPause9            1\n",
       "myphoneispurple96        1\n",
       "Different-Secret         1\n",
       "Throughandaweigh         1\n",
       "fcuk_its_murder          1\n",
       "RipGuts415               1\n",
       "Arnoud1987000            1\n",
       "snowdood                 1\n",
       "rictuar                  1\n",
       "FFBEgacha                1\n",
       "a_mallett                1\n",
       "JackMcGIrish             1\n",
       "Sovereign_Mind           1\n",
       "the_saas                 1\n",
       "abnsapalap               1\n",
       "deadmuesli               1\n",
       "tialee_                  1\n",
       "Viladoray                1\n",
       "opiate_lifer             1\n",
       "fptnrb                   1\n",
       "shelbylaneboyyy          1\n",
       "SpecialKendrik           1\n",
       "issoupcereal             1\n",
       "TheFuturist47            1\n",
       "CrystalFieldTheorist     1\n",
       "rubdoev                  1\n",
       "frixkfraxk               1\n",
       "dranthy                  1\n",
       "soontobesoberplease      1\n",
       "AFishWithArms            1\n",
       "icandothis77             1\n",
       "Interesting-Dinner       1\n",
       "WednesdaysEye            1\n",
       "pisceseyesx              1\n",
       "whatgoesboom-            1\n",
       "Lambss                   1\n",
       "ahgeezitscametothis      1\n",
       "Dayowulf                 1\n",
       "thursdaygirl-            1\n",
       "lordddolor               1\n",
       "2nd_String_Sports        1\n",
       "Lonely00001              1\n",
       "speeddown007             1\n",
       "lindseee628              1\n",
       "dirtywirtygirl           1\n",
       "Shoelacebasket           1\n",
       "swollenpurpleviolet      1\n",
       "em0b1tch                 1\n",
       "GrowStrong1507           1\n",
       "SailOn1919               1\n",
       "Badger7384               1\n",
       "amphexx                  1\n",
       "ravenclaw188             1\n",
       "Otherwise_Muscle         1\n",
       "JUUL-DILDO               1\n",
       "hairyharrels             1\n",
       "Pappa_Goby               1\n",
       "sm1988                   1\n",
       "Mo_Asal_Ban              1\n",
       "kangenwaterncr           1\n",
       "SteelBadger              1\n",
       "AccomplishedRefuse0      1\n",
       "iamananimal28            1\n",
       "frostymulberry_4         1\n",
       "Rapscallian              1\n",
       "shouldyourself           1\n",
       "fabulousandmessy         1\n",
       "DollarStoreTonyStark     1\n",
       "emama94                  1\n",
       "TheSlayez_55             1\n",
       "AchievingExcellence      1\n",
       "Skeptical-Soul           1\n",
       "MalatestNPS              1\n",
       "Alright-Friend           1\n",
       "pac_pac                  1\n",
       "sugar_price              1\n",
       "a3shadow                 1\n",
       "vellar88                 1\n",
       "jbux187                  1\n",
       "ALongRoad6               1\n",
       "ReeferEater              1\n",
       "Seankingston4ever        1\n",
       "tdwitt                   1\n",
       "PostCoitalPisser         1\n",
       "Geekedlittlegirl         1\n",
       "link5114                 1\n",
       "questiondragonwizard     1\n",
       "-_-Jt                    1\n",
       "embryonic_journey        1\n",
       "DavidsonJr               1\n",
       "VSVP_SAIF                1\n",
       "fouronebrew              1\n",
       "holyvajeepas             1\n",
       "heliosdiem               1\n",
       "its_kuarters             1\n",
       "sweetnothing9            1\n",
       "RockOx290                1\n",
       "Rampageriley98           1\n",
       "ps4lifehope              1\n",
       "casca2525                1\n",
       "Beckyballard9753         1\n",
       "Oxyboss007               1\n",
       "w0w0x                    1\n",
       "N0tR3ally                1\n",
       "Informal_State           1\n",
       "riverdothflow            1\n",
       "liammccl                 1\n",
       "youngdumbandsober        1\n",
       "LiterallyCannott         1\n",
       "QuittingQuitter          1\n",
       "SeedMango                1\n",
       "NovelPut                 1\n",
       "sweetdeejokesonme        1\n",
       "OMG_YouKaren             1\n",
       "jake51551                1\n",
       "grystyx                  1\n",
       "koli_12                  1\n",
       "Treemeister1233          1\n",
       "Kim_Bong_Un420           1\n",
       "Subutai617               1\n",
       "carovigno111             1\n",
       "eminemsou                1\n",
       "sumwarentyme2011         1\n",
       "MichealCerasButthole     1\n",
       "DavidRandom              1\n",
       "Mac-Nasty                1\n",
       "Monkey_222               1\n",
       "8U663R_5U663R            1\n",
       "AbidElduderino           1\n",
       "Leolily1221              1\n",
       "agmatine                 1\n",
       "RawlingRR                1\n",
       "eekamou5e                1\n",
       "myrebelyell69            1\n",
       "Mister-Walkway           1\n",
       "Mr-Dodo--                1\n",
       "Wokchefjosh              1\n",
       "mylifeassarah123         1\n",
       "Jakeshinns               1\n",
       "datura42                 1\n",
       "GrottyBoots              1\n",
       "meljb91                  1\n",
       "tragichugs101            1\n",
       "SortuhStanced            1\n",
       "patsfan2019              1\n",
       "TrippyTheOne             1\n",
       "psychedelicfoole         1\n",
       "Layogenic_87             1\n",
       "Lazuli828                1\n",
       "excusemeshawty           1\n",
       "Asitis33                 1\n",
       "yohowithrum              1\n",
       "Noredan888               1\n",
       "wildflowersinbloom       1\n",
       "gorerella                1\n",
       "G1nnnn                   1\n",
       "flattire83               1\n",
       "Oneannoyedcanadian       1\n",
       "tseymour27               1\n",
       "anobleroad               1\n",
       "GerryCatalano            1\n",
       "GodAuraDevil             1\n",
       "lauraemck                1\n",
       "mdc2512                  1\n",
       "letsdothisrightnowok     1\n",
       "krn61952                 1\n",
       "sittinginthesauna        1\n",
       "snakerips                1\n",
       "esco710                  1\n",
       "claireupvotes            1\n",
       "MyTongueLookWeird        1\n",
       "Transient-4              1\n",
       "lovehateready            1\n",
       "eldritchstigmata         1\n",
       "WaronTerah               1\n",
       "bananabastard            1\n",
       "duckbutta45              1\n",
       "ericdevice               1\n",
       "throwaway_117611         1\n",
       "C25H34O3                 1\n",
       "nephatwork               1\n",
       "Jaunt-Nominal            1\n",
       "wh0isthi5                1\n",
       "Done_Goofed222           1\n",
       "2020jack                 1\n",
       "clownstastegood          1\n",
       "Middle_Distribution      1\n",
       "Maksy123                 1\n",
       "phlerm                   1\n",
       "pattycakez96             1\n",
       "zeifuu                   1\n",
       "SandThousand             1\n",
       "la_pan_ther_rose         1\n",
       "RobMarenghi              1\n",
       "felix357oc               1\n",
       "vanvipe                  1\n",
       "ahatchingegg             1\n",
       "rubeemiles               1\n",
       "ShardSlammer             1\n",
       "Aido97                   1\n",
       "AdditionalIntention7     1\n",
       "boopidbake               1\n",
       "HomieFusion              1\n",
       "Rishi250                 1\n",
       "MissGyp                  1\n",
       "glitter_cabrota          1\n",
       "CSX302                   1\n",
       "47theway                 1\n",
       "kenziroux                1\n",
       "AmandaHugginkiss83       1\n",
       "this_many_things         1\n",
       "natickthrowaway          1\n",
       "spookster6               1\n",
       "AvidlyApathetic          1\n",
       "patcheswfb               1\n",
       "froggycat8               1\n",
       "Starfox7777777           1\n",
       "anon198887               1\n",
       "LooseSnake348            1\n",
       "paisleyno2               1\n",
       "spungundam               1\n",
       "thadribbla               1\n",
       "hdofhapavdk              1\n",
       "Soggy_Cigarette          1\n",
       "srideout5                1\n",
       "cuthbertswatcher         1\n",
       "k99001                   1\n",
       "tafihof763               1\n",
       "fluffypinkkitties        1\n",
       "megg1221                 1\n",
       "Sherise1210              1\n",
       "flextapeflipflops        1\n",
       "AbolethPancakes          1\n",
       "Sven_the_mediocre        1\n",
       "standsure                1\n",
       "Mifergas578              1\n",
       "myLife2pt0               1\n",
       "Fangletron               1\n",
       "cwild16131               1\n",
       "larsonmars00             1\n",
       "Layne_Cobain             1\n",
       "BroadStreet_Bully5       1\n",
       "giadog                   1\n",
       "sheepwillbesheep         1\n",
       "Bentgolfclub             1\n",
       "CrimsonGandalf           1\n",
       "malchik_spalchik         1\n",
       "kvargisgood              1\n",
       "jaccfr                   1\n",
       "_not_a_virus             1\n",
       "ac2019                   1\n",
       "Interesteduser01         1\n",
       "littlemidgeem            1\n",
       "gpansch                  1\n",
       "myusernamelol            1\n",
       "DuckiBoi21               1\n",
       "dirty_blue_balloons      1\n",
       "wanderingfishy           1\n",
       "TheRowdyRebel            1\n",
       "wiesty1                  1\n",
       "rxbandit-                1\n",
       "HiThisIzMoney            1\n",
       "Tricksr4cats             1\n",
       "IHoppedOnPop             1\n",
       "ZestycloseTip5           1\n",
       "ANeonSea                 1\n",
       "abelsneed                1\n",
       "ReasonableWind           1\n",
       "Bullpitty                1\n",
       "RecoveryFam              1\n",
       "orionandson              1\n",
       "gurlTh3lma               1\n",
       "alreadyused13            1\n",
       "joe-manzon               1\n",
       "quantumwoooo             1\n",
       "SHWP03                   1\n",
       "muddycupzzz              1\n",
       "decentacrosstheboard     1\n",
       "Survival_Guppy           1\n",
       "zolavt                   1\n",
       "it-be-likethat775        1\n",
       "iamalergictocats         1\n",
       "AndreFree1               1\n",
       "paintballjohn101         1\n",
       "octohan                  1\n",
       "CLCLEN                   1\n",
       "jergensbodywash          1\n",
       "boarsheadmustard         1\n",
       "inunnameless             1\n",
       "jklopp                   1\n",
       "sadbuthaooy              1\n",
       "TheRealVigs              1\n",
       "apt5A                    1\n",
       "Nethrix                  1\n",
       "kegwem                   1\n",
       "thanks837                1\n",
       "cragpossum               1\n",
       "Vagabud                  1\n",
       "snapewasamazing          1\n",
       "boofedblunt              1\n",
       "hexmirror                1\n",
       "countygangster           1\n",
       "shy--anon                1\n",
       "ConuAI                   1\n",
       "happilee76               1\n",
       "SBNP95                   1\n",
       "zrevyx                   1\n",
       "ThrowRAoongyy            1\n",
       "nikkic295                1\n",
       "Non-WovenSponges         1\n",
       "maxmus45                 1\n",
       "U_R_Tard                 1\n",
       "comoseenya               1\n",
       "Bigrob7605               1\n",
       "Fx_Mind                  1\n",
       "truffledfrybutter        1\n",
       "nutzername1234           1\n",
       "EdgarAllenOP             1\n",
       "LVRKTHASICKFUCK666       1\n",
       "WorthlessJunkie          1\n",
       "I_am_cursed_hello        1\n",
       "blissherxx               1\n",
       "Ifuckeup                 1\n",
       "privatepersonpeople      1\n",
       "Riyatyagi1               1\n",
       "Rocky87109               1\n",
       "sp00kyd00ky              1\n",
       "Nbm1124                  1\n",
       "slughub                  1\n",
       "reloaded2017             1\n",
       "throwaway_050            1\n",
       "MrJacobs83               1\n",
       "huntej0909               1\n",
       "AlitaBattlePringleTM     1\n",
       "kratonoo                 1\n",
       "HopeofIsrael             1\n",
       "RedpillEatingMonk        1\n",
       "egymike                  1\n",
       "Jdover527                1\n",
       "lilanjonasbae            1\n",
       "EfficientNL8             1\n",
       "dimethiconeprincess      1\n",
       "GettinHealthyFinally     1\n",
       "PastelLSD                1\n",
       "steve7150                1\n",
       "sorrow_of_life           1\n",
       "jayemstyle               1\n",
       "TheDungus                1\n",
       "ForgettingEveryHigh      1\n",
       "letsanalyzethat          1\n",
       "schumonsta               1\n",
       "HeftyOcelot3             1\n",
       "1872ger                  1\n",
       "Cloud_god23              1\n",
       "Karma_aint_no_bitch      1\n",
       "uncklesdoor              1\n",
       "hellplessgf              1\n",
       "Vanillabongwater         1\n",
       "barmysneeze113           1\n",
       "cantfindmy_glasses       1\n",
       "bigboycrossova           1\n",
       "WinterDad32              1\n",
       "sunnyyvirgo              1\n",
       "abf9786                  1\n",
       "Dandy-Randy5             1\n",
       "Creator_have_mercy       1\n",
       "shortcoconut             1\n",
       "amenteco                 1\n",
       "ActNatura                1\n",
       "RelapseRefill11          1\n",
       "Stove_Babadook           1\n",
       "heyimsoni                1\n",
       "symplex                  1\n",
       "KwazieGFX                1\n",
       "walkinbacktogeorgia      1\n",
       "Dextrasaurus_rex         1\n",
       "hwillieyams              1\n",
       "CicadaChaCha             1\n",
       "livnichole91             1\n",
       "agc123456                1\n",
       "Ninjasmurf4hire          1\n",
       "anon1232213              1\n",
       "vapeswave                1\n",
       "jkadlac21                1\n",
       "anonpotat0               1\n",
       "docsinmysparetime        1\n",
       "ChanGemyname2            1\n",
       "rhymeswithpanda1987      1\n",
       "wallacetook              1\n",
       "eoinC13                  1\n",
       "rebeccazimmerman         1\n",
       "gregnegative             1\n",
       "Maddogg333               1\n",
       "golfngarden              1\n",
       "Garfargle                1\n",
       "stoleN71                 1\n",
       "Addictminded             1\n",
       "Jake_373                 1\n",
       "ytguvhbijnkml            1\n",
       "Lilcowpoke               1\n",
       "Skypi67                  1\n",
       "Mushroomthaway           1\n",
       "Golden_Tooth             1\n",
       "kevinnoyola              1\n",
       "mooseman1800             1\n",
       "BPMachine23              1\n",
       "bunnynose23              1\n",
       "iloveblackmetal          1\n",
       "PeaPantalones            1\n",
       "iamready2quit            1\n",
       "smallcrit                1\n",
       "senior_season            1\n",
       "Swimming_Estate          1\n",
       "Postalhoodrat            1\n",
       "smilesreallyalot         1\n",
       "ContainedPorthole        1\n",
       "notsodrunkskunk          1\n",
       "PiCQrisTiTstic           1\n",
       "synthesizemefam          1\n",
       "awayfromhome23           1\n",
       "kbernstx3                1\n",
       "akathekalico             1\n",
       "skytoker52               1\n",
       "Phatmanu12               1\n",
       "CloudBoy-                1\n",
       "WhoaaMan                 1\n",
       "Twon11                   1\n",
       "lila_qualle              1\n",
       "Grand_Lock               1\n",
       "xcarmex                  1\n",
       "Proper-Canary            1\n",
       "Jovefandy                1\n",
       "caitlynashleyy           1\n",
       "EmmyMonroe28             1\n",
       "06EXTN                   1\n",
       "Lazy-Act                 1\n",
       "SevrPops                 1\n",
       "DJWestBest               1\n",
       "pnutbuttahjellytime      1\n",
       "barzandshit              1\n",
       "ElectricalMarch6         1\n",
       "Piter_Vries              1\n",
       "stayingRAD               1\n",
       "aidanmurr                1\n",
       "DomusRetreat             1\n",
       "PersonalTell             1\n",
       "King_Capital_J           1\n",
       "ProfessorVeritatis       1\n",
       "tk4190                   1\n",
       "The_Gardener88           1\n",
       "door_matt452             1\n",
       "disgustingcommode        1\n",
       "digitak-loops            1\n",
       "guesswhonotmenotyou      1\n",
       "Slenderman19961          1\n",
       "opithr                   1\n",
       "EminemVevo66             1\n",
       "nick235989               1\n",
       "idkwhatmyusernamesh9     1\n",
       "danaeuep                 1\n",
       "Rad_Knight               1\n",
       "suckthezucc              1\n",
       "Extra-Iron               1\n",
       "vincentadultlady         1\n",
       "calithemeantime          1\n",
       "Arthur_Cumdragon         1\n",
       "CriticalDark5            1\n",
       "SpectrumPulse            1\n",
       "TheRealCaptainHowdy      1\n",
       "Jonathan-YT              1\n",
       "rupertsdomain            1\n",
       "6wessel6                 1\n",
       "NullNza                  1\n",
       "Lnacho44                 1\n",
       "la_fleurr                1\n",
       "throawaybenzo12          1\n",
       "2sad4you666              1\n",
       "llamantha                1\n",
       "76548-kmB                1\n",
       "irate_sweater            1\n",
       "DwarfyJoe                1\n",
       "kikit1                   1\n",
       "Time2EndItDontUThink     1\n",
       "Godieinapit              1\n",
       "Brighteyesxx             1\n",
       "UnknownError444          1\n",
       "OnionOreily              1\n",
       "bennyj72                 1\n",
       "Medicvted                1\n",
       "claydoughhoe             1\n",
       "JayzCrayz88              1\n",
       "xaniel_the_legend        1\n",
       "QueenOfEnglan            1\n",
       "Conceptionize2           1\n",
       "adhdcreative             1\n",
       "TrickyHelicopter7        1\n",
       "GmBadwick                1\n",
       "Blood_Hoonta             1\n",
       "Orangecheetomanbad       1\n",
       "traxey123                1\n",
       "managinggrace            1\n",
       "IckyBacaSchmitt          1\n",
       "TheoreticalCynicist      1\n",
       "supersexyjazz            1\n",
       "gizmoddawg               1\n",
       "spunnhornyyythrwaway     1\n",
       "xamedon                  1\n",
       "punchg0d                 1\n",
       "mmjarec                  1\n",
       "n1bb1n                   1\n",
       "robbinhoodlums           1\n",
       "simplenotsosimple        1\n",
       "666_KUSH_666             1\n",
       "algino199                1\n",
       "robissan                 1\n",
       "pkkemjsjs                1\n",
       "Ricks_Candy_Diapers      1\n",
       "THROWthisacctAWAYYYY     1\n",
       "CaterpillarQueeen88      1\n",
       "lilbeandip710            1\n",
       "TwoBottleThomas          1\n",
       "gchalamet                1\n",
       "brodiehhh                1\n",
       "pooperscooper0101        1\n",
       "Lee_in_NY                1\n",
       "mehedonia                1\n",
       "im_beck                  1\n",
       "BCFNxSNOOPx              1\n",
       "AdditionalPrimary8       1\n",
       "AdriNany                 1\n",
       "Griffles88               1\n",
       "Ec2195                   1\n",
       "TanNaked2019             1\n",
       "corbett21                1\n",
       "PikaaLuv                 1\n",
       "gravybanger              1\n",
       "stonksmarket             1\n",
       "CutesieSusieQusie        1\n",
       "InsertEdgyUsername8      1\n",
       "One-Strain               1\n",
       "Cwellz123                1\n",
       "nto_the_sun              1\n",
       "TheOldStylo              1\n",
       "TheColossalInvestor      1\n",
       "funky_vlogger            1\n",
       "tryingmybest231          1\n",
       "DarkRollsPrepare2Fry     1\n",
       "PengwinDisco             1\n",
       "blastmetfoff             1\n",
       "ficatranquilo            1\n",
       "YungAurolac              1\n",
       "samandspivey             1\n",
       "ninavu                   1\n",
       "Fakelean6                1\n",
       "muaaaaat                 1\n",
       "Frosta81                 1\n",
       "zsazsafiend              1\n",
       "monkeyfang               1\n",
       "bountifulbusts           1\n",
       "Jane0672                 1\n",
       "princesseliza27          1\n",
       "abaeus                   1\n",
       "JackyBoy0257             1\n",
       "coconutdreamtime         1\n",
       "EasternAppearance8       1\n",
       "Jartello                 1\n",
       "AndromedaM_31            1\n",
       "coralguy88               1\n",
       "throwaway149032394       1\n",
       "Arsehole594              1\n",
       "N64crusader4             1\n",
       "ForeverYoungAtHeart      1\n",
       "MollyWollyOlly           1\n",
       "Heart_Of_A_Lion_         1\n",
       "ROOTMinigun              1\n",
       "nattybummpo              1\n",
       "NnyIsSpooky              1\n",
       "Bulukiya                 1\n",
       "smallfaraway             1\n",
       "The10034                 1\n",
       "Gagereiter               1\n",
       "craytonboosh             1\n",
       "Prohmythoughts           1\n",
       "terryjumpsuit            1\n",
       "findingfoxx              1\n",
       "kpinRob                  1\n",
       "magpiemarie              1\n",
       "thesmallestcock69        1\n",
       "thevirtualpowerhour      1\n",
       "RegexHell                1\n",
       "McClaskeyJ9187           1\n",
       "PuzzleheadedMajor9       1\n",
       "carguy11111              1\n",
       "TheExtremeMidge          1\n",
       "E7K0                     1\n",
       "MrHandsomeBoss           1\n",
       "creamy_pterodactyl       1\n",
       "endmylifearleady         1\n",
       "tinytigerterror          1\n",
       "castertroy1908           1\n",
       "Onlyknown2QBs            1\n",
       "MJJ100                   1\n",
       "curiousalligator         1\n",
       "antibeingkilled          1\n",
       "snifflord                1\n",
       "apple-chancery           1\n",
       "dogbagg                  1\n",
       "gatsby06                 1\n",
       "Surrealinsomniac         1\n",
       "chocobby                 1\n",
       "Mr_wilson33              1\n",
       "tg128                    1\n",
       "MrApplePolisher          1\n",
       "daquanjongun             1\n",
       "6Chthonic0Serpent9       1\n",
       "Fearlessbrother0614      1\n",
       "Rex72727                 1\n",
       "productivehappiness      1\n",
       "lade2rex                 1\n",
       "ImSuez                   1\n",
       "socio16                  1\n",
       "BedlamAndBoomsticks      1\n",
       "foxieinboots             1\n",
       "peryrbaelishgr           1\n",
       "thatgiy185               1\n",
       "ziviaids                 1\n",
       "coffeencigs              1\n",
       "TBurchard16              1\n",
       "imeanbaa                 1\n",
       "__Mist                   1\n",
       "Holyshitletsdothis       1\n",
       "CrucibleGuy              1\n",
       "lilbbbee                 1\n",
       "iammother23              1\n",
       "MMABENNYJ                1\n",
       "Mustyman424              1\n",
       "sg1397                   1\n",
       "KingCrabPot              1\n",
       "WhiskeyClyde             1\n",
       "CarolineAnonymous        1\n",
       "hippy2zippy              1\n",
       "FreeIfUboofIT            1\n",
       "Triune333                1\n",
       "Ferbie_Hunter            1\n",
       "Rakdon                   1\n",
       "HerpeFreeSince03         1\n",
       "Ulabrand                 1\n",
       "RorschachSwe             1\n",
       "savagedaddy909           1\n",
       "skully212                1\n",
       "yellowmarbles            1\n",
       "AGoodKForTheWin          1\n",
       "Quasargyle               1\n",
       "daemonghost90            1\n",
       "Jessica-Anderson1111     1\n",
       "Card_God                 1\n",
       "alenp23                  1\n",
       "ohthedrama44             1\n",
       "mohamedhussien15         1\n",
       "Wiggyjiggyjed08          1\n",
       "alargechipmunk           1\n",
       "finallyfree99            1\n",
       "HashManIndie             1\n",
       "domrigdon                1\n",
       "gcrcosta                 1\n",
       "khalizard                1\n",
       "SUandABdisorders         1\n",
       "kicktheburger            1\n",
       "Shitdude98               1\n",
       "sydneytina               1\n",
       "jakeM82525               1\n",
       "shadows-collide-with     1\n",
       "thorosaurus              1\n",
       "offtheheezayx            1\n",
       "bailynn                  1\n",
       "studmuffin805            1\n",
       "Oxythrowaway200          1\n",
       "saywalkies               1\n",
       "EmmaLeigh52801           1\n",
       "alcoholic_throw_away     1\n",
       "Submatika6869            1\n",
       "matera111                1\n",
       "AliceTrippDaGain         1\n",
       "Samarahaley6             1\n",
       "TheStrawberryMoon        1\n",
       "OmGabaji                 1\n",
       "onhag                    1\n",
       "profound_sedation        1\n",
       "ofwgchristian            1\n",
       "SpiritualFrosting        1\n",
       "WessyNessy               1\n",
       "_ChezzyWezzy             1\n",
       "Districtgod              1\n",
       "nazdiploma               1\n",
       "ely1151                  1\n",
       "abaganoush               1\n",
       "syklyst                  1\n",
       "Magnum_Dongs3            1\n",
       "PequenAri                1\n",
       "prozacprodigy            1\n",
       "FightBackFitness         1\n",
       "missynj                  1\n",
       "bourbonandblow           1\n",
       "Arewenotmen3             1\n",
       "stuckface                1\n",
       "throwaway448422          1\n",
       "neonp0lka                1\n",
       "sipsip_slow              1\n",
       "xen440tway               1\n",
       "schmidty1939             1\n",
       "acidrapisbetter2020      1\n",
       "NotDummyThicJustDumb     1\n",
       "makefartingcool          1\n",
       "iloveyouOwO              1\n",
       "RumpDaddy23              1\n",
       "tobalmoreno2             1\n",
       "SharpiedDrunks           1\n",
       "kayliet570               1\n",
       "kosmosinblu              1\n",
       "foxracing657             1\n",
       "Throawaydrugz89          1\n",
       "emeril-lagasi            1\n",
       "xDaree                   1\n",
       "meobalovn                1\n",
       "keivox                   1\n",
       "BigGayNigForLuis         1\n",
       "TheRealDaddySatan        1\n",
       "mothftman                1\n",
       "Nickthequick303          1\n",
       "kirks4                   1\n",
       "BabyPrincessAlpaca       1\n",
       "happy_crayon             1\n",
       "trapdaddy420             1\n",
       "Daddywarbucks83          1\n",
       "LaurenLane923            1\n",
       "d5lifeWaster             1\n",
       "prettygirlsdontlikeu     1\n",
       "Iljicc                   1\n",
       "Napkween1113             1\n",
       "NZxICE                   1\n",
       "lars-kri                 1\n",
       "Lat3ris                  1\n",
       "JJackieM89               1\n",
       "Cryoptic2                1\n",
       "messedupnails            1\n",
       "chanceparker2            1\n",
       "LonelyDays_              1\n",
       "Rounder057               1\n",
       "bdog1321                 1\n",
       "ValhallaFalling          1\n",
       "billandtedlover69420     1\n",
       "FreshLifeSmile           1\n",
       "Lil_ms_sonnenschein      1\n",
       "not_dead_                1\n",
       "SunOfABeach32207         1\n",
       "maladie42                1\n",
       "plutohippo               1\n",
       "throwawaymightstay       1\n",
       "Reggie2187               1\n",
       "Ratchet0410              1\n",
       "wiscoqueef               1\n",
       "ashlijune                1\n",
       "Lewiement                1\n",
       "redd_kokaine             1\n",
       "unechienandalusia        1\n",
       "_JiminyCricket_          1\n",
       "fka_fun_nka_glum         1\n",
       "DrainedA                 1\n",
       "p4inlezz                 1\n",
       "19yoWomanNeedsHelp       1\n",
       "j3llybreeze              1\n",
       "mr_lav3nd3r              1\n",
       "Wheelonfire95            1\n",
       "janglesinthebuilding     1\n",
       "UltimateBubNut           1\n",
       "saraflorida77            1\n",
       "Throwaway_obvi_1         1\n",
       "don1291                  1\n",
       "blaccat96                1\n",
       "Phoneczar                1\n",
       "adderseverywhere3        1\n",
       "BeyondZooted             1\n",
       "stimulant_slut           1\n",
       "geekyb207                1\n",
       "61104                    1\n",
       "EyeBudLover420           1\n",
       "abweiss121583            1\n",
       "StuFromSpace             1\n",
       "TangoconTina             1\n",
       "chazzmurda14             1\n",
       "TheCaptMAgic             1\n",
       "Waayside                 1\n",
       "sweetbabycoconut         1\n",
       "EchoTab                  1\n",
       "throwawayrdasto          1\n",
       "octopusprime11           1\n",
       "xxmexx74                 1\n",
       "Askiewash                1\n",
       "The_CrimsonFuckr         1\n",
       "yellowmini05             1\n",
       "catching-butterflies     1\n",
       "nightsky1267             1\n",
       "Thelastsonofbob          1\n",
       "Recovering-sipper        1\n",
       "kingarthur_76            1\n",
       "ehhrAwr                  1\n",
       "mrsalicia                1\n",
       "thedadfromJumanji        1\n",
       "HomelessProject          1\n",
       "Foreign_psycho           1\n",
       "dadidito32               1\n",
       "orangejuice772           1\n",
       "nature-angel             1\n",
       "Homicidalballoon         1\n",
       "chamhow                  1\n",
       "puttonous_fing           1\n",
       "13dgiles                 1\n",
       "GreatCate54              1\n",
       "Throwawaydrunk7          1\n",
       "Skeet_Barule             1\n",
       "directtodvd              1\n",
       "k0nstrukt                1\n",
       "suenrod                  1\n",
       "shipinhar                1\n",
       "cloynie                  1\n",
       "Jleast617                1\n",
       "Cookiemonro              1\n",
       "30sand80s                1\n",
       "exxtremelytiredofit      1\n",
       "AgingHippieLiberal       1\n",
       "wharf_rats_tripping      1\n",
       "theredheadbitch          1\n",
       "ladylaneismyname         1\n",
       "beautifullyb             1\n",
       "DetNickCharles           1\n",
       "lycheeice                1\n",
       "9aradigmRift             1\n",
       "SauloIvanRegis           1\n",
       "bsbdobrocket919          1\n",
       "macplasencia             1\n",
       "chalk_in_boots           1\n",
       "FatAshley59              1\n",
       "Rizeuplightez            1\n",
       "pyratesforhigher         1\n",
       "SeattleOverSF            1\n",
       "aaaaaaaaaaaaaan          1\n",
       "itisgandhinotghandi      1\n",
       "ambambamb1               1\n",
       "ctzone420                1\n",
       "gankylosaurus            1\n",
       "cmhollow                 1\n",
       "tmsbkn                   1\n",
       "benajminxanax            1\n",
       "goodstuff2much           1\n",
       "deconman                 1\n",
       "Soliz_                   1\n",
       "XxActionJacksonxX        1\n",
       "xero40                   1\n",
       "rupertone1967            1\n",
       "Ricochet888              1\n",
       "mista_sir                1\n",
       "brokerforgokerbeloaf     1\n",
       "hope1075                 1\n",
       "adderalandphenibut       1\n",
       "swayy79                  1\n",
       "lostmymailll             1\n",
       "_Buchet_                 1\n",
       "orangeconfetti           1\n",
       "Lol_xD12                 1\n",
       "serenity1995             1\n",
       "ohsimon                  1\n",
       "tachibanakanade          1\n",
       "icy_regret               1\n",
       "YS_XXX                   1\n",
       "falzrole                 1\n",
       "lookingforanswers112     1\n",
       "bfro8304                 1\n",
       "eskiibeat                1\n",
       "jessicaamaria            1\n",
       "HYPERSQUIRT              1\n",
       "Regular-Human-347329     1\n",
       "Unemployed-Alcoholic     1\n",
       "99trills                 1\n",
       "queenofdragonz           1\n",
       "what-s-up                1\n",
       "Nches                    1\n",
       "lady_soul                1\n",
       "made4methquestion        1\n",
       "ecp4life                 1\n",
       "fentician                1\n",
       "ZombieBoy98              1\n",
       "fireandblonde            1\n",
       "og15724                  1\n",
       "AnAdolescentTragedyy     1\n",
       "ViChhitraKala            1\n",
       "iolc                     1\n",
       "eyeFeelGud               1\n",
       "nomuhfuckinziti          1\n",
       "deepventthrowaway        1\n",
       "betterthan_alpo          1\n",
       "sitcomwatcher            1\n",
       "ThirdPlanetGenesis       1\n",
       "Snowtokes13              1\n",
       "purpletomato77           1\n",
       "fondled_dump             1\n",
       "HauntlyVamp13            1\n",
       "Boopy7                   1\n",
       "TheBossTX                1\n",
       "Fleaisforme              1\n",
       "nickmirsho               1\n",
       "glauberite               1\n",
       "saraunderscore           1\n",
       "chop4040                 1\n",
       "Slorgasm                 1\n",
       "theenukeface             1\n",
       "Mungus91                 1\n",
       "resemi99                 1\n",
       "DailyLivingShow          1\n",
       "DcNeonix                 1\n",
       "strictly_jerkin          1\n",
       "RonaldReaganOfficial     1\n",
       "NivixBerry               1\n",
       "hemorrhoidhole           1\n",
       "chooki24                 1\n",
       "alldawgsgo2heaven        1\n",
       "drvoktor                 1\n",
       "flockofnarwhals          1\n",
       "yesafag193               1\n",
       "ferrisjuulersdayoff      1\n",
       "DarkAngel386             1\n",
       "SpookDaddy-              1\n",
       "androidchimera           1\n",
       "unholyXXII               1\n",
       "scruggbug                1\n",
       "cflake70012432           1\n",
       "homemaker1               1\n",
       "Frequent-Wishbone        1\n",
       "Cedar_Mock               1\n",
       "DenseRecommendation7     1\n",
       "zacdied                  1\n",
       "zinner306                1\n",
       "roryatek                 1\n",
       "Vlato77                  1\n",
       "goldslapper100           1\n",
       "cj88benton               1\n",
       "FattyLeopold             1\n",
       "emmaxleigh7              1\n",
       "kaybeebz                 1\n",
       "palmtree4774             1\n",
       "gulddamen69              1\n",
       "Ssouth84                 1\n",
       "bacteen1                 1\n",
       "CuttlefishKing           1\n",
       "hunter_da_hammah1        1\n",
       "swedething               1\n",
       "CanofBisc                1\n",
       "ChocolateDab             1\n",
       "-Sledgehammer            1\n",
       "tacticoolnukes           1\n",
       "snyderiancookie          1\n",
       "psychkat                 1\n",
       "dilemma_45               1\n",
       "FormalBeyond             1\n",
       "babyboiwubbz             1\n",
       "London1980               1\n",
       "ineedglasses1            1\n",
       "melissarank88            1\n",
       "yetbykov                 1\n",
       "dit84                    1\n",
       "bleepbloop920            1\n",
       "UpsetHobo                1\n",
       "FlameeDearFlamee         1\n",
       "kualiti                  1\n",
       "SystolicPilot            1\n",
       "toshkan                  1\n",
       "Gangsta_Rooster          1\n",
       "lonelymusician12         1\n",
       "wv1badhi                 1\n",
       "gaiathree7               1\n",
       "Triiptastic              1\n",
       "LuxAndRaven              1\n",
       "BadAnkleBill             1\n",
       "nerdysalmon              1\n",
       "dom_the_artist           1\n",
       "longlifetired            1\n",
       "coupie_t                 1\n",
       "neje                     1\n",
       "AsyloniaRising           1\n",
       "homtanks25               1\n",
       "hadtodoit420             1\n",
       "libralove333             1\n",
       "latenightscitylights     1\n",
       "kwowwww                  1\n",
       "throwaway92928828282     1\n",
       "psychologyacademic       1\n",
       "AdministrativeSoil4      1\n",
       "BeefstewAndCabbage       1\n",
       "kaminosouth              1\n",
       "Loose_Form               1\n",
       "shoegazer7777            1\n",
       "vegankakashi             1\n",
       "FutureCoffee             1\n",
       "VVoIand                  1\n",
       "chookv2                  1\n",
       "consciouskarmaa          1\n",
       "gogoghoul_13             1\n",
       "questioningwas           1\n",
       "elicitfantabulous        1\n",
       "pirca                    1\n",
       "Stimhead48               1\n",
       "babydriv3r               1\n",
       "HerbertNenningers        1\n",
       "acbuild                  1\n",
       "badballer03              1\n",
       "Nerdlifegirl             1\n",
       "talkaboutluck            1\n",
       "CondomLeavesARice        1\n",
       "Weirrdo12                1\n",
       "anyinkling               1\n",
       "4mgdillies               1\n",
       "ImprovingEverado         1\n",
       "newCM-red                1\n",
       "everystatisticever       1\n",
       "mouthdrybutrunynose8     1\n",
       "weekendbuzzofficial      1\n",
       "irespecteachmod          1\n",
       "pokealottasmot420        1\n",
       "CantTouchThisCat         1\n",
       "Psychostimulants         1\n",
       "WillyWank3r1             1\n",
       "grahamonphoneie          1\n",
       "kimichucas               1\n",
       "Oatmeal_Cat              1\n",
       "envy47                   1\n",
       "newaccFmyself            1\n",
       "miketwo345               1\n",
       "Remthell                 1\n",
       "MiDyordel                1\n",
       "lunchbox693              1\n",
       "jhope8708                1\n",
       "Lostboy1031              1\n",
       "That_Importance          1\n",
       "Medical_Independence     1\n",
       "yeehaw1005               1\n",
       "Sunflower_1996           1\n",
       "blacklabelsindustry      1\n",
       "melatonia                1\n",
       "through_da_storm         1\n",
       "inyomom                  1\n",
       "MisterAntony             1\n",
       "fent-n-all               1\n",
       "RandomUser135792468      1\n",
       "stringuserName           1\n",
       "Med-Rare-Naked-Choke     1\n",
       "sorchaarts               1\n",
       "rbeard16                 1\n",
       "Leeham940                1\n",
       "dword418                 1\n",
       "lobstermobsterr          1\n",
       "YEETYEETYEETYEETLOL      1\n",
       "Dustybender911           1\n",
       "colleen123               1\n",
       "kobakoba                 1\n",
       "_mantis                  1\n",
       "brackattack27            1\n",
       "Autistikhan              1\n",
       "deathstarrising          1\n",
       "owocj89                  1\n",
       "ilovenagi                1\n",
       "queeftart                1\n",
       "IStillPlayMlbTheShow     1\n",
       "powerfulvinny            1\n",
       "Brettm91                 1\n",
       "fluffykins_no_drinky     1\n",
       "AtiumMisting             1\n",
       "jazzyjesso               1\n",
       "throwawaytoday040220     1\n",
       "calimaniac831            1\n",
       "MaiRew                   1\n",
       "BDKM49                   1\n",
       "ChickenOatmeal           1\n",
       "only17queen              1\n",
       "AbundanceLifeStyle       1\n",
       "Duff4205                 1\n",
       "dsosa6969                1\n",
       "TheAlb1noSpy             1\n",
       "Raychalxx                1\n",
       "gfoxn                    1\n",
       "ilovecarzzzz675          1\n",
       "FapCaptainCrunch         1\n",
       "Jamika1                  1\n",
       "SpunChaos                1\n",
       "nigpoo420                1\n",
       "entrepreneur4200         1\n",
       "whydoidothishit          1\n",
       "theganjmaster            1\n",
       "p-diddy-tarot-           1\n",
       "MUTATED_TWEEN            1\n",
       "ADICKLESSFROG            1\n",
       "sunflowerpuppies         1\n",
       "IamLava                  1\n",
       "Flag_Route               1\n",
       "emmastudent              1\n",
       "butAGoodMan725           1\n",
       "semperip                 1\n",
       "qnnamber                 1\n",
       "forweedstuff             1\n",
       "yayamakewaves            1\n",
       "GingerLola123            1\n",
       "cannicaterpi             1\n",
       "DeepDish815              1\n",
       "HairyContactbeware       1\n",
       "thisisveryverygay        1\n",
       "-LOADING_SCREEN-         1\n",
       "HotCheezSoup17           1\n",
       "i_am_so_sad_bro          1\n",
       "dtownchik2020            1\n",
       "kitty1234560             1\n",
       "SchlauerMann             1\n",
       "ResponsiblePitch8        1\n",
       "kittie2468               1\n",
       "dcaptain7                1\n",
       "vilhelm3000              1\n",
       "seraohh                  1\n",
       "SharkToothSharpTooth     1\n",
       "nippletwister300         1\n",
       "colamonkey               1\n",
       "littledabwilldoya        1\n",
       "BoopusSnootus            1\n",
       "legalize_ranch_311       1\n",
       "Jelly_Leg_II             1\n",
       "glumbball                1\n",
       "pdxspeedgirl             1\n",
       "chyeeeee                 1\n",
       "LitterPicking            1\n",
       "cosmicdances             1\n",
       "bbyareese                1\n",
       "beanladyk9               1\n",
       "beencryin                1\n",
       "ExtendedMacaroni         1\n",
       "Iamtheshadowperson       1\n",
       "Mme1017                  1\n",
       "karens_be_gone06         1\n",
       "turdferguson913          1\n",
       "waxinav439               1\n",
       "Supremelordbeefcake      1\n",
       "vailen3                  1\n",
       "koedi084                 1\n",
       "YES-REGRETS              1\n",
       "TapaSkat8                1\n",
       "mommabones               1\n",
       "FedExGuy76               1\n",
       "tflanagan112             1\n",
       "seasoned_toker           1\n",
       "SmoothPanic4444          1\n",
       "Zzur                     1\n",
       "jmoreno0506              1\n",
       "griffnin                 1\n",
       "hgrub                    1\n",
       "FandilSavage             1\n",
       "mrmslesbro               1\n",
       "nickdamnit               1\n",
       "cosmic_splooge           1\n",
       "robbo669                 1\n",
       "LilGayBoiNoMan           1\n",
       "anakinns                 1\n",
       "gorgusdashank            1\n",
       "drugquestions1234        1\n",
       "Jersey_F-15              1\n",
       "ricenoodles4             1\n",
       "_throw_away_zzz          1\n",
       "Throwaway2386973         1\n",
       "Ex-Dabber                1\n",
       "TH3R1NJ8                 1\n",
       "PintSippah               1\n",
       "Tannysack                1\n",
       "tropicofaquarius         1\n",
       "Mws1104                  1\n",
       "dopelesshopefiend_       1\n",
       "ManifestedClothing       1\n",
       "merganzer                1\n",
       "akf2680                  1\n",
       "wuthadhappenedwuz        1\n",
       "EdOverEasy3              1\n",
       "ModafinilECN             1\n",
       "addictionvirginia        1\n",
       "Aramennoodleburnedme     1\n",
       "Skylineviewz             1\n",
       "rizzrizzo                1\n",
       "kraesta                  1\n",
       "horcruxez                1\n",
       "cheekyweelogan           1\n",
       "OxyNormal5               1\n",
       "Spoonthedude92           1\n",
       "Expensive-Potential      1\n",
       "Oneway1776               1\n",
       "Diacetylmorphine666      1\n",
       "tim-burne                1\n",
       "ElGrandeRojo67           1\n",
       "changecreateschange      1\n",
       "millionthtimesacharm     1\n",
       "phorveath                1\n",
       "CarlJuniorMilam          1\n",
       "total--eclipse           1\n",
       "theresa1411              1\n",
       "agriff1                  1\n",
       "GuinnessLover12          1\n",
       "unkstranger              1\n",
       "new_usernaem             1\n",
       "throwawaymollytest       1\n",
       "HappyNug220              1\n",
       "GuwopSlim                1\n",
       "putmeinthepicture        1\n",
       "spuncosmonaut            1\n",
       "golip42                  1\n",
       "Alextryingforgrate       1\n",
       "AltRight                 1\n",
       "mcubed1220               1\n",
       "pillowofdeoderant        1\n",
       "AnAnxiousExtrovert       1\n",
       "karmaisreal90210         1\n",
       "VeryScaryHarry           1\n",
       "TWITCHAROONI             1\n",
       "OneNinerFaithful         1\n",
       "charliewisco             1\n",
       "LostCod                  1\n",
       "Beautiful-pain           1\n",
       "GrandpaRook              1\n",
       "Azhz96                   1\n",
       "smbale                   1\n",
       "Carpbeat24               1\n",
       "ashleighormsby           1\n",
       "everythingsokay907       1\n",
       "elaineevanwinkle         1\n",
       "DrDrew69000012           1\n",
       "sqilliam                 1\n",
       "TheCandyMan25            1\n",
       "louisonmyluggage         1\n",
       "SuboxoneTaper            1\n",
       "thehormonem0nster        1\n",
       "clwk_624                 1\n",
       "Yertletheturtle69        1\n",
       "Resident-Advertising     1\n",
       "awizard420               1\n",
       "Unusual-Split            1\n",
       "TheFuzzyMath             1\n",
       "anustartinanuplace       1\n",
       "mnt800                   1\n",
       "zezenzo                  1\n",
       "cramer-klontz            1\n",
       "percythrowaway21         1\n",
       "wakbat                   1\n",
       "leoarw                   1\n",
       "ForwardImagination9      1\n",
       "bitterpill123            1\n",
       "Aakd27                   1\n",
       "EnduringInsanity         1\n",
       "gseeks                   1\n",
       "CKneeland1               1\n",
       "ally-x                   1\n",
       "guanaco55                1\n",
       "megreinvented            1\n",
       "BreadandButter789        1\n",
       "celticblacksmith         1\n",
       "stackinfire              1\n",
       "goodizer                 1\n",
       "TreeOfKnowledge          1\n",
       "krystalizedkalamity      1\n",
       "basshead_queen2          1\n",
       "deep_in_mayo             1\n",
       "AlteredPrime             1\n",
       "uwuhawey                 1\n",
       "bigwiner                 1\n",
       "normalredditaccount5     1\n",
       "craniumuranium666        1\n",
       "El_Chupachichis          1\n",
       "stronger-every-day       1\n",
       "selfneckrope             1\n",
       "HeroinChai               1\n",
       "MicheleFerguson998       1\n",
       "lucid_minds              1\n",
       "daydreams77              1\n",
       "ecstacyandoxycodone      1\n",
       "bobdylanjr               1\n",
       "Specialist_Pause         1\n",
       "pot_of_garlic            1\n",
       "t_r_y                    1\n",
       "scxtty42                 1\n",
       "poweredbyspam            1\n",
       "jaxkhk                   1\n",
       "Lunajunebug              1\n",
       "smallalien_13            1\n",
       "mobco                    1\n",
       "itsmehannerz             1\n",
       "Patchyy                  1\n",
       "throwaway13143685        1\n",
       "NayfromtheStable         1\n",
       "StandardChemist          1\n",
       "poison4twenty            1\n",
       "trillywilson             1\n",
       "altdoo                   1\n",
       "hannibalrice             1\n",
       "TukErJebs                1\n",
       "BraH8tr                  1\n",
       "Chrume                   1\n",
       "bitterpickleguy          1\n",
       "layla759                 1\n",
       "hungrybutlazytocook      1\n",
       "hereiamagain13           1\n",
       "J-cbar                   1\n",
       "damnsonusorry            1\n",
       "ur_mom_n_i               1\n",
       "fluffedpillows           1\n",
       "zouss                    1\n",
       "mamapajamarolled         1\n",
       "cheebyl                  1\n",
       "spamreceptacle           1\n",
       "VegasVK07                1\n",
       "anon6100x                1\n",
       "bh1812                   1\n",
       "khlind                   1\n",
       "xxjake                   1\n",
       "MUDD__BUTT_              1\n",
       "mankeluvsit              1\n",
       "scigrub                  1\n",
       "Robbiesaur               1\n",
       "Zooomir                  1\n",
       "GRIMYninja               1\n",
       "this-isatest             1\n",
       "Mykayel                  1\n",
       "altisnowmymain           1\n",
       "DrBionicle176            1\n",
       "itsOPits                 1\n",
       "Kiggistotle              1\n",
       "astroRob2                1\n",
       "LeaderSigns              1\n",
       "Heydemonsitsmeyaboyy     1\n",
       "wisconsinmomma           1\n",
       "PriorBunch7              1\n",
       "kaylathedragon           1\n",
       "RitalinSkittles          1\n",
       "Gpmike17                 1\n",
       "Barzzzfordayzzzz         1\n",
       "landael                  1\n",
       "BIGCBG                   1\n",
       "Mabetown                 1\n",
       "bojangalanglang          1\n",
       "JayRukus                 1\n",
       "completely_unstable      1\n",
       "MethMetal                1\n",
       "kaybee1238               1\n",
       "dysfunctionalpot8o       1\n",
       "Kratomom                 1\n",
       "pockickle5               1\n",
       "BennyJayTheKing          1\n",
       "dippodahippo             1\n",
       "8Crystal                 1\n",
       "regina_f                 1\n",
       "exasperated-viewer       1\n",
       "kingofzzz                1\n",
       "Tex-45                   1\n",
       "Neurohippiee             1\n",
       "chet_chettersworth       1\n",
       "joshjhj                  1\n",
       "bobbie_french3409        1\n",
       "Name: author, dtype: int64"
      ]
     },
     "execution_count": 9,
     "metadata": {},
     "output_type": "execute_result"
    }
   ],
   "source": [
    "df['author'].value_counts() # There are 4,000 posts written by 2,852 authors"
   ]
  },
  {
   "cell_type": "code",
   "execution_count": 10,
   "metadata": {
    "slideshow": {
     "slide_type": "fragment"
    }
   },
   "outputs": [],
   "source": [
    "# Let's replace the text in our target variable with binary values where heroin = 0 and recovery = 1\n",
    "\n",
    "subreddit_list_dict = {'Drugs' : 0, \n",
    "                       'opiates' : 0, \n",
    "                       'Stims' : 0, \n",
    "                       'Drinking' : 0 , \n",
    "                       'recovery' : 1, \n",
    "                       'OpiatesRecovery' : 1, \n",
    "                       'REDDITORSINRECOVERY' : 1, \n",
    "                       'stopdrinking' : 1}\n",
    "\n",
    "df.replace(subreddit_list_dict, inplace=True)"
   ]
  },
  {
   "cell_type": "code",
   "execution_count": 11,
   "metadata": {
    "slideshow": {
     "slide_type": "subslide"
    }
   },
   "outputs": [
    {
     "data": {
      "text/plain": [
       "(3002, 2)"
      ]
     },
     "execution_count": 11,
     "metadata": {},
     "output_type": "execute_result"
    }
   ],
   "source": [
    "# Some basic data cleaning\n",
    "\n",
    "df.fillna(method = 'bfill', inplace=True) # Replace the very few nans with nearby content\n",
    "df = df[df.selftext != ''] # Remove posts that are just an empty string\n",
    "df = df[df.selftext != '[removed]'] # Get rid of posts marked as already removed by reddit\n",
    "df = df[['subreddit', 'selftext']] # Reconstitute df with only the relevant features\n",
    "df.shape # with bad content removed"
   ]
  },
  {
   "cell_type": "code",
   "execution_count": 12,
   "metadata": {
    "slideshow": {
     "slide_type": "fragment"
    }
   },
   "outputs": [],
   "source": [
    "df.reset_index(inplace = True)\n",
    "df.to_csv(\"../data/train.csv\", index = False)"
   ]
  },
  {
   "cell_type": "markdown",
   "metadata": {
    "slideshow": {
     "slide_type": "slide"
    }
   },
   "source": [
    "<a name=\"data_preprocessing\"></a>\n",
    "# Data preprocessing"
   ]
  },
  {
   "cell_type": "code",
   "execution_count": 13,
   "metadata": {
    "slideshow": {
     "slide_type": "fragment"
    }
   },
   "outputs": [
    {
     "name": "stderr",
     "output_type": "stream",
     "text": [
      "C:\\Users\\shawn\\miniconda3\\lib\\site-packages\\ipykernel_launcher.py:12: SettingWithCopyWarning: \n",
      "A value is trying to be set on a copy of a slice from a DataFrame\n",
      "\n",
      "See the caveats in the documentation: http://pandas.pydata.org/pandas-docs/stable/user_guide/indexing.html#returning-a-view-versus-a-copy\n",
      "  if sys.path[0] == '':\n"
     ]
    }
   ],
   "source": [
    "# Preprocess the posting content; this should take under 2 minutes\n",
    "# start an empty list to hold preprocessed postings\n",
    "\n",
    "processed_postings = [] \n",
    "for i in range(len(df)):  # for each post\n",
    "    posting = re.sub('[^a-zA-Z]', ' ', df['selftext'][i]) # remove non text characters\n",
    "    posting = posting.lower() # lower-case everything\n",
    "    posting = posting.split() # split into words\n",
    "    ps = PorterStemmer() # instantiate the Porter word stemmer\n",
    "    posting = [ps.stem(word) for word in posting if not word in set(stopwords.words('english'))] # reduce to only stemmed non-stopwords\n",
    "    posting = ' '.join(posting) # reassemble the string\n",
    "    df['selftext'][i] = posting\n",
    "    processed_postings.append(posting) # add it to the corpus"
   ]
  },
  {
   "cell_type": "code",
   "execution_count": 14,
   "metadata": {
    "slideshow": {
     "slide_type": "fragment"
    }
   },
   "outputs": [],
   "source": [
    "df.reset_index(inplace = True)\n",
    "df = df[['subreddit', 'selftext']]\n",
    "df.to_csv(\"../data/train.csv\", index = False)"
   ]
  },
  {
   "cell_type": "markdown",
   "metadata": {
    "slideshow": {
     "slide_type": "fragment"
    }
   },
   "source": [
    "Having reviewed the data, I am confident that it contains what I need to successfully train the model, and the overlap of content is sufficient to make this a complex problem to solve. "
   ]
  },
  {
   "cell_type": "markdown",
   "metadata": {
    "slideshow": {
     "slide_type": "slide"
    }
   },
   "source": [
    "# CountVectorizer and Train/test split"
   ]
  },
  {
   "cell_type": "code",
   "execution_count": 15,
   "metadata": {
    "slideshow": {
     "slide_type": "fragment"
    }
   },
   "outputs": [
    {
     "name": "stdout",
     "output_type": "stream",
     "text": [
      "{'analyzer': 'word',\n",
      " 'binary': False,\n",
      " 'decode_error': 'strict',\n",
      " 'dtype': <class 'numpy.int64'>,\n",
      " 'encoding': 'utf-8',\n",
      " 'input': 'content',\n",
      " 'lowercase': True,\n",
      " 'max_df': 1.0,\n",
      " 'max_features': None,\n",
      " 'min_df': 1,\n",
      " 'ngram_range': (1, 1),\n",
      " 'preprocessor': None,\n",
      " 'stop_words': None,\n",
      " 'strip_accents': None,\n",
      " 'token_pattern': '(?u)\\\\b\\\\w\\\\w+\\\\b',\n",
      " 'tokenizer': None,\n",
      " 'vocabulary': None}\n"
     ]
    }
   ],
   "source": [
    "# Instantiate the CountVectorizer and fit it to our data\n",
    "# Look at its parameters\n",
    "# This takes about two minutes to run\n",
    "\n",
    "cvec = CountVectorizer()\n",
    "X = cvec.fit_transform(processed_postings).toarray()\n",
    "y = df.iloc[:, 0].values\n",
    "pprint(cvec.get_params())       "
   ]
  },
  {
   "cell_type": "code",
   "execution_count": 16,
   "metadata": {
    "slideshow": {
     "slide_type": "fragment"
    }
   },
   "outputs": [],
   "source": [
    "# Set up our train-test split\n",
    "X_train, X_test, y_train, y_test = train_test_split(X, y, test_size = 0.25, random_state = 42, stratify = y)"
   ]
  },
  {
   "cell_type": "code",
   "execution_count": 17,
   "metadata": {
    "slideshow": {
     "slide_type": "skip"
    }
   },
   "outputs": [
    {
     "data": {
      "text/plain": [
       "array([[  0, 313],\n",
       "       [  1, 438]], dtype=int64)"
      ]
     },
     "execution_count": 17,
     "metadata": {},
     "output_type": "execute_result"
    }
   ],
   "source": [
    "# Baseline \n",
    "(unique, counts) = np.unique(y_test, return_counts=True)\n",
    "frequencies = np.asarray((unique, counts)).T\n",
    "frequencies\n",
    "\n",
    "# This shows us, after some posts were removed, what is left; \n",
    "# 313 drug-user posts and 438 recovery posts\n",
    "# NOTE: when the posts were run before cleaning at 50% each\n",
    "# the results were similar"
   ]
  },
  {
   "cell_type": "markdown",
   "metadata": {
    "slideshow": {
     "slide_type": "slide"
    }
   },
   "source": [
    "<a name=\"modeling_and_evaluation\"></a>\n",
    "# Modeling and evaluation\n"
   ]
  },
  {
   "cell_type": "markdown",
   "metadata": {
    "slideshow": {
     "slide_type": "subslide"
    }
   },
   "source": [
    "## Naive Bayes model (Multinomial)"
   ]
  },
  {
   "cell_type": "code",
   "execution_count": 18,
   "metadata": {
    "slideshow": {
     "slide_type": "skip"
    }
   },
   "outputs": [
    {
     "data": {
      "text/plain": [
       "MultinomialNB(alpha=1.0, class_prior=None, fit_prior=True)"
      ]
     },
     "execution_count": 18,
     "metadata": {},
     "output_type": "execute_result"
    }
   ],
   "source": [
    "# Set up two instances of a Multinomial Bayes Model\n",
    "# one for training \n",
    "\n",
    "MNNB_train = MultinomialNB()\n",
    "MNNB_train.fit(X_train, y_train)"
   ]
  },
  {
   "cell_type": "code",
   "execution_count": 19,
   "metadata": {
    "slideshow": {
     "slide_type": "skip"
    }
   },
   "outputs": [
    {
     "data": {
      "text/plain": [
       "MultinomialNB(alpha=1.0, class_prior=None, fit_prior=True)"
      ]
     },
     "execution_count": 19,
     "metadata": {},
     "output_type": "execute_result"
    }
   ],
   "source": [
    "# And one for testing\n",
    "\n",
    "MNNB_test = MultinomialNB()\n",
    "MNNB_test.fit(X_test, y_test)"
   ]
  },
  {
   "cell_type": "code",
   "execution_count": 20,
   "metadata": {
    "slideshow": {
     "slide_type": "skip"
    }
   },
   "outputs": [
    {
     "data": {
      "text/plain": [
       "array([1, 1, 0, 0, 0, 1, 0, 1, 0, 1, 1, 1, 1, 1, 1, 1, 1, 0, 0, 0, 1, 0,\n",
       "       1, 1, 1, 0, 1, 0, 0, 1, 0, 0, 1, 0, 1, 1, 1, 1, 1, 0, 1, 0, 1, 0,\n",
       "       1, 1, 0, 1, 0, 1, 0, 0, 1, 0, 0, 0, 1, 0, 0, 0, 1, 0, 1, 1, 1, 1,\n",
       "       0, 1, 1, 1, 1, 0, 1, 0, 1, 1, 0, 1, 0, 1, 0, 1, 0, 1, 1, 1, 1, 0,\n",
       "       0, 1, 0, 1, 1, 1, 1, 0, 1, 0, 0, 0, 0, 1, 1, 1, 1, 1, 0, 1, 1, 1,\n",
       "       1, 1, 1, 0, 1, 1, 1, 1, 1, 0, 0, 1, 0, 1, 0, 1, 0, 1, 1, 0, 1, 1,\n",
       "       1, 0, 0, 0, 0, 0, 1, 1, 0, 1, 0, 0, 1, 0, 0, 1, 1, 0, 1, 1, 1, 0,\n",
       "       1, 0, 0, 1, 1, 0, 1, 0, 0, 1, 0, 1, 0, 0, 0, 0, 0, 0, 0, 1, 0, 1,\n",
       "       1, 0, 0, 1, 0, 1, 1, 1, 0, 0, 1, 1, 0, 1, 0, 1, 1, 1, 1, 1, 1, 1,\n",
       "       1, 1, 0, 1, 1, 0, 0, 1, 1, 1, 1, 1, 1, 1, 1, 1, 1, 1, 1, 1, 1, 0,\n",
       "       1, 1, 0, 1, 1, 1, 0, 0, 1, 1, 1, 1, 0, 0, 0, 0, 0, 0, 1, 1, 1, 0,\n",
       "       1, 1, 1, 1, 1, 0, 0, 1, 0, 1, 0, 1, 1, 0, 1, 1, 1, 1, 1, 1, 1, 1,\n",
       "       1, 0, 1, 1, 1, 1, 1, 1, 1, 1, 1, 1, 0, 1, 1, 1, 0, 0, 0, 0, 1, 1,\n",
       "       1, 0, 1, 0, 0, 1, 0, 1, 0, 0, 0, 1, 1, 0, 1, 0, 0, 1, 1, 1, 1, 0,\n",
       "       0, 1, 1, 0, 1, 1, 1, 1, 0, 1, 0, 1, 1, 0, 0, 1, 0, 1, 1, 1, 0, 1,\n",
       "       1, 1, 1, 1, 1, 0, 1, 0, 0, 0, 1, 1, 0, 1, 1, 0, 0, 0, 1, 0, 1, 1,\n",
       "       0, 1, 1, 1, 0, 1, 0, 1, 1, 1, 1, 1, 1, 1, 1, 1, 1, 1, 1, 1, 1, 0,\n",
       "       0, 1, 1, 1, 1, 1, 1, 1, 1, 0, 0, 1, 0, 0, 1, 1, 0, 1, 1, 1, 1, 1,\n",
       "       1, 1, 1, 1, 0, 1, 1, 1, 1, 1, 1, 0, 0, 0, 1, 0, 0, 0, 1, 0, 1, 1,\n",
       "       1, 0, 1, 1, 1, 1, 1, 1, 1, 1, 0, 1, 1, 1, 1, 0, 0, 0, 0, 1, 0, 1,\n",
       "       0, 0, 1, 1, 1, 1, 1, 0, 1, 1, 1, 1, 1, 1, 1, 1, 0, 1, 1, 1, 1, 1,\n",
       "       0, 0, 1, 0, 1, 1, 1, 1, 1, 1, 1, 0, 1, 1, 1, 1, 0, 1, 1, 0, 1, 1,\n",
       "       1, 1, 1, 0, 0, 1, 1, 1, 1, 1, 1, 0, 1, 0, 0, 0, 0, 0, 1, 1, 1, 1,\n",
       "       1, 1, 0, 1, 0, 0, 0, 1, 0, 0, 0, 1, 1, 1, 0, 1, 1, 1, 1, 0, 0, 1,\n",
       "       0, 0, 1, 0, 1, 1, 1, 0, 0, 1, 1, 1, 1, 0, 1, 1, 1, 0, 1, 0, 0, 0,\n",
       "       1, 1, 0, 1, 1, 1, 0, 1, 0, 1, 1, 1, 1, 1, 1, 1, 1, 1, 1, 0, 1, 0,\n",
       "       1, 0, 0, 0, 0, 1, 0, 0, 0, 0, 1, 1, 1, 0, 1, 1, 1, 0, 0, 1, 0, 1,\n",
       "       1, 1, 1, 1, 0, 1, 0, 1, 1, 1, 0, 0, 1, 1, 1, 1, 1, 1, 0, 1, 1, 1,\n",
       "       0, 1, 1, 1, 1, 1, 0, 0, 1, 0, 0, 0, 1, 1, 1, 1, 1, 0, 0, 0, 0, 0,\n",
       "       0, 0, 0, 1, 1, 0, 0, 1, 1, 0, 0, 0, 1, 0, 0, 1, 1, 0, 1, 1, 0, 1,\n",
       "       0, 1, 1, 1, 1, 1, 1, 1, 1, 1, 1, 0, 1, 1, 0, 1, 0, 1, 1, 1, 1, 0,\n",
       "       0, 0, 1, 1, 0, 1, 1, 0, 1, 0, 1, 1, 1, 1, 0, 1, 1, 0, 1, 1, 1, 0,\n",
       "       1, 1, 1, 1, 1, 1, 0, 1, 1, 1, 1, 0, 1, 1, 1, 1, 1, 0, 1, 0, 1, 1,\n",
       "       0, 1, 1, 1, 1, 0, 1, 1, 1, 1, 1, 1, 0, 1, 1, 1, 1, 1, 0, 0, 0, 1,\n",
       "       1, 1, 1], dtype=int64)"
      ]
     },
     "execution_count": 20,
     "metadata": {},
     "output_type": "execute_result"
    }
   ],
   "source": [
    "# Make our predictions against test data\n",
    "y_predictions_MNNB = MNNB_test.predict(X_test)\n",
    "y_predictions_MNNB"
   ]
  },
  {
   "cell_type": "code",
   "execution_count": 21,
   "metadata": {
    "slideshow": {
     "slide_type": "skip"
    }
   },
   "outputs": [
    {
     "data": {
      "text/plain": [
       "array([[266,  47],\n",
       "       [  3, 435]], dtype=int64)"
      ]
     },
     "execution_count": 21,
     "metadata": {},
     "output_type": "execute_result"
    }
   ],
   "source": [
    "# Instantiate a confusion matrix and look at it\n",
    "cm_MNNB = confusion_matrix(y_test, y_predictions_MNNB)\n",
    "cm_MNNB"
   ]
  },
  {
   "cell_type": "code",
   "execution_count": 22,
   "metadata": {
    "slideshow": {
     "slide_type": "skip"
    }
   },
   "outputs": [
    {
     "data": {
      "text/plain": [
       "0.933422103861518"
      ]
     },
     "execution_count": 22,
     "metadata": {},
     "output_type": "execute_result"
    }
   ],
   "source": [
    "# Set variable for the confusion matrix values\n",
    "tp_MNNB = 435\n",
    "fp_MNNB = 3\n",
    "tn_MNNB = 266\n",
    "fn_MNNB = 47\n",
    "\n",
    "# Calculate accuracy score\n",
    "MNNB_accuracy_score = (tp_MNNB + tn_MNNB) / (tp_MNNB + tn_MNNB + fp_MNNB + fn_MNNB) \n",
    "MNNB_accuracy_score "
   ]
  },
  {
   "cell_type": "code",
   "execution_count": 23,
   "metadata": {
    "slideshow": {
     "slide_type": "skip"
    }
   },
   "outputs": [
    {
     "data": {
      "text/plain": [
       "0.9931506849315068"
      ]
     },
     "execution_count": 23,
     "metadata": {},
     "output_type": "execute_result"
    }
   ],
   "source": [
    "# Calculate precision score\n",
    "MNNB_precision_score = tp_MNNB / (tp_MNNB + fp_MNNB)\n",
    "MNNB_precision_score"
   ]
  },
  {
   "cell_type": "code",
   "execution_count": 24,
   "metadata": {
    "slideshow": {
     "slide_type": "skip"
    }
   },
   "outputs": [
    {
     "data": {
      "text/plain": [
       "0.9024896265560166"
      ]
     },
     "execution_count": 24,
     "metadata": {},
     "output_type": "execute_result"
    }
   ],
   "source": [
    "# Calculate recall score\n",
    "MNNB_recall_score = tp_MNNB / (tp_MNNB + fn_MNNB)\n",
    "MNNB_recall_score"
   ]
  },
  {
   "cell_type": "code",
   "execution_count": 25,
   "metadata": {
    "slideshow": {
     "slide_type": "skip"
    }
   },
   "outputs": [
    {
     "data": {
      "text/plain": [
       "0.9456521739130435"
      ]
     },
     "execution_count": 25,
     "metadata": {},
     "output_type": "execute_result"
    }
   ],
   "source": [
    "# Calculate F1 weighting\n",
    "\n",
    "MNNB_F1_Score = 2 * MNNB_precision_score * MNNB_recall_score / (MNNB_precision_score + MNNB_recall_score)\n",
    "MNNB_F1_Score "
   ]
  },
  {
   "cell_type": "code",
   "execution_count": 26,
   "metadata": {
    "slideshow": {
     "slide_type": "skip"
    }
   },
   "outputs": [
    {
     "name": "stdout",
     "output_type": "stream",
     "text": [
      "'Score on training set: 0.9178143047534429'\n",
      "'Score on testing set: 0.933422103861518'\n"
     ]
    }
   ],
   "source": [
    "# Compare training and test accuracy scores\n",
    "\n",
    "pprint(f'Score on training set: {MNNB_train.score(X_train, y_train)}')\n",
    "pprint(f'Score on testing set: {MNNB_test.score(X_test, y_test)}')"
   ]
  },
  {
   "cell_type": "markdown",
   "metadata": {
    "slideshow": {
     "slide_type": "subslide"
    }
   },
   "source": [
    "## Naive Bayes model (Gaussian)"
   ]
  },
  {
   "cell_type": "code",
   "execution_count": 27,
   "metadata": {
    "slideshow": {
     "slide_type": "fragment"
    }
   },
   "outputs": [
    {
     "data": {
      "text/plain": [
       "GaussianNB(priors=None, var_smoothing=1e-09)"
      ]
     },
     "execution_count": 27,
     "metadata": {},
     "output_type": "execute_result"
    }
   ],
   "source": [
    "# Set up two instances of a Gaussian Naive Bayes Model\n",
    "# one for training \n",
    "\n",
    "GaussianNB_train = GaussianNB()\n",
    "GaussianNB_train.fit(X_train, y_train)"
   ]
  },
  {
   "cell_type": "code",
   "execution_count": 28,
   "metadata": {
    "slideshow": {
     "slide_type": "fragment"
    }
   },
   "outputs": [
    {
     "data": {
      "text/plain": [
       "GaussianNB(priors=None, var_smoothing=1e-09)"
      ]
     },
     "execution_count": 28,
     "metadata": {},
     "output_type": "execute_result"
    }
   ],
   "source": [
    "# and one for testing\n",
    "GaussianNB_test = GaussianNB()\n",
    "GaussianNB_test.fit(X_test, y_test)"
   ]
  },
  {
   "cell_type": "code",
   "execution_count": 29,
   "metadata": {
    "slideshow": {
     "slide_type": "fragment"
    }
   },
   "outputs": [
    {
     "data": {
      "text/plain": [
       "array([1, 1, 0, 0, 0, 1, 0, 1, 0, 1, 1, 1, 1, 1, 1, 0, 1, 0, 0, 0, 1, 0,\n",
       "       1, 1, 1, 0, 1, 0, 0, 1, 0, 0, 1, 0, 0, 0, 1, 1, 1, 0, 0, 0, 1, 0,\n",
       "       0, 1, 0, 0, 0, 1, 0, 0, 1, 0, 0, 0, 1, 0, 0, 0, 1, 0, 1, 0, 1, 1,\n",
       "       0, 1, 0, 1, 1, 0, 1, 0, 1, 1, 0, 1, 0, 1, 0, 1, 0, 1, 1, 1, 1, 0,\n",
       "       0, 1, 0, 1, 0, 0, 1, 0, 1, 0, 0, 0, 0, 1, 1, 1, 1, 1, 0, 0, 1, 1,\n",
       "       1, 1, 0, 0, 1, 1, 1, 1, 0, 0, 0, 1, 0, 1, 0, 1, 0, 0, 0, 0, 1, 1,\n",
       "       1, 0, 0, 0, 0, 0, 1, 1, 0, 0, 0, 0, 1, 0, 0, 1, 1, 0, 1, 1, 1, 0,\n",
       "       0, 0, 0, 1, 1, 0, 1, 0, 0, 1, 0, 0, 0, 0, 0, 0, 0, 0, 0, 1, 0, 1,\n",
       "       1, 0, 0, 0, 0, 1, 1, 1, 0, 0, 0, 0, 0, 1, 0, 0, 0, 1, 1, 1, 1, 1,\n",
       "       1, 1, 0, 0, 0, 0, 0, 0, 0, 1, 0, 1, 0, 0, 1, 1, 1, 1, 1, 1, 1, 0,\n",
       "       1, 1, 0, 1, 1, 1, 0, 0, 1, 1, 1, 1, 0, 0, 0, 0, 0, 0, 1, 1, 1, 0,\n",
       "       1, 0, 1, 1, 1, 0, 0, 1, 0, 1, 0, 1, 1, 0, 1, 1, 1, 1, 1, 1, 0, 1,\n",
       "       1, 0, 1, 1, 0, 1, 1, 0, 1, 1, 1, 1, 0, 1, 1, 1, 0, 0, 0, 0, 0, 1,\n",
       "       1, 0, 1, 0, 0, 0, 0, 1, 0, 0, 0, 1, 0, 0, 1, 0, 0, 1, 1, 1, 1, 0,\n",
       "       0, 1, 1, 0, 1, 0, 1, 1, 0, 1, 0, 1, 1, 0, 0, 1, 0, 1, 1, 0, 0, 1,\n",
       "       1, 1, 1, 0, 1, 0, 0, 0, 0, 0, 1, 1, 0, 1, 1, 0, 0, 0, 0, 0, 1, 0,\n",
       "       0, 1, 1, 1, 0, 0, 0, 1, 1, 1, 1, 0, 1, 1, 1, 1, 0, 1, 1, 0, 1, 0,\n",
       "       0, 1, 1, 1, 1, 1, 1, 1, 1, 0, 1, 1, 0, 0, 1, 1, 0, 1, 1, 1, 1, 1,\n",
       "       1, 1, 1, 0, 0, 1, 1, 1, 1, 1, 1, 0, 0, 0, 1, 0, 0, 0, 1, 0, 1, 0,\n",
       "       0, 0, 1, 1, 1, 1, 0, 0, 1, 1, 0, 1, 1, 0, 1, 0, 0, 0, 0, 1, 0, 1,\n",
       "       0, 0, 0, 1, 1, 1, 1, 0, 0, 0, 1, 0, 1, 1, 1, 1, 0, 1, 1, 1, 1, 1,\n",
       "       0, 0, 1, 0, 1, 1, 1, 1, 1, 1, 1, 0, 1, 1, 1, 1, 0, 1, 1, 0, 1, 1,\n",
       "       1, 1, 1, 0, 0, 1, 1, 1, 1, 1, 1, 0, 1, 0, 0, 0, 0, 0, 1, 1, 0, 1,\n",
       "       1, 1, 0, 1, 0, 0, 0, 1, 0, 0, 0, 1, 1, 0, 0, 1, 1, 1, 0, 0, 0, 1,\n",
       "       0, 0, 1, 0, 1, 1, 1, 0, 0, 1, 1, 0, 1, 0, 1, 1, 1, 0, 1, 0, 0, 0,\n",
       "       1, 1, 0, 1, 1, 1, 0, 0, 0, 1, 1, 1, 1, 1, 1, 1, 0, 1, 1, 0, 1, 0,\n",
       "       0, 0, 0, 0, 0, 1, 0, 0, 0, 0, 1, 0, 0, 0, 1, 0, 1, 0, 0, 1, 0, 1,\n",
       "       1, 1, 0, 1, 0, 1, 0, 1, 1, 1, 0, 0, 0, 1, 1, 0, 1, 0, 0, 1, 1, 1,\n",
       "       0, 1, 1, 1, 1, 1, 0, 0, 1, 0, 0, 0, 1, 1, 1, 1, 1, 0, 0, 0, 0, 0,\n",
       "       0, 0, 0, 1, 1, 0, 0, 1, 1, 0, 0, 0, 1, 0, 0, 1, 0, 0, 1, 0, 0, 1,\n",
       "       0, 1, 1, 1, 1, 1, 1, 0, 0, 0, 1, 0, 1, 1, 0, 1, 0, 1, 1, 1, 1, 0,\n",
       "       0, 0, 1, 1, 0, 0, 1, 0, 1, 0, 1, 1, 1, 0, 0, 1, 1, 0, 1, 1, 1, 0,\n",
       "       1, 1, 1, 1, 1, 1, 0, 0, 1, 1, 0, 0, 1, 1, 1, 1, 1, 0, 1, 0, 1, 1,\n",
       "       0, 0, 1, 1, 1, 0, 1, 1, 1, 1, 1, 1, 1, 1, 1, 1, 1, 1, 1, 0, 0, 1,\n",
       "       1, 1, 1], dtype=int64)"
      ]
     },
     "execution_count": 29,
     "metadata": {},
     "output_type": "execute_result"
    }
   ],
   "source": [
    "# Make our predictions\n",
    "y_predictions_GaussianNB = GaussianNB_test.predict(X_test)\n",
    "y_predictions_GaussianNB"
   ]
  },
  {
   "cell_type": "markdown",
   "metadata": {
    "slideshow": {
     "slide_type": "subslide"
    }
   },
   "source": [
    "##### Evaluate the model"
   ]
  },
  {
   "cell_type": "code",
   "execution_count": 30,
   "metadata": {
    "slideshow": {
     "slide_type": "fragment"
    }
   },
   "outputs": [
    {
     "data": {
      "text/plain": [
       "array([[313,   0],\n",
       "       [ 34, 404]], dtype=int64)"
      ]
     },
     "execution_count": 30,
     "metadata": {},
     "output_type": "execute_result"
    }
   ],
   "source": [
    "# Instantiate the confusion matrix\n",
    "cm_GaussianNB = confusion_matrix(y_test, y_predictions_GaussianNB)\n",
    "cm_GaussianNB"
   ]
  },
  {
   "cell_type": "code",
   "execution_count": 31,
   "metadata": {
    "slideshow": {
     "slide_type": "fragment"
    }
   },
   "outputs": [
    {
     "data": {
      "text/plain": [
       "0.9547270306258322"
      ]
     },
     "execution_count": 31,
     "metadata": {},
     "output_type": "execute_result"
    }
   ],
   "source": [
    "# Assign variables to CM values\n",
    "tp_GNB = 404\n",
    "fp_GNB = 34\n",
    "tn_GNB = 313\n",
    "fn_GNB = 0\n",
    "\n",
    "# Calculate the accuracy score\n",
    "GaussianNB_accuracy_score = (tp_GNB + tn_GNB) / (tp_GNB + tn_GNB + fp_GNB + fn_GNB) \n",
    "GaussianNB_accuracy_score"
   ]
  },
  {
   "cell_type": "code",
   "execution_count": 32,
   "metadata": {
    "slideshow": {
     "slide_type": "fragment"
    }
   },
   "outputs": [
    {
     "data": {
      "text/plain": [
       "0.9223744292237442"
      ]
     },
     "execution_count": 32,
     "metadata": {},
     "output_type": "execute_result"
    }
   ],
   "source": [
    "# Calculate the precision score\n",
    "GaussianNB_precision_score = tp_GNB / (tp_GNB + fp_GNB)\n",
    "GaussianNB_precision_score"
   ]
  },
  {
   "cell_type": "code",
   "execution_count": 33,
   "metadata": {
    "slideshow": {
     "slide_type": "fragment"
    }
   },
   "outputs": [
    {
     "data": {
      "text/plain": [
       "1.0"
      ]
     },
     "execution_count": 33,
     "metadata": {},
     "output_type": "execute_result"
    }
   ],
   "source": [
    "# Calculate the recall score\n",
    "GaussianNB_recall_score = tp_GNB / (tp_GNB + fn_GNB)\n",
    "GaussianNB_recall_score"
   ]
  },
  {
   "cell_type": "code",
   "execution_count": 34,
   "metadata": {
    "slideshow": {
     "slide_type": "fragment"
    }
   },
   "outputs": [
    {
     "data": {
      "text/plain": [
       "0.9596199524940617"
      ]
     },
     "execution_count": 34,
     "metadata": {},
     "output_type": "execute_result"
    }
   ],
   "source": [
    "# Calculate the F1 weighting\n",
    "GaussianNB_F1_Score = 2 * GaussianNB_precision_score * GaussianNB_recall_score / (GaussianNB_precision_score + GaussianNB_recall_score)\n",
    "GaussianNB_F1_Score "
   ]
  },
  {
   "cell_type": "code",
   "execution_count": 35,
   "metadata": {
    "slideshow": {
     "slide_type": "fragment"
    }
   },
   "outputs": [
    {
     "name": "stdout",
     "output_type": "stream",
     "text": [
      "'Score on training set: 0.9062638827187917'\n",
      "'Score on testing set: 0.9547270306258322'\n"
     ]
    }
   ],
   "source": [
    "# Compare training and testing accuracy score\n",
    "\n",
    "pprint(f'Score on training set: {GaussianNB_train.score(X_train, y_train)}')\n",
    "pprint(f'Score on testing set: {GaussianNB_test.score(X_test, y_test)}')"
   ]
  },
  {
   "cell_type": "markdown",
   "metadata": {
    "slideshow": {
     "slide_type": "slide"
    }
   },
   "source": [
    "## Decision Tree Classifier"
   ]
  },
  {
   "cell_type": "code",
   "execution_count": 36,
   "metadata": {
    "slideshow": {
     "slide_type": "fragment"
    }
   },
   "outputs": [
    {
     "name": "stdout",
     "output_type": "stream",
     "text": [
      "{'ccp_alpha': 0.0,\n",
      " 'class_weight': None,\n",
      " 'criterion': 'entropy',\n",
      " 'max_depth': None,\n",
      " 'max_features': None,\n",
      " 'max_leaf_nodes': None,\n",
      " 'min_impurity_decrease': 0.0,\n",
      " 'min_impurity_split': None,\n",
      " 'min_samples_leaf': 1,\n",
      " 'min_samples_split': 2,\n",
      " 'min_weight_fraction_leaf': 0.0,\n",
      " 'presort': 'deprecated',\n",
      " 'random_state': 42,\n",
      " 'splitter': 'best'}\n"
     ]
    }
   ],
   "source": [
    "# Instantiate the decision tree classifier; view its parameters\n",
    "\n",
    "DTreeClassifier = DecisionTreeClassifier(criterion = 'entropy', random_state = 42)\n",
    "pprint(DTreeClassifier.get_params())"
   ]
  },
  {
   "cell_type": "code",
   "execution_count": 37,
   "metadata": {
    "slideshow": {
     "slide_type": "fragment"
    }
   },
   "outputs": [
    {
     "data": {
      "text/plain": [
       "DecisionTreeClassifier(ccp_alpha=0.0, class_weight=None, criterion='entropy',\n",
       "                       max_depth=None, max_features=None, max_leaf_nodes=None,\n",
       "                       min_impurity_decrease=0.0, min_impurity_split=None,\n",
       "                       min_samples_leaf=1, min_samples_split=2,\n",
       "                       min_weight_fraction_leaf=0.0, presort='deprecated',\n",
       "                       random_state=42, splitter='best')"
      ]
     },
     "execution_count": 37,
     "metadata": {},
     "output_type": "execute_result"
    }
   ],
   "source": [
    "# Fit the model to the data \n",
    "DTreeClassifier.fit(X_train, y_train)"
   ]
  },
  {
   "cell_type": "code",
   "execution_count": 38,
   "metadata": {
    "slideshow": {
     "slide_type": "fragment"
    }
   },
   "outputs": [
    {
     "data": {
      "text/plain": [
       "array([1, 1, 0, 0, 1, 1, 0, 1, 0, 1, 1, 1, 1, 0, 1, 1, 1, 0, 0, 0, 0, 0,\n",
       "       1, 1, 1, 1, 0, 1, 0, 1, 1, 0, 1, 0, 0, 1, 1, 1, 1, 0, 1, 0, 1, 0,\n",
       "       0, 0, 0, 0, 0, 1, 0, 1, 1, 1, 1, 0, 1, 0, 0, 0, 1, 0, 1, 1, 1, 1,\n",
       "       1, 1, 1, 1, 0, 0, 1, 1, 1, 1, 1, 1, 1, 1, 1, 1, 0, 0, 1, 1, 0, 1,\n",
       "       1, 1, 0, 1, 1, 0, 1, 0, 0, 0, 0, 0, 0, 1, 1, 1, 1, 0, 0, 1, 1, 0,\n",
       "       1, 1, 0, 0, 1, 1, 1, 1, 0, 0, 0, 1, 0, 1, 1, 0, 0, 0, 0, 1, 1, 1,\n",
       "       0, 0, 0, 0, 0, 0, 1, 1, 0, 0, 0, 0, 1, 1, 0, 1, 0, 0, 0, 0, 0, 1,\n",
       "       0, 0, 0, 1, 1, 1, 1, 1, 0, 1, 0, 1, 0, 0, 1, 1, 0, 1, 0, 1, 0, 1,\n",
       "       1, 0, 0, 1, 0, 0, 0, 1, 0, 1, 0, 0, 0, 1, 0, 0, 1, 1, 1, 1, 1, 0,\n",
       "       0, 1, 0, 0, 1, 0, 1, 0, 0, 1, 1, 1, 1, 0, 0, 1, 1, 1, 1, 1, 1, 0,\n",
       "       1, 1, 0, 1, 1, 1, 0, 0, 0, 1, 0, 0, 0, 0, 0, 1, 0, 0, 1, 1, 1, 0,\n",
       "       1, 1, 0, 1, 1, 0, 1, 1, 1, 1, 0, 1, 1, 0, 1, 1, 1, 1, 1, 1, 0, 1,\n",
       "       1, 0, 1, 1, 0, 1, 0, 1, 1, 1, 0, 0, 0, 1, 1, 1, 1, 0, 1, 1, 0, 1,\n",
       "       1, 1, 1, 0, 0, 0, 1, 0, 0, 0, 0, 1, 0, 1, 0, 0, 0, 1, 0, 1, 0, 0,\n",
       "       1, 0, 1, 0, 1, 0, 1, 1, 1, 1, 0, 1, 1, 1, 1, 1, 0, 1, 1, 1, 0, 1,\n",
       "       0, 1, 1, 0, 1, 0, 1, 1, 0, 0, 1, 1, 1, 0, 0, 0, 0, 0, 1, 0, 1, 0,\n",
       "       1, 1, 0, 1, 1, 1, 1, 1, 1, 1, 1, 0, 1, 1, 0, 1, 0, 1, 1, 1, 1, 0,\n",
       "       1, 0, 1, 1, 1, 0, 1, 1, 0, 0, 1, 1, 0, 0, 0, 1, 0, 1, 1, 1, 0, 1,\n",
       "       1, 1, 1, 0, 1, 1, 1, 1, 1, 1, 1, 0, 0, 0, 0, 0, 0, 1, 1, 0, 1, 1,\n",
       "       0, 0, 1, 1, 1, 1, 0, 1, 1, 1, 0, 0, 1, 0, 1, 1, 0, 0, 1, 1, 0, 1,\n",
       "       1, 0, 0, 1, 1, 1, 1, 0, 1, 1, 1, 1, 1, 0, 1, 0, 0, 1, 0, 1, 1, 1,\n",
       "       1, 1, 1, 0, 0, 1, 0, 1, 1, 1, 1, 0, 1, 1, 1, 1, 1, 1, 0, 0, 1, 1,\n",
       "       0, 1, 0, 0, 1, 1, 1, 1, 1, 1, 1, 0, 1, 1, 0, 1, 0, 0, 1, 1, 1, 1,\n",
       "       1, 1, 0, 1, 1, 0, 1, 1, 0, 1, 0, 1, 1, 0, 0, 1, 1, 1, 1, 1, 0, 1,\n",
       "       0, 0, 1, 1, 1, 1, 1, 0, 1, 1, 0, 1, 1, 0, 1, 1, 0, 0, 1, 1, 0, 0,\n",
       "       0, 0, 0, 1, 0, 1, 1, 1, 1, 1, 1, 1, 1, 1, 1, 1, 0, 0, 1, 0, 1, 0,\n",
       "       1, 0, 0, 0, 1, 0, 0, 1, 0, 0, 1, 1, 1, 1, 1, 0, 1, 0, 0, 1, 0, 1,\n",
       "       1, 1, 1, 0, 1, 1, 1, 1, 1, 1, 1, 0, 1, 1, 1, 1, 1, 0, 0, 1, 1, 1,\n",
       "       0, 1, 1, 1, 1, 1, 0, 0, 1, 0, 0, 0, 1, 1, 0, 1, 1, 1, 1, 0, 0, 0,\n",
       "       0, 0, 0, 1, 1, 1, 1, 0, 1, 0, 0, 1, 1, 1, 0, 0, 1, 1, 1, 1, 0, 1,\n",
       "       0, 1, 1, 1, 1, 1, 1, 1, 1, 1, 1, 1, 1, 1, 0, 0, 1, 0, 1, 0, 1, 0,\n",
       "       0, 0, 1, 1, 0, 1, 1, 0, 1, 1, 1, 0, 0, 1, 0, 1, 1, 0, 1, 1, 1, 0,\n",
       "       1, 0, 1, 1, 1, 1, 1, 0, 0, 1, 1, 0, 1, 1, 0, 1, 1, 0, 0, 0, 0, 1,\n",
       "       0, 1, 1, 1, 1, 0, 1, 1, 0, 1, 0, 0, 0, 0, 0, 1, 1, 1, 0, 0, 1, 0,\n",
       "       1, 1, 1], dtype=int64)"
      ]
     },
     "execution_count": 38,
     "metadata": {},
     "output_type": "execute_result"
    }
   ],
   "source": [
    "# Make predictions\n",
    "y_predictions_DTree = DTreeClassifier.predict(X_test)\n",
    "y_predictions_DTree"
   ]
  },
  {
   "cell_type": "markdown",
   "metadata": {
    "slideshow": {
     "slide_type": "subslide"
    }
   },
   "source": [
    "##### Evaluate the model"
   ]
  },
  {
   "cell_type": "code",
   "execution_count": 39,
   "metadata": {
    "slideshow": {
     "slide_type": "fragment"
    }
   },
   "outputs": [
    {
     "data": {
      "text/plain": [
       "array([[210, 103],\n",
       "       [ 93, 345]], dtype=int64)"
      ]
     },
     "execution_count": 39,
     "metadata": {},
     "output_type": "execute_result"
    }
   ],
   "source": [
    "# Instantiate a confusion matrix for the model\n",
    "cm_DTree = confusion_matrix(y_test, y_predictions_DTree)\n",
    "cm_DTree"
   ]
  },
  {
   "cell_type": "code",
   "execution_count": 40,
   "metadata": {
    "slideshow": {
     "slide_type": "fragment"
    }
   },
   "outputs": [
    {
     "data": {
      "text/plain": [
       "0.7390146471371505"
      ]
     },
     "execution_count": 40,
     "metadata": {},
     "output_type": "execute_result"
    }
   ],
   "source": [
    "# Assign variables to the CM outputs\n",
    "tp_DT = 345\n",
    "fp_DT = 93\n",
    "tn_DT = 210\n",
    "fn_DT = 103\n",
    "\n",
    "# Calculate the accuracy score\n",
    "DTree_accuracy_score = (tp_DT + tn_DT) / (tp_DT + tn_DT + fp_DT + fn_DT) \n",
    "DTree_accuracy_score"
   ]
  },
  {
   "cell_type": "code",
   "execution_count": 41,
   "metadata": {
    "slideshow": {
     "slide_type": "fragment"
    }
   },
   "outputs": [
    {
     "data": {
      "text/plain": [
       "0.7876712328767124"
      ]
     },
     "execution_count": 41,
     "metadata": {},
     "output_type": "execute_result"
    }
   ],
   "source": [
    "# Calculate the precision score\n",
    "DTree_precision_score = tp_DT / (tp_DT + fp_DT)\n",
    "DTree_precision_score"
   ]
  },
  {
   "cell_type": "code",
   "execution_count": 42,
   "metadata": {
    "slideshow": {
     "slide_type": "fragment"
    }
   },
   "outputs": [
    {
     "data": {
      "text/plain": [
       "0.7700892857142857"
      ]
     },
     "execution_count": 42,
     "metadata": {},
     "output_type": "execute_result"
    }
   ],
   "source": [
    "# Calculate the recall score \n",
    "DTree_recall_score = tp_DT / (tp_DT + fn_DT)\n",
    "DTree_recall_score"
   ]
  },
  {
   "cell_type": "code",
   "execution_count": 43,
   "metadata": {
    "slideshow": {
     "slide_type": "fragment"
    }
   },
   "outputs": [
    {
     "data": {
      "text/plain": [
       "0.7787810383747177"
      ]
     },
     "execution_count": 43,
     "metadata": {},
     "output_type": "execute_result"
    }
   ],
   "source": [
    "# Calculate the F1 weighting\n",
    "DTree_F1_Score = 2 * DTree_precision_score * DTree_recall_score / (DTree_precision_score + DTree_recall_score)\n",
    "DTree_F1_Score"
   ]
  },
  {
   "cell_type": "code",
   "execution_count": 44,
   "metadata": {
    "slideshow": {
     "slide_type": "fragment"
    }
   },
   "outputs": [
    {
     "name": "stdout",
     "output_type": "stream",
     "text": [
      "'Score on training set: 0.9964460239893381'\n",
      "'Score on testing set: 0.7390146471371505'\n"
     ]
    }
   ],
   "source": [
    "# Compare training and test accuracy scores\n",
    "pprint(f'Score on training set: {DTreeClassifier.score(X_train, y_train)}')\n",
    "pprint(f'Score on testing set: {DTreeClassifier.score(X_test, y_test)}')"
   ]
  },
  {
   "cell_type": "markdown",
   "metadata": {
    "slideshow": {
     "slide_type": "subslide"
    }
   },
   "source": [
    "### Decision Tree hyperparameter tuning"
   ]
  },
  {
   "cell_type": "code",
   "execution_count": 62,
   "metadata": {
    "slideshow": {
     "slide_type": "fragment"
    }
   },
   "outputs": [],
   "source": [
    "# Set up a GridSearch to test out a range of values for decision-tree parameters\n",
    "# to determine what combination forms the best estimator\n",
    "\n",
    "grid = GridSearchCV(estimator=DecisionTreeClassifier(), param_grid= {'max_depth' : [3, 5, 7, 10],\n",
    "                                                                     'min_samples_split' : [5, 7, 10, 15, 20], \n",
    "                                                                     'min_samples_leaf' : [2,3,4,5,6,7]}, \n",
    "                    cv = 5)"
   ]
  },
  {
   "cell_type": "code",
   "execution_count": 63,
   "metadata": {
    "slideshow": {
     "slide_type": "fragment"
    }
   },
   "outputs": [
    {
     "name": "stdout",
     "output_type": "stream",
     "text": [
      "631.9880268573761\n"
     ]
    }
   ],
   "source": [
    "# This takes about 11 minutes to run altogether\n",
    "# Start our timer.\n",
    "t0 = time.time()\n",
    "\n",
    "# Let's GridSearch over the above parameters on our training data.\n",
    "grid.fit(X_train, y_train)\n",
    "\n",
    "# Stop our timer and print the result.\n",
    "print(time.time() - t0)"
   ]
  },
  {
   "cell_type": "code",
   "execution_count": 64,
   "metadata": {
    "slideshow": {
     "slide_type": "fragment"
    }
   },
   "outputs": [
    {
     "data": {
      "text/plain": [
       "DecisionTreeClassifier(ccp_alpha=0.0, class_weight=None, criterion='gini',\n",
       "                       max_depth=7, max_features=None, max_leaf_nodes=None,\n",
       "                       min_impurity_decrease=0.0, min_impurity_split=None,\n",
       "                       min_samples_leaf=6, min_samples_split=7,\n",
       "                       min_weight_fraction_leaf=0.0, presort='deprecated',\n",
       "                       random_state=None, splitter='best')"
      ]
     },
     "execution_count": 64,
     "metadata": {},
     "output_type": "execute_result"
    }
   ],
   "source": [
    "# Which combination achieves the best results\n",
    "grid.best_estimator_"
   ]
  },
  {
   "cell_type": "code",
   "execution_count": 65,
   "metadata": {
    "slideshow": {
     "slide_type": "skip"
    }
   },
   "outputs": [
    {
     "data": {
      "text/plain": [
       "0.7427829514658784"
      ]
     },
     "execution_count": 65,
     "metadata": {},
     "output_type": "execute_result"
    }
   ],
   "source": [
    "# What's the best score\n",
    "grid.best_score_"
   ]
  },
  {
   "cell_type": "code",
   "execution_count": 66,
   "metadata": {
    "slideshow": {
     "slide_type": "skip"
    }
   },
   "outputs": [
    {
     "data": {
      "text/plain": [
       "DecisionTreeClassifier(ccp_alpha=0.0, class_weight=None, criterion='gini',\n",
       "                       max_depth=7, max_features=None, max_leaf_nodes=None,\n",
       "                       min_impurity_decrease=0.0, min_impurity_split=None,\n",
       "                       min_samples_leaf=6, min_samples_split=7,\n",
       "                       min_weight_fraction_leaf=0.0, presort='deprecated',\n",
       "                       random_state=None, splitter='best')"
      ]
     },
     "execution_count": 66,
     "metadata": {},
     "output_type": "execute_result"
    }
   ],
   "source": [
    "# Instantiate model with best parameters.\n",
    "dt = grid.best_estimator_\n",
    "\n",
    "# Fit model.\n",
    "dt.fit(X_train, y_train)"
   ]
  },
  {
   "cell_type": "code",
   "execution_count": 67,
   "metadata": {
    "slideshow": {
     "slide_type": "skip"
    }
   },
   "outputs": [],
   "source": [
    "# Generate predictions on test set.\n",
    "preds = dt.predict(X_test)"
   ]
  },
  {
   "cell_type": "markdown",
   "metadata": {
    "slideshow": {
     "slide_type": "subslide"
    }
   },
   "source": [
    "##### Evaluate the model"
   ]
  },
  {
   "cell_type": "code",
   "execution_count": 68,
   "metadata": {
    "slideshow": {
     "slide_type": "fragment"
    }
   },
   "outputs": [
    {
     "data": {
      "text/plain": [
       "array([[232,  81],\n",
       "       [124, 314]], dtype=int64)"
      ]
     },
     "execution_count": 68,
     "metadata": {},
     "output_type": "execute_result"
    }
   ],
   "source": [
    "# Generate confusion matrix for the model\n",
    "cm_tDt = confusion_matrix(y_test, preds)\n",
    "cm_tDt"
   ]
  },
  {
   "cell_type": "code",
   "execution_count": 69,
   "metadata": {
    "slideshow": {
     "slide_type": "fragment"
    }
   },
   "outputs": [
    {
     "data": {
      "text/plain": [
       "0.7230359520639148"
      ]
     },
     "execution_count": 69,
     "metadata": {},
     "output_type": "execute_result"
    }
   ],
   "source": [
    "# Assign variable to cm outputs\n",
    "tn_tDt = 229\n",
    "fn_tDt = 84\n",
    "tp_tDt = 314\n",
    "fp_tDt = 124\n",
    "\n",
    "# Calculate the accuracy score\n",
    "tuned_DT_accuracy_score = (tp_tDt + tn_tDt) / (tp_tDt + tn_tDt + fp_tDt + fn_tDt)\n",
    "tuned_DT_accuracy_score"
   ]
  },
  {
   "cell_type": "code",
   "execution_count": 70,
   "metadata": {
    "slideshow": {
     "slide_type": "skip"
    }
   },
   "outputs": [
    {
     "data": {
      "text/plain": [
       "0.7168949771689498"
      ]
     },
     "execution_count": 70,
     "metadata": {},
     "output_type": "execute_result"
    }
   ],
   "source": [
    "# Calculate the precision score\n",
    "tuned_DT_precision_score = tp_tDt / (tp_tDt + fp_tDt)\n",
    "tuned_DT_precision_score"
   ]
  },
  {
   "cell_type": "code",
   "execution_count": 71,
   "metadata": {
    "slideshow": {
     "slide_type": "skip"
    }
   },
   "outputs": [
    {
     "data": {
      "text/plain": [
       "0.7889447236180904"
      ]
     },
     "execution_count": 71,
     "metadata": {},
     "output_type": "execute_result"
    }
   ],
   "source": [
    "# Calculate the recall score\n",
    "tuned_DT_recall_score = tp_tDt / (tp_tDt + fn_tDt)\n",
    "tuned_DT_recall_score"
   ]
  },
  {
   "cell_type": "code",
   "execution_count": 72,
   "metadata": {
    "slideshow": {
     "slide_type": "skip"
    }
   },
   "outputs": [
    {
     "data": {
      "text/plain": [
       "0.7511961722488038"
      ]
     },
     "execution_count": 72,
     "metadata": {},
     "output_type": "execute_result"
    }
   ],
   "source": [
    "# Calculate the f1 weighting\n",
    "tuned_DT_F1_Score = 2 * tuned_DT_precision_score * tuned_DT_recall_score / (tuned_DT_precision_score + tuned_DT_recall_score)\n",
    "tuned_DT_F1_Score"
   ]
  },
  {
   "cell_type": "code",
   "execution_count": 73,
   "metadata": {
    "slideshow": {
     "slide_type": "skip"
    }
   },
   "outputs": [
    {
     "name": "stdout",
     "output_type": "stream",
     "text": [
      "'Score on training set: 0.787205686361617'\n",
      "'Score on testing set: 0.7270306258322237'\n"
     ]
    }
   ],
   "source": [
    "# Compare the accuracy scores for training vs test data\n",
    "pprint(f'Score on training set: {dt.score(X_train, y_train)}')\n",
    "pprint(f'Score on testing set: {dt.score(X_test, y_test)}')"
   ]
  },
  {
   "cell_type": "markdown",
   "metadata": {
    "slideshow": {
     "slide_type": "slide"
    }
   },
   "source": [
    "## Random Forest"
   ]
  },
  {
   "cell_type": "code",
   "execution_count": 74,
   "metadata": {
    "slideshow": {
     "slide_type": "fragment"
    }
   },
   "outputs": [
    {
     "name": "stdout",
     "output_type": "stream",
     "text": [
      "{'bootstrap': True,\n",
      " 'ccp_alpha': 0.0,\n",
      " 'class_weight': None,\n",
      " 'criterion': 'entropy',\n",
      " 'max_depth': None,\n",
      " 'max_features': 'auto',\n",
      " 'max_leaf_nodes': None,\n",
      " 'max_samples': None,\n",
      " 'min_impurity_decrease': 0.0,\n",
      " 'min_impurity_split': None,\n",
      " 'min_samples_leaf': 1,\n",
      " 'min_samples_split': 2,\n",
      " 'min_weight_fraction_leaf': 0.0,\n",
      " 'n_estimators': 300,\n",
      " 'n_jobs': None,\n",
      " 'oob_score': False,\n",
      " 'random_state': 42,\n",
      " 'verbose': 0,\n",
      " 'warm_start': False}\n"
     ]
    }
   ],
   "source": [
    "# Instantiate the Random Forest classifier and look at its parameters\n",
    "\n",
    "RFclassifier = RandomForestClassifier(n_estimators = 300, criterion = 'entropy', random_state = 42)\n",
    "pprint(RFclassifier.get_params())"
   ]
  },
  {
   "cell_type": "code",
   "execution_count": 75,
   "metadata": {
    "slideshow": {
     "slide_type": "fragment"
    }
   },
   "outputs": [
    {
     "data": {
      "text/plain": [
       "RandomForestClassifier(bootstrap=True, ccp_alpha=0.0, class_weight=None,\n",
       "                       criterion='entropy', max_depth=None, max_features='auto',\n",
       "                       max_leaf_nodes=None, max_samples=None,\n",
       "                       min_impurity_decrease=0.0, min_impurity_split=None,\n",
       "                       min_samples_leaf=1, min_samples_split=2,\n",
       "                       min_weight_fraction_leaf=0.0, n_estimators=300,\n",
       "                       n_jobs=None, oob_score=False, random_state=42, verbose=0,\n",
       "                       warm_start=False)"
      ]
     },
     "execution_count": 75,
     "metadata": {},
     "output_type": "execute_result"
    }
   ],
   "source": [
    "# fit the classifier to the data\n",
    "RFclassifier.fit(X_train, y_train)"
   ]
  },
  {
   "cell_type": "code",
   "execution_count": 76,
   "metadata": {
    "slideshow": {
     "slide_type": "fragment"
    }
   },
   "outputs": [
    {
     "data": {
      "text/plain": [
       "array([1, 1, 1, 1, 1, 1, 0, 1, 0, 1, 1, 1, 1, 1, 1, 1, 1, 0, 0, 0, 1, 0,\n",
       "       1, 1, 1, 1, 1, 1, 0, 1, 0, 0, 1, 0, 1, 1, 1, 1, 0, 0, 0, 1, 1, 0,\n",
       "       1, 0, 0, 1, 0, 1, 0, 0, 1, 0, 1, 0, 1, 0, 0, 1, 1, 0, 1, 1, 1, 1,\n",
       "       1, 1, 1, 1, 0, 0, 0, 1, 1, 1, 0, 1, 1, 1, 1, 1, 0, 0, 1, 1, 1, 1,\n",
       "       0, 1, 0, 1, 1, 1, 1, 0, 1, 0, 0, 0, 0, 1, 1, 1, 1, 1, 0, 1, 1, 1,\n",
       "       1, 1, 0, 0, 1, 1, 1, 1, 0, 0, 0, 1, 0, 1, 1, 1, 1, 0, 1, 1, 1, 1,\n",
       "       1, 0, 0, 0, 0, 0, 1, 1, 0, 0, 0, 0, 1, 1, 0, 1, 1, 0, 0, 1, 1, 1,\n",
       "       1, 0, 1, 1, 1, 1, 1, 1, 0, 1, 0, 1, 0, 0, 0, 0, 1, 0, 0, 1, 0, 1,\n",
       "       1, 0, 1, 1, 0, 1, 1, 1, 0, 0, 0, 0, 0, 1, 0, 0, 1, 1, 1, 1, 1, 1,\n",
       "       0, 1, 0, 0, 1, 0, 0, 0, 0, 1, 1, 1, 1, 0, 1, 1, 1, 1, 1, 1, 1, 0,\n",
       "       1, 1, 0, 1, 1, 1, 0, 0, 0, 1, 1, 1, 0, 0, 0, 0, 0, 1, 1, 1, 1, 1,\n",
       "       1, 1, 0, 1, 1, 0, 1, 1, 0, 1, 0, 1, 1, 0, 1, 1, 1, 1, 1, 1, 0, 1,\n",
       "       1, 0, 1, 1, 1, 1, 1, 1, 1, 1, 1, 1, 0, 1, 1, 1, 1, 0, 0, 0, 1, 1,\n",
       "       1, 0, 1, 0, 0, 0, 1, 1, 0, 0, 0, 1, 1, 0, 1, 1, 1, 1, 1, 1, 1, 0,\n",
       "       1, 1, 1, 0, 1, 0, 1, 1, 1, 1, 0, 1, 1, 1, 0, 1, 0, 1, 1, 1, 0, 1,\n",
       "       1, 1, 1, 0, 1, 0, 0, 1, 0, 1, 1, 1, 0, 0, 1, 0, 0, 0, 1, 1, 1, 0,\n",
       "       1, 1, 1, 1, 1, 1, 0, 1, 1, 1, 1, 0, 1, 1, 1, 1, 0, 1, 1, 1, 1, 0,\n",
       "       1, 1, 1, 1, 1, 1, 1, 1, 1, 0, 1, 1, 0, 0, 1, 1, 0, 1, 1, 1, 1, 1,\n",
       "       1, 1, 1, 0, 0, 1, 1, 1, 1, 1, 1, 1, 1, 0, 1, 0, 0, 1, 1, 0, 1, 0,\n",
       "       0, 0, 1, 1, 1, 1, 0, 1, 1, 1, 1, 1, 1, 1, 1, 0, 0, 0, 1, 1, 0, 1,\n",
       "       1, 0, 0, 1, 1, 1, 1, 0, 1, 1, 1, 1, 1, 1, 1, 1, 1, 1, 0, 1, 1, 1,\n",
       "       0, 1, 1, 0, 0, 1, 1, 1, 1, 1, 0, 1, 1, 0, 1, 1, 1, 1, 1, 0, 1, 1,\n",
       "       1, 1, 0, 0, 1, 1, 1, 1, 1, 1, 1, 0, 1, 1, 0, 1, 0, 1, 1, 1, 1, 1,\n",
       "       1, 1, 0, 1, 1, 0, 0, 1, 0, 1, 1, 1, 1, 0, 1, 1, 1, 1, 1, 1, 0, 1,\n",
       "       0, 0, 1, 0, 1, 1, 1, 0, 1, 1, 1, 1, 1, 0, 1, 1, 1, 0, 1, 1, 0, 0,\n",
       "       1, 0, 0, 1, 1, 1, 1, 1, 1, 1, 1, 1, 1, 1, 1, 1, 0, 1, 1, 0, 1, 0,\n",
       "       1, 0, 0, 0, 1, 1, 0, 1, 0, 1, 0, 1, 1, 0, 1, 0, 1, 0, 0, 1, 0, 1,\n",
       "       1, 1, 1, 1, 0, 0, 1, 1, 1, 1, 0, 0, 1, 1, 1, 1, 1, 0, 0, 1, 1, 1,\n",
       "       0, 1, 1, 1, 1, 1, 0, 0, 1, 1, 1, 0, 1, 1, 0, 1, 1, 1, 1, 0, 0, 0,\n",
       "       0, 0, 0, 1, 1, 0, 1, 1, 1, 0, 0, 0, 1, 1, 1, 0, 1, 0, 1, 1, 0, 1,\n",
       "       0, 1, 1, 1, 1, 1, 1, 1, 1, 1, 1, 1, 1, 1, 0, 0, 1, 1, 1, 0, 1, 0,\n",
       "       0, 0, 1, 1, 0, 1, 1, 0, 1, 1, 1, 0, 1, 1, 0, 1, 1, 0, 1, 1, 1, 0,\n",
       "       1, 1, 1, 1, 1, 1, 1, 1, 1, 1, 1, 0, 1, 1, 1, 1, 1, 0, 1, 0, 0, 1,\n",
       "       0, 1, 1, 1, 1, 0, 1, 1, 1, 1, 1, 1, 0, 1, 0, 1, 0, 1, 0, 0, 1, 1,\n",
       "       1, 1, 1], dtype=int64)"
      ]
     },
     "execution_count": 76,
     "metadata": {},
     "output_type": "execute_result"
    }
   ],
   "source": [
    "# Make predictions against test data\n",
    "y_predictions_RF = RFclassifier.predict(X_test)\n",
    "y_predictions_RF"
   ]
  },
  {
   "cell_type": "markdown",
   "metadata": {
    "slideshow": {
     "slide_type": "subslide"
    }
   },
   "source": [
    "##### Evaluate the model"
   ]
  },
  {
   "cell_type": "code",
   "execution_count": 77,
   "metadata": {
    "slideshow": {
     "slide_type": "fragment"
    }
   },
   "outputs": [
    {
     "data": {
      "text/plain": [
       "array([[208, 105],\n",
       "       [ 37, 401]], dtype=int64)"
      ]
     },
     "execution_count": 77,
     "metadata": {},
     "output_type": "execute_result"
    }
   ],
   "source": [
    "# Instantiate a confusion matrix for the model\n",
    "cm_RF = confusion_matrix(y_test, y_predictions_RF)\n",
    "cm_RF"
   ]
  },
  {
   "cell_type": "code",
   "execution_count": 78,
   "metadata": {
    "slideshow": {
     "slide_type": "fragment"
    }
   },
   "outputs": [],
   "source": [
    "# Assign variables to cm output\n",
    "tp_RF = 401\n",
    "fp_RF = 37\n",
    "tn_RF = 208\n",
    "fn_RF = 105"
   ]
  },
  {
   "cell_type": "code",
   "execution_count": 79,
   "metadata": {
    "slideshow": {
     "slide_type": "fragment"
    }
   },
   "outputs": [
    {
     "data": {
      "text/plain": [
       "0.810918774966711"
      ]
     },
     "execution_count": 79,
     "metadata": {},
     "output_type": "execute_result"
    }
   ],
   "source": [
    "# Calculate accuracy score\n",
    "RF_accuracy_score = (tp_RF + tn_RF) / (tp_RF + tn_RF + fp_RF + fn_RF)\n",
    "RF_accuracy_score"
   ]
  },
  {
   "cell_type": "code",
   "execution_count": 80,
   "metadata": {
    "slideshow": {
     "slide_type": "skip"
    }
   },
   "outputs": [
    {
     "data": {
      "text/plain": [
       "0.9155251141552512"
      ]
     },
     "execution_count": 80,
     "metadata": {},
     "output_type": "execute_result"
    }
   ],
   "source": [
    "# Calculate precision score\n",
    "RF_precision_score = tp_RF / (tp_RF + fp_RF)\n",
    "RF_precision_score"
   ]
  },
  {
   "cell_type": "code",
   "execution_count": 81,
   "metadata": {
    "slideshow": {
     "slide_type": "skip"
    }
   },
   "outputs": [
    {
     "data": {
      "text/plain": [
       "0.7924901185770751"
      ]
     },
     "execution_count": 81,
     "metadata": {},
     "output_type": "execute_result"
    }
   ],
   "source": [
    "# Calculate recall score\n",
    "RF_recall_score = tp_RF / (tp_RF + fn_RF)\n",
    "RF_recall_score"
   ]
  },
  {
   "cell_type": "code",
   "execution_count": 82,
   "metadata": {
    "slideshow": {
     "slide_type": "skip"
    }
   },
   "outputs": [
    {
     "data": {
      "text/plain": [
       "0.8495762711864406"
      ]
     },
     "execution_count": 82,
     "metadata": {},
     "output_type": "execute_result"
    }
   ],
   "source": [
    "# Calculate F1 score\n",
    "RF_F1_Score = 2 * RF_precision_score * RF_recall_score / (RF_precision_score + RF_recall_score)\n",
    "RF_F1_Score"
   ]
  },
  {
   "cell_type": "code",
   "execution_count": 83,
   "metadata": {
    "slideshow": {
     "slide_type": "skip"
    }
   },
   "outputs": [
    {
     "name": "stdout",
     "output_type": "stream",
     "text": [
      "Score on training set: 0.9964460239893381\n",
      "Score on testing set: 0.810918774966711\n"
     ]
    }
   ],
   "source": [
    "# Compare training and test accuracy scores\n",
    "print(f'Score on training set: {RFclassifier.score(X_train, y_train)}')\n",
    "print(f'Score on testing set: {RFclassifier.score(X_test, y_test)}')"
   ]
  },
  {
   "cell_type": "markdown",
   "metadata": {
    "slideshow": {
     "slide_type": "subslide"
    }
   },
   "source": [
    "#### Random Forest hyperparameter tuning"
   ]
  },
  {
   "cell_type": "code",
   "execution_count": 46,
   "metadata": {
    "slideshow": {
     "slide_type": "fragment"
    }
   },
   "outputs": [
    {
     "name": "stdout",
     "output_type": "stream",
     "text": [
      "{'max_depth': [10, 20, 30, 40, 50, 60, 70, None],\n",
      " 'min_samples_leaf': [1, 2, 3],\n",
      " 'min_samples_split': [2, 4, 6],\n",
      " 'n_estimators': [100, 262, 425, 587, 750]}\n"
     ]
    }
   ],
   "source": [
    "# Set the variables for the RandomizedSearchCV\n",
    "n_estimators = [int(x) for x in np.linspace(start = 100, stop = 750, num = 5)] # number of trees\n",
    "max_depth = [int(x) for x in np.linspace(10, 70, num = 7)] # max depth of tree\n",
    "max_depth.append(None)\n",
    "min_samples_split = [2, 4, 6] # Minimum samples required to split a node\n",
    "min_samples_leaf = [1, 2, 3] # Minimum samples required at each leaf node\n",
    "\n",
    "# Create the  grid\n",
    "grid = {'n_estimators': n_estimators,\n",
    "               'max_depth': max_depth,\n",
    "               'min_samples_split': min_samples_split,\n",
    "               'min_samples_leaf': min_samples_leaf}\n",
    "pprint(grid)"
   ]
  },
  {
   "cell_type": "code",
   "execution_count": 47,
   "metadata": {
    "slideshow": {
     "slide_type": "fragment"
    }
   },
   "outputs": [],
   "source": [
    "# Instantiate the RandomSearchCV\n",
    "\n",
    "RFclassifier = RandomForestClassifier()\n",
    "# Random search of parameters, using 5-fold cross validation, \n",
    "# search across 100 different combinations, and use all available cores\n",
    "RandomizedRF = RandomizedSearchCV(estimator = RFclassifier, param_distributions = grid, n_iter = 100, cv = 5, verbose=2, random_state=42, n_jobs = -1)"
   ]
  },
  {
   "cell_type": "code",
   "execution_count": 48,
   "metadata": {
    "slideshow": {
     "slide_type": "subslide"
    }
   },
   "outputs": [
    {
     "name": "stdout",
     "output_type": "stream",
     "text": [
      "Fitting 5 folds for each of 100 candidates, totalling 500 fits\n"
     ]
    },
    {
     "name": "stderr",
     "output_type": "stream",
     "text": [
      "[Parallel(n_jobs=-1)]: Using backend LokyBackend with 8 concurrent workers.\n",
      "[Parallel(n_jobs=-1)]: Done  25 tasks      | elapsed:  1.8min\n",
      "[Parallel(n_jobs=-1)]: Done 146 tasks      | elapsed: 11.4min\n",
      "[Parallel(n_jobs=-1)]: Done 349 tasks      | elapsed: 27.6min\n",
      "[Parallel(n_jobs=-1)]: Done 500 out of 500 | elapsed: 40.8min finished\n"
     ]
    },
    {
     "name": "stdout",
     "output_type": "stream",
     "text": [
      "2457.5423431396484\n"
     ]
    }
   ],
   "source": [
    "# This takes about forty-three minutes to run altogether\n",
    "# Start our timer.\n",
    "t0 = time.time()\n",
    "\n",
    "# Fit the random search model\n",
    "RandomizedRF.fit(X_train, y_train)\n",
    "\n",
    "# # Let's GridSearch over the above parameters on our training data.\n",
    "# grid.fit(X_train, y_train)\n",
    "\n",
    "# Stop our timer and print the result.\n",
    "print(time.time() - t0)"
   ]
  },
  {
   "cell_type": "code",
   "execution_count": 49,
   "metadata": {
    "slideshow": {
     "slide_type": "fragment"
    }
   },
   "outputs": [
    {
     "data": {
      "text/plain": [
       "RandomForestClassifier(bootstrap=True, ccp_alpha=0.0, class_weight=None,\n",
       "                       criterion='gini', max_depth=None, max_features='auto',\n",
       "                       max_leaf_nodes=None, max_samples=None,\n",
       "                       min_impurity_decrease=0.0, min_impurity_split=None,\n",
       "                       min_samples_leaf=3, min_samples_split=4,\n",
       "                       min_weight_fraction_leaf=0.0, n_estimators=262,\n",
       "                       n_jobs=None, oob_score=False, random_state=None,\n",
       "                       verbose=0, warm_start=False)"
      ]
     },
     "execution_count": 49,
     "metadata": {},
     "output_type": "execute_result"
    }
   ],
   "source": [
    "# What combination ultimately performs best?\n",
    "RandomizedRF.best_estimator_"
   ]
  },
  {
   "cell_type": "code",
   "execution_count": 50,
   "metadata": {
    "slideshow": {
     "slide_type": "fragment"
    }
   },
   "outputs": [
    {
     "data": {
      "text/plain": [
       "0.8205173688100518"
      ]
     },
     "execution_count": 50,
     "metadata": {},
     "output_type": "execute_result"
    }
   ],
   "source": [
    "RandomizedRF.best_score_"
   ]
  },
  {
   "cell_type": "code",
   "execution_count": 51,
   "metadata": {
    "slideshow": {
     "slide_type": "skip"
    }
   },
   "outputs": [
    {
     "data": {
      "text/plain": [
       "RandomForestClassifier(bootstrap=True, ccp_alpha=0.0, class_weight=None,\n",
       "                       criterion='gini', max_depth=None, max_features='auto',\n",
       "                       max_leaf_nodes=None, max_samples=None,\n",
       "                       min_impurity_decrease=0.0, min_impurity_split=None,\n",
       "                       min_samples_leaf=3, min_samples_split=4,\n",
       "                       min_weight_fraction_leaf=0.0, n_estimators=262,\n",
       "                       n_jobs=None, oob_score=False, random_state=None,\n",
       "                       verbose=0, warm_start=False)"
      ]
     },
     "execution_count": 51,
     "metadata": {},
     "output_type": "execute_result"
    }
   ],
   "source": [
    "# Instantiate model with best parameters.\n",
    "optRF = RandomizedRF.best_estimator_\n",
    "\n",
    "# Fit model.\n",
    "optRF.fit(X_train, y_train)"
   ]
  },
  {
   "cell_type": "code",
   "execution_count": 52,
   "metadata": {
    "slideshow": {
     "slide_type": "skip"
    }
   },
   "outputs": [
    {
     "data": {
      "text/plain": [
       "array([1, 1, 1, 1, 0, 1, 0, 1, 0, 1, 1, 1, 1, 1, 1, 1, 1, 1, 0, 0, 1, 0,\n",
       "       1, 1, 1, 1, 1, 1, 0, 1, 0, 0, 1, 0, 1, 1, 1, 1, 0, 0, 0, 1, 1, 0,\n",
       "       0, 0, 0, 1, 0, 1, 0, 0, 1, 0, 1, 0, 1, 1, 0, 1, 1, 1, 1, 1, 1, 1,\n",
       "       1, 1, 1, 1, 0, 0, 0, 1, 1, 1, 0, 1, 0, 1, 1, 1, 0, 0, 1, 1, 1, 1,\n",
       "       0, 1, 0, 1, 0, 1, 1, 0, 1, 0, 0, 0, 0, 1, 1, 1, 1, 1, 0, 1, 1, 1,\n",
       "       1, 1, 0, 0, 1, 1, 1, 1, 0, 0, 0, 1, 0, 1, 1, 0, 1, 0, 1, 0, 1, 1,\n",
       "       1, 0, 0, 0, 0, 0, 1, 1, 0, 0, 0, 0, 1, 1, 0, 1, 1, 0, 0, 1, 1, 1,\n",
       "       1, 0, 1, 1, 1, 1, 1, 1, 0, 1, 0, 1, 0, 0, 0, 0, 0, 0, 0, 1, 0, 1,\n",
       "       1, 0, 0, 0, 0, 1, 1, 1, 0, 0, 0, 0, 0, 1, 0, 0, 1, 1, 1, 1, 1, 1,\n",
       "       0, 1, 0, 0, 1, 0, 1, 0, 0, 1, 1, 1, 0, 1, 1, 1, 1, 1, 1, 1, 1, 0,\n",
       "       1, 1, 0, 1, 1, 1, 0, 0, 0, 1, 1, 1, 0, 0, 0, 0, 0, 1, 1, 1, 1, 1,\n",
       "       1, 1, 0, 1, 1, 0, 1, 1, 0, 1, 0, 1, 1, 0, 1, 1, 1, 1, 1, 1, 0, 1,\n",
       "       1, 0, 1, 1, 1, 1, 1, 1, 1, 1, 1, 1, 0, 1, 1, 1, 1, 0, 0, 0, 1, 1,\n",
       "       1, 0, 1, 0, 0, 0, 0, 1, 0, 0, 0, 1, 1, 1, 1, 1, 1, 1, 1, 1, 1, 0,\n",
       "       1, 1, 1, 0, 1, 0, 1, 1, 1, 1, 0, 1, 1, 1, 0, 1, 0, 1, 1, 1, 0, 1,\n",
       "       1, 1, 1, 0, 1, 0, 0, 1, 0, 1, 1, 1, 0, 0, 1, 0, 0, 0, 1, 1, 1, 0,\n",
       "       1, 1, 1, 1, 0, 1, 1, 1, 1, 1, 1, 0, 1, 1, 1, 1, 0, 1, 1, 1, 1, 0,\n",
       "       1, 1, 1, 1, 1, 1, 1, 1, 1, 0, 1, 1, 0, 0, 1, 1, 0, 1, 1, 1, 1, 1,\n",
       "       1, 0, 1, 0, 0, 1, 1, 1, 1, 1, 1, 1, 0, 0, 1, 0, 0, 1, 1, 0, 1, 0,\n",
       "       0, 0, 1, 1, 1, 1, 0, 1, 1, 1, 1, 1, 1, 1, 1, 1, 0, 0, 1, 1, 0, 1,\n",
       "       1, 0, 0, 1, 1, 1, 1, 0, 1, 1, 1, 1, 1, 1, 1, 1, 1, 1, 0, 1, 1, 1,\n",
       "       0, 1, 1, 0, 0, 1, 1, 1, 1, 1, 0, 1, 1, 0, 1, 1, 1, 1, 1, 0, 1, 1,\n",
       "       1, 1, 0, 0, 1, 1, 1, 1, 1, 1, 1, 0, 1, 1, 0, 1, 0, 1, 1, 1, 1, 1,\n",
       "       1, 1, 0, 1, 1, 0, 0, 1, 0, 1, 1, 1, 1, 0, 0, 1, 1, 1, 1, 1, 0, 1,\n",
       "       1, 0, 1, 0, 1, 1, 1, 0, 1, 1, 1, 1, 1, 0, 1, 1, 1, 0, 1, 1, 0, 0,\n",
       "       1, 0, 0, 1, 1, 1, 1, 1, 1, 1, 1, 1, 1, 1, 1, 1, 0, 1, 1, 0, 1, 0,\n",
       "       1, 0, 0, 0, 1, 1, 0, 1, 0, 1, 0, 1, 1, 0, 1, 0, 1, 0, 0, 1, 0, 1,\n",
       "       1, 1, 1, 1, 0, 0, 1, 1, 1, 1, 0, 0, 1, 1, 1, 1, 1, 0, 0, 1, 1, 1,\n",
       "       0, 1, 1, 1, 1, 1, 0, 0, 1, 1, 1, 0, 1, 1, 0, 1, 1, 1, 1, 0, 0, 0,\n",
       "       0, 0, 0, 1, 1, 0, 1, 1, 1, 0, 0, 0, 1, 1, 1, 0, 1, 1, 1, 1, 0, 1,\n",
       "       0, 1, 1, 1, 1, 1, 1, 1, 0, 1, 1, 1, 1, 1, 0, 0, 1, 1, 1, 0, 1, 0,\n",
       "       0, 0, 1, 1, 0, 1, 1, 0, 1, 1, 1, 0, 1, 1, 0, 1, 1, 0, 1, 1, 1, 0,\n",
       "       1, 1, 1, 1, 1, 1, 1, 1, 1, 1, 1, 0, 1, 1, 1, 1, 1, 0, 1, 0, 1, 1,\n",
       "       0, 1, 1, 1, 1, 0, 1, 1, 1, 1, 1, 1, 0, 1, 0, 1, 0, 1, 1, 0, 1, 1,\n",
       "       1, 1, 1], dtype=int64)"
      ]
     },
     "execution_count": 52,
     "metadata": {},
     "output_type": "execute_result"
    }
   ],
   "source": [
    "# Generate predictions on test set.\n",
    "predsRF = optRF.predict(X_test)\n",
    "predsRF"
   ]
  },
  {
   "cell_type": "markdown",
   "metadata": {
    "slideshow": {
     "slide_type": "subslide"
    }
   },
   "source": [
    "##### Evaluate the model"
   ]
  },
  {
   "cell_type": "code",
   "execution_count": 53,
   "metadata": {
    "slideshow": {
     "slide_type": "fragment"
    }
   },
   "outputs": [
    {
     "data": {
      "text/plain": [
       "array([[208, 105],\n",
       "       [ 41, 397]], dtype=int64)"
      ]
     },
     "execution_count": 53,
     "metadata": {},
     "output_type": "execute_result"
    }
   ],
   "source": [
    "# Generate confusion matrix.\n",
    "cm_tRF = confusion_matrix(y_test, predsRF)\n",
    "\n",
    "cm_tRF"
   ]
  },
  {
   "cell_type": "code",
   "execution_count": 54,
   "metadata": {
    "slideshow": {
     "slide_type": "fragment"
    }
   },
   "outputs": [
    {
     "data": {
      "text/plain": [
       "0.810918774966711"
      ]
     },
     "execution_count": 54,
     "metadata": {},
     "output_type": "execute_result"
    }
   ],
   "source": [
    "# Assign variables to CM output\n",
    "tn_tRF = 209\n",
    "fn_tRF = 104\n",
    "tp_tRF = 400\n",
    "fp_tRF = 38\n",
    "\n",
    "# Calculate the accuracy score\n",
    "tuned_RF_accuracy_score = (tp_tRF + tn_tRF) / (tp_tRF + tn_tRF + fp_tRF + fn_tRF)\n",
    "tuned_RF_accuracy_score"
   ]
  },
  {
   "cell_type": "code",
   "execution_count": 55,
   "metadata": {
    "slideshow": {
     "slide_type": "fragment"
    }
   },
   "outputs": [
    {
     "data": {
      "text/plain": [
       "0.91324200913242"
      ]
     },
     "execution_count": 55,
     "metadata": {},
     "output_type": "execute_result"
    }
   ],
   "source": [
    "# Calculate the precision score\n",
    "tuned_RF_precision_score = tp_tRF / (tp_tRF + fp_tRF)\n",
    "tuned_RF_precision_score"
   ]
  },
  {
   "cell_type": "code",
   "execution_count": 56,
   "metadata": {
    "slideshow": {
     "slide_type": "fragment"
    }
   },
   "outputs": [
    {
     "data": {
      "text/plain": [
       "0.7936507936507936"
      ]
     },
     "execution_count": 56,
     "metadata": {},
     "output_type": "execute_result"
    }
   ],
   "source": [
    "# Calculate the precision score\n",
    "tuned_RF_recall_score = tp_tRF / (tp_tRF + fn_tRF)\n",
    "tuned_RF_recall_score"
   ]
  },
  {
   "cell_type": "code",
   "execution_count": 57,
   "metadata": {
    "slideshow": {
     "slide_type": "fragment"
    }
   },
   "outputs": [
    {
     "data": {
      "text/plain": [
       "0.8492569002123143"
      ]
     },
     "execution_count": 57,
     "metadata": {},
     "output_type": "execute_result"
    }
   ],
   "source": [
    "# Calculate the F1 score\n",
    "tuned_RF_F1_Score = 2 * tuned_RF_precision_score * tuned_RF_recall_score / (tuned_RF_precision_score + tuned_RF_recall_score)\n",
    "tuned_RF_F1_Score"
   ]
  },
  {
   "cell_type": "code",
   "execution_count": 58,
   "metadata": {
    "scrolled": true,
    "slideshow": {
     "slide_type": "fragment"
    }
   },
   "outputs": [
    {
     "name": "stdout",
     "output_type": "stream",
     "text": [
      "'Score on training set: 0.8982674366948024'\n",
      "'Score on testing set: 0.8055925432756325'\n"
     ]
    }
   ],
   "source": [
    "# Compare the training and test accuracy scores \n",
    "pprint(f'Score on training set: {optRF.score(X_train, y_train)}')\n",
    "pprint(f'Score on testing set: {optRF.score(X_test, y_test)}')"
   ]
  },
  {
   "cell_type": "markdown",
   "metadata": {
    "slideshow": {
     "slide_type": "skip"
    }
   },
   "source": [
    "\n",
    "<a name=\"test_data\"></a>\n",
    "# Importing the test data"
   ]
  },
  {
   "cell_type": "code",
   "execution_count": 84,
   "metadata": {
    "slideshow": {
     "slide_type": "skip"
    }
   },
   "outputs": [],
   "source": [
    "# Create a completely empty Dataframe without any column names, indices or data\n",
    "df_test = pd.DataFrame()"
   ]
  },
  {
   "cell_type": "code",
   "execution_count": 85,
   "metadata": {
    "slideshow": {
     "slide_type": "skip"
    }
   },
   "outputs": [],
   "source": [
    "# Use a for loop to iterate through this list of subreddits, \n",
    "# using the PushShift API and requests to pull the content from a specific date\n",
    "# then write the content into my pandas dataframe\n",
    "\n",
    "test_subreddit_list = ['drugs', 'opiates', 'stims', 'drinking', 'recovery', \n",
    "                  'opiatesrecovery', 'redditorsinrecovery', 'stopdrinking']\n",
    "\n",
    "\n",
    "for subreddit in test_subreddit_list:\n",
    "    params = {'subreddit' : subreddit, 'size' : 100, 'before' : 1583284923} # March 4, 2020\n",
    "    url = 'https://api.pushshift.io/reddit/submission/search'\n",
    "    results = requests.get(url, params)\n",
    "    rawdata = results.json()\n",
    "    posts = rawdata['data']\n",
    "    df_test = df_test.append(posts, sort=True)"
   ]
  },
  {
   "cell_type": "code",
   "execution_count": 86,
   "metadata": {
    "slideshow": {
     "slide_type": "skip"
    }
   },
   "outputs": [],
   "source": [
    "# Let's replace the text in our target variable with binary values where heroin = 0 and recovery = 1\n",
    "\n",
    "subreddit_list_dict = {'Drugs' : 0, \n",
    "                       'opiates' : 0, \n",
    "                       'Stims' : 0, \n",
    "                       'Drinking' : 0 , \n",
    "                       'recovery' : 1, \n",
    "                       'OpiatesRecovery' : 1, \n",
    "                       'REDDITORSINRECOVERY' : 1, \n",
    "                       'stopdrinking' : 1}\n",
    "\n",
    "df_test.replace(subreddit_list_dict, inplace=True)"
   ]
  },
  {
   "cell_type": "markdown",
   "metadata": {
    "slideshow": {
     "slide_type": "skip"
    }
   },
   "source": [
    "## Cleaning the test data"
   ]
  },
  {
   "cell_type": "code",
   "execution_count": 87,
   "metadata": {
    "slideshow": {
     "slide_type": "skip"
    }
   },
   "outputs": [
    {
     "data": {
      "text/plain": [
       "(590, 2)"
      ]
     },
     "execution_count": 87,
     "metadata": {},
     "output_type": "execute_result"
    }
   ],
   "source": [
    "# Data cleaning\n",
    "df_test.fillna(method = 'bfill', inplace=True) # replace nan values\n",
    "df_test = df_test[df_test.selftext != ''] # remove empty strings\n",
    "df_test = df_test[df_test.selftext != '[removed]'] # remove posts pulled by reddit moderators\n",
    "df_test = df_test[['subreddit', 'selftext']] # Reconstitute df with only the relevant features\n",
    "df_test.shape # with bad content removed"
   ]
  },
  {
   "cell_type": "code",
   "execution_count": 88,
   "metadata": {
    "slideshow": {
     "slide_type": "skip"
    }
   },
   "outputs": [],
   "source": [
    "df_test.reset_index(inplace = True)"
   ]
  },
  {
   "cell_type": "code",
   "execution_count": 89,
   "metadata": {
    "slideshow": {
     "slide_type": "skip"
    }
   },
   "outputs": [],
   "source": [
    "df_test.to_csv(\"../data/test.csv\", index = False)"
   ]
  },
  {
   "cell_type": "markdown",
   "metadata": {
    "slideshow": {
     "slide_type": "skip"
    }
   },
   "source": [
    "## Preprocessing the test data"
   ]
  },
  {
   "cell_type": "code",
   "execution_count": 90,
   "metadata": {
    "slideshow": {
     "slide_type": "skip"
    }
   },
   "outputs": [
    {
     "name": "stderr",
     "output_type": "stream",
     "text": [
      "C:\\Users\\shawn\\miniconda3\\lib\\site-packages\\ipykernel_launcher.py:12: SettingWithCopyWarning: \n",
      "A value is trying to be set on a copy of a slice from a DataFrame\n",
      "\n",
      "See the caveats in the documentation: http://pandas.pydata.org/pandas-docs/stable/user_guide/indexing.html#returning-a-view-versus-a-copy\n",
      "  if sys.path[0] == '':\n"
     ]
    }
   ],
   "source": [
    "# Preprocess the posting content; this should take under 2 minutes\n",
    "# start an empty list to hold preprocessed postings\n",
    "\n",
    "processed_test_postings = [] \n",
    "for i in range(len(df_test)):  # for each of 590 posts\n",
    "    posting = re.sub('[^a-zA-Z]', ' ', df_test['selftext'][i]) # remove non text characters\n",
    "    posting = posting.lower() # lower-case everything\n",
    "    posting = posting.split() # split into words\n",
    "    ps = PorterStemmer() # instantiate the Porter word stemmer\n",
    "    posting = [ps.stem(word) for word in posting if not word in set(stopwords.words('english'))] # reduce to only stemmed non-stopwords\n",
    "    posting = ' '.join(posting) # reassemble the string\n",
    "    df_test['selftext'][i] = posting # put the stemmed content back into the df\n",
    "    processed_test_postings.append(posting) # add it to the corpus\n",
    "    "
   ]
  },
  {
   "cell_type": "code",
   "execution_count": 91,
   "metadata": {
    "slideshow": {
     "slide_type": "skip"
    }
   },
   "outputs": [
    {
     "data": {
      "text/plain": [
       "(590, 2)"
      ]
     },
     "execution_count": 91,
     "metadata": {},
     "output_type": "execute_result"
    }
   ],
   "source": [
    "df_test.reset_index(inplace = True)\n",
    "df_test = df_test[['subreddit', 'selftext']] # Reconstitute df with only the relevant features\n",
    "df_test.shape"
   ]
  },
  {
   "cell_type": "code",
   "execution_count": 92,
   "metadata": {
    "slideshow": {
     "slide_type": "skip"
    }
   },
   "outputs": [],
   "source": [
    "# Write a copy to csv\n",
    "df_test.to_csv(\"../data/test.csv\", index = False)"
   ]
  },
  {
   "cell_type": "markdown",
   "metadata": {
    "slideshow": {
     "slide_type": "skip"
    }
   },
   "source": [
    "## Making predictions against the unknown data"
   ]
  },
  {
   "cell_type": "code",
   "execution_count": 93,
   "metadata": {
    "slideshow": {
     "slide_type": "skip"
    }
   },
   "outputs": [],
   "source": [
    "#Set up count vectorizer, fit it to the data\n",
    "\n",
    "cvec_test = CountVectorizer()\n",
    "X = cvec_test.fit_transform(processed_test_postings).toarray()\n",
    "y = df_test.iloc[:, 0].values"
   ]
  },
  {
   "cell_type": "code",
   "execution_count": 94,
   "metadata": {
    "slideshow": {
     "slide_type": "skip"
    }
   },
   "outputs": [],
   "source": [
    "# Set up another  instance of the best performing model\n",
    "GaussianNB_production = GaussianNB()"
   ]
  },
  {
   "cell_type": "code",
   "execution_count": 95,
   "metadata": {
    "slideshow": {
     "slide_type": "skip"
    }
   },
   "outputs": [
    {
     "data": {
      "text/plain": [
       "GaussianNB(priors=None, var_smoothing=1e-09)"
      ]
     },
     "execution_count": 95,
     "metadata": {},
     "output_type": "execute_result"
    }
   ],
   "source": [
    "# Fit it to the data\n",
    "GaussianNB_production.fit(X,y)"
   ]
  },
  {
   "cell_type": "code",
   "execution_count": 96,
   "metadata": {
    "slideshow": {
     "slide_type": "skip"
    }
   },
   "outputs": [],
   "source": [
    "df_test[\"Predictions\"] = GaussianNB_production.predict(X) # Write predictions to the database\n",
    "df_test.to_csv(\"../data/predictions.csv\", index = False) # And write to csv"
   ]
  },
  {
   "cell_type": "markdown",
   "metadata": {
    "slideshow": {
     "slide_type": "skip"
    }
   },
   "source": [
    "## Evaluating the final model"
   ]
  },
  {
   "cell_type": "code",
   "execution_count": 97,
   "metadata": {},
   "outputs": [],
   "source": [
    "# Assign a variable to the predictions\n",
    "production_preds = GaussianNB_production.predict(X)"
   ]
  },
  {
   "cell_type": "code",
   "execution_count": 98,
   "metadata": {
    "slideshow": {
     "slide_type": "skip"
    }
   },
   "outputs": [
    {
     "data": {
      "text/plain": [
       "array([[245,   0],\n",
       "       [ 21, 324]], dtype=int64)"
      ]
     },
     "execution_count": 98,
     "metadata": {},
     "output_type": "execute_result"
    }
   ],
   "source": [
    "# Generate confusion matrix.\n",
    "cm_production = confusion_matrix(y, production_preds)\n",
    "cm_production"
   ]
  },
  {
   "cell_type": "code",
   "execution_count": 99,
   "metadata": {
    "slideshow": {
     "slide_type": "skip"
    }
   },
   "outputs": [
    {
     "data": {
      "text/plain": [
       "0.964406779661017"
      ]
     },
     "execution_count": 99,
     "metadata": {},
     "output_type": "execute_result"
    }
   ],
   "source": [
    "# Assign variables to cm output\n",
    "\n",
    "tn_production = 245\n",
    "fn_production = 0\n",
    "tp_production = 324\n",
    "fp_production = 21\n",
    "\n",
    "# Calculate accuracy score\n",
    "\n",
    "production_accuracy_score = (tp_production + tn_production) / (tp_production + tn_production + fp_production + fn_production)\n",
    "production_accuracy_score"
   ]
  },
  {
   "cell_type": "code",
   "execution_count": 100,
   "metadata": {
    "slideshow": {
     "slide_type": "skip"
    }
   },
   "outputs": [
    {
     "data": {
      "text/plain": [
       "0.9391304347826087"
      ]
     },
     "execution_count": 100,
     "metadata": {},
     "output_type": "execute_result"
    }
   ],
   "source": [
    "# Calculate precision score\n",
    "production_precision_score = tp_production / (tp_production + fp_production)\n",
    "production_precision_score"
   ]
  },
  {
   "cell_type": "code",
   "execution_count": 101,
   "metadata": {
    "slideshow": {
     "slide_type": "skip"
    }
   },
   "outputs": [
    {
     "data": {
      "text/plain": [
       "1.0"
      ]
     },
     "execution_count": 101,
     "metadata": {},
     "output_type": "execute_result"
    }
   ],
   "source": [
    "# Calculate recall score\n",
    "production_recall_score = tp_production / (tp_production + fn_production)\n",
    "production_recall_score"
   ]
  },
  {
   "cell_type": "code",
   "execution_count": 102,
   "metadata": {
    "slideshow": {
     "slide_type": "skip"
    }
   },
   "outputs": [
    {
     "data": {
      "text/plain": [
       "0.968609865470852"
      ]
     },
     "execution_count": 102,
     "metadata": {},
     "output_type": "execute_result"
    }
   ],
   "source": [
    "# Calculate f1 score\n",
    "production_F1_Score = 2 * production_precision_score * production_recall_score / (production_precision_score + production_recall_score)\n",
    "production_F1_Score"
   ]
  }
 ],
 "metadata": {
  "kernelspec": {
   "display_name": "Python 3",
   "language": "python",
   "name": "python3"
  },
  "language_info": {
   "codemirror_mode": {
    "name": "ipython",
    "version": 3
   },
   "file_extension": ".py",
   "mimetype": "text/x-python",
   "name": "python",
   "nbconvert_exporter": "python",
   "pygments_lexer": "ipython3",
   "version": "3.7.1"
  }
 },
 "nbformat": 4,
 "nbformat_minor": 4
}
