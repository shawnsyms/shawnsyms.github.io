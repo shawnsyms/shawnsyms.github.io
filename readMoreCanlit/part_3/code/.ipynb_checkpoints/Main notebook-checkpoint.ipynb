{
 "cells": [
  {
   "cell_type": "markdown",
   "metadata": {},
   "source": [
    "### Imports"
   ]
  },
  {
   "cell_type": "code",
   "execution_count": 2,
   "metadata": {},
   "outputs": [],
   "source": [
    "# pandas and numpy\n",
    "import pandas as pd\n",
    "import numpy as np\n",
    "\n",
    "# nltk imports\n",
    "import nltk\n",
    "from nltk.corpus import stopwords\n",
    "from nltk.stem import WordNetLemmatizer\n",
    "from nltk.stem.porter import PorterStemmer\n",
    "from nltk.tokenize import RegexpTokenizer\n",
    "\n",
    "# sci-kit learn imports\n",
    "from sklearn.compose import make_column_transformer\n",
    "from sklearn.feature_extraction.text import TfidfVectorizer\n",
    "from sklearn.metrics.pairwise import linear_kernel \n",
    "from sklearn.pipeline import Pipeline, make_pipeline\n",
    "\n",
    "# Presentation and visuals\n",
    "import seaborn as sns\n",
    "import matplotlib.pyplot as plt\n",
    "\n",
    "# This magic line will allow you to generate plots\n",
    "# within the Jupyter notebook.\n",
    "%matplotlib inline\n",
    "from pprint import pprint\n",
    "pd.options.display.max_seq_items = 2000\n",
    "pd.options.display.max_rows = 4000\n",
    "# pd.set_option(display.max_columns), None\n",
    "\n",
    "# other imports\n",
    "import json\n",
    "import lxml\n",
    "from lxml import html\n",
    "import random\n",
    "import regex as re\n",
    "import requests\n",
    "import time\n",
    "import urllib.request\n",
    "from datetime import datetime\n",
    "\n"
   ]
  },
  {
   "cell_type": "code",
   "execution_count": 4,
   "metadata": {},
   "outputs": [],
   "source": [
    "df = pd.read_csv('../data/processed/canadian.csv')"
   ]
  },
  {
   "cell_type": "code",
   "execution_count": 7,
   "metadata": {},
   "outputs": [
    {
     "data": {
      "text/html": [
       "<div>\n",
       "<style scoped>\n",
       "    .dataframe tbody tr th:only-of-type {\n",
       "        vertical-align: middle;\n",
       "    }\n",
       "\n",
       "    .dataframe tbody tr th {\n",
       "        vertical-align: top;\n",
       "    }\n",
       "\n",
       "    .dataframe thead th {\n",
       "        text-align: right;\n",
       "    }\n",
       "</style>\n",
       "<table border=\"1\" class=\"dataframe\">\n",
       "  <thead>\n",
       "    <tr style=\"text-align: right;\">\n",
       "      <th></th>\n",
       "      <th>title</th>\n",
       "      <th>authors</th>\n",
       "      <th>image</th>\n",
       "      <th>description</th>\n",
       "    </tr>\n",
       "  </thead>\n",
       "  <tbody>\n",
       "    <tr>\n",
       "      <th>7999</th>\n",
       "      <td>Zero Day</td>\n",
       "      <td>Ezekiel Boone</td>\n",
       "      <td>https://images.49thshelf.com/var/ezflow_site/s...</td>\n",
       "      <td>The wildly entertaining, deeply satisfying fin...</td>\n",
       "    </tr>\n",
       "    <tr>\n",
       "      <th>8000</th>\n",
       "      <td>Zip's File</td>\n",
       "      <td>Shannon Maguire</td>\n",
       "      <td>https://images.49thshelf.com/var/ezflow_site/s...</td>\n",
       "      <td>Zip's File: A Romance of Silence explores the ...</td>\n",
       "    </tr>\n",
       "    <tr>\n",
       "      <th>8001</th>\n",
       "      <td>Zolitude</td>\n",
       "      <td>Paige Cooper</td>\n",
       "      <td>https://images.49thshelf.com/var/ezflow_site/s...</td>\n",
       "      <td>WINNER OF THE 2018 QUEBEC WRITERS' FEDERATION ...</td>\n",
       "    </tr>\n",
       "    <tr>\n",
       "      <th>8002</th>\n",
       "      <td>Zoo and Crowbar</td>\n",
       "      <td>David Zieroth</td>\n",
       "      <td>https://images.49thshelf.com/var/ezflow_site/s...</td>\n",
       "      <td>The Wind has mysteriously caused the death of ...</td>\n",
       "    </tr>\n",
       "    <tr>\n",
       "      <th>8003</th>\n",
       "      <td>Zora, A Cruel Tale</td>\n",
       "      <td>Philippe Arseneault</td>\n",
       "      <td>https://images.49thshelf.com/var/ezflow_site/s...</td>\n",
       "      <td>Arsenault’s Rabelaisian fantasy is a gothic ta...</td>\n",
       "    </tr>\n",
       "  </tbody>\n",
       "</table>\n",
       "</div>"
      ],
      "text/plain": [
       "                   title              authors  \\\n",
       "7999            Zero Day        Ezekiel Boone   \n",
       "8000          Zip's File      Shannon Maguire   \n",
       "8001            Zolitude         Paige Cooper   \n",
       "8002     Zoo and Crowbar        David Zieroth   \n",
       "8003  Zora, A Cruel Tale  Philippe Arseneault   \n",
       "\n",
       "                                                  image  \\\n",
       "7999  https://images.49thshelf.com/var/ezflow_site/s...   \n",
       "8000  https://images.49thshelf.com/var/ezflow_site/s...   \n",
       "8001  https://images.49thshelf.com/var/ezflow_site/s...   \n",
       "8002  https://images.49thshelf.com/var/ezflow_site/s...   \n",
       "8003  https://images.49thshelf.com/var/ezflow_site/s...   \n",
       "\n",
       "                                            description  \n",
       "7999  The wildly entertaining, deeply satisfying fin...  \n",
       "8000  Zip's File: A Romance of Silence explores the ...  \n",
       "8001  WINNER OF THE 2018 QUEBEC WRITERS' FEDERATION ...  \n",
       "8002  The Wind has mysteriously caused the death of ...  \n",
       "8003  Arsenault’s Rabelaisian fantasy is a gothic ta...  "
      ]
     },
     "execution_count": 7,
     "metadata": {},
     "output_type": "execute_result"
    }
   ],
   "source": [
    "df.tail()\n"
   ]
  },
  {
   "cell_type": "code",
   "execution_count": null,
   "metadata": {},
   "outputs": [],
   "source": [
    "# isbn = pd.read_csv('../data/isbnlist.csv', 'isbn' : str)\n",
    "# base_url = 'https://www.biblioshare.ca/BNCServices/BNCServices.asmx/ONIX?Token=zvo3vpz7uulcuajs&EAN='\n",
    "# for isbn in isbn['isbn']:\n",
    "#     target_url = base_url + isbn"
   ]
  },
  {
   "cell_type": "markdown",
   "metadata": {},
   "source": [
    "### Preprocessing\n"
   ]
  },
  {
   "cell_type": "code",
   "execution_count": null,
   "metadata": {},
   "outputs": [],
   "source": [
    "# Preprocess the posting content; this should take under 2 minutes\n",
    "# start an empty list to hold preprocessed postings\n",
    "\n",
    "for i in range(len(df)):  # for each description\n",
    "    desc = re.sub('[^a-zA-Z]', ' ', df['description'][i]) # remove non text characters\n",
    "    desc = desc.lower() # lower-case everything\n",
    "    desc = desc.split() # split into words\n",
    "    desc = ' '.join(desc) # reassemble the string\n",
    "    df['description'][i] = desc\n"
   ]
  },
  {
   "cell_type": "markdown",
   "metadata": {},
   "source": [
    "## Modeling"
   ]
  },
  {
   "cell_type": "markdown",
   "metadata": {},
   "source": [
    "### TF-IDF"
   ]
  },
  {
   "cell_type": "code",
   "execution_count": null,
   "metadata": {},
   "outputs": [],
   "source": [
    "tf = TfidfVectorizer(analyzer='word', ngram_range=(1, 3), min_df=0, stop_words='english')\n",
    "tfidf_matrix = tf.fit_transform(df['description'])\n",
    "cosine_similarities = linear_kernel(tfidf_matrix, tfidf_matrix)"
   ]
  },
  {
   "cell_type": "markdown",
   "metadata": {},
   "source": [
    "### Recommender"
   ]
  },
  {
   "cell_type": "code",
   "execution_count": null,
   "metadata": {},
   "outputs": [],
   "source": [
    "results = {}\n",
    "\n",
    "for idx, row in df.iterrows():\n",
    "    similar_indices = cosine_similarities[idx].argsort()[:-100:-1]\n",
    "    similar_items = [(cosine_similarities[idx][i], df['id'][i]) for i in similar_indices]\n",
    "    results[row['id']] = similar_items[1:]"
   ]
  },
  {
   "cell_type": "code",
   "execution_count": null,
   "metadata": {},
   "outputs": [],
   "source": [
    "def item(id):\n",
    "    return df.loc[df['id'] == id]['description'].tolist()[0].split(' - ')[0]"
   ]
  },
  {
   "cell_type": "code",
   "execution_count": null,
   "metadata": {},
   "outputs": [],
   "source": [
    "def recommend(item_id, num):\n",
    "    print(\"Here \" + str(num) + \" books that are similar to \" + item(item_id) + \"...\")\n",
    "    print(\"-------\")\n",
    "    recs = results[item_id][:num]\n",
    "    for rec in recs:\n",
    "        print(\"Recommended: \" + item(rec[1]) + \" (score:\" + str(rec[0]) + \")\")"
   ]
  },
  {
   "cell_type": "code",
   "execution_count": null,
   "metadata": {},
   "outputs": [],
   "source": [
    "print('How many new books would you like to learn about?')\n",
    "num_books = input()"
   ]
  },
  {
   "cell_type": "code",
   "execution_count": null,
   "metadata": {},
   "outputs": [],
   "source": [
    "recommend(item_id=109, num=3)"
   ]
  },
  {
   "cell_type": "markdown",
   "metadata": {},
   "source": [
    "### Visualization"
   ]
  },
  {
   "cell_type": "code",
   "execution_count": null,
   "metadata": {},
   "outputs": [],
   "source": []
  },
  {
   "cell_type": "markdown",
   "metadata": {},
   "source": [
    "## References"
   ]
  },
  {
   "cell_type": "markdown",
   "metadata": {},
   "source": [
    "To come"
   ]
  }
 ],
 "metadata": {
  "kernelspec": {
   "display_name": "Python 3",
   "language": "python",
   "name": "python3"
  },
  "language_info": {
   "codemirror_mode": {
    "name": "ipython",
    "version": 3
   },
   "file_extension": ".py",
   "mimetype": "text/x-python",
   "name": "python",
   "nbconvert_exporter": "python",
   "pygments_lexer": "ipython3",
   "version": "3.7.6"
  }
 },
 "nbformat": 4,
 "nbformat_minor": 4
}
