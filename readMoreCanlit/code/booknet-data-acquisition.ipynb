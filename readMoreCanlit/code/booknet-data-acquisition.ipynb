{
 "cells": [
  {
   "cell_type": "markdown",
   "metadata": {},
   "source": [
    "# #readMoreCanlit | A Recommender System for Canadian Literature"
   ]
  },
  {
   "cell_type": "markdown",
   "metadata": {},
   "source": [
    "     "
   ]
  },
  {
   "cell_type": "markdown",
   "metadata": {},
   "source": [
    "     "
   ]
  },
  {
   "cell_type": "markdown",
   "metadata": {},
   "source": [
    "<center><img src='../img/readMoreCanlit.png'></center>"
   ]
  },
  {
   "cell_type": "markdown",
   "metadata": {},
   "source": [
    "> Shawn Syms<br>\n",
    "> https://shawnsyms.github.io/ <br>\n",
    "> shawn@shawnsyms.com <br>\n",
    "> 416-843-4169 <br>"
   ]
  },
  {
   "cell_type": "markdown",
   "metadata": {},
   "source": [
    "### Imports"
   ]
  },
  {
   "cell_type": "code",
   "execution_count": null,
   "metadata": {},
   "outputs": [],
   "source": [
    "# pandas and numpy\n",
    "import pandas as pd\n",
    "import numpy as np\n",
    "\n",
    "# nltk imports\n",
    "import nltk\n",
    "from nltk.corpus import stopwords\n",
    "from nltk.stem import WordNetLemmatizer\n",
    "from nltk.stem.porter import PorterStemmer\n",
    "from nltk.tokenize import RegexpTokenizer\n",
    "\n",
    "# sci-kit learn imports\n",
    "from sklearn.compose import make_column_transformer\n",
    "from sklearn.feature_extraction.text import TfidfVectorizer\n",
    "from sklearn.metrics.pairwise import linear_kernel \n",
    "from sklearn.pipeline import Pipeline, make_pipeline\n",
    "\n",
    "# Presentation and visuals\n",
    "import seaborn as sns\n",
    "import matplotlib.pyplot as plt\n",
    "\n",
    "# This magic line will allow you to generate plots\n",
    "# within the Jupyter notebook.\n",
    "%matplotlib inline\n",
    "from pprint import pprint\n",
    "pd.options.display.max_seq_items = 2000\n",
    "pd.options.display.max_rows = 4000\n",
    "# pd.set_option(display.max_columns), None\n",
    "\n",
    "# other imports\n",
    "import json\n",
    "import lxml\n",
    "import random\n",
    "import regex as re\n",
    "import requests\n",
    "import time\n",
    "import urllib.request\n",
    "from datetime import datetime"
   ]
  },
  {
   "cell_type": "markdown",
   "metadata": {},
   "source": [
    "# Data acquisition"
   ]
  },
  {
   "cell_type": "markdown",
   "metadata": {},
   "source": [
    "#### 49th shelf"
   ]
  },
  {
   "cell_type": "code",
   "execution_count": 40,
   "metadata": {},
   "outputs": [
    {
     "data": {
      "text/plain": [
       "title_url      object\n",
       "title          object\n",
       "authors        object\n",
       "image          object\n",
       "description    object\n",
       "dtype: object"
      ]
     },
     "execution_count": 40,
     "metadata": {},
     "output_type": "execute_result"
    }
   ],
   "source": [
    "canadian = pd.read_csv('../data/49th_shelf.csv')\n",
    "canadian = canadian.applymap(str)\n",
    "canadian.dtypes"
   ]
  },
  {
   "cell_type": "code",
   "execution_count": null,
   "metadata": {},
   "outputs": [],
   "source": [
    "for j in range(len(canadian)):\n",
    "\n",
    "    response = requests.get(canadian['title_url'][j])\n",
    "    payload = response.json()\n",
    "      \n",
    "    try:\n",
    "        canadian['title'][j] = payload['book']['title']\n",
    "    \n",
    "    except:\n",
    "        canadian['title'][j] = np.nan\n",
    "    \n",
    "    try:\n",
    "        canadian['authors'][j] = payload['book']['authors']\n",
    "    \n",
    "    except:\n",
    "        canadian['authors'][j] = np.nan\n",
    "              \n",
    "    try:\n",
    "        canadian['overview'][j] = payload['book']['overview']\n",
    "    \n",
    "    except:\n",
    "        canadian['overview'][j] = np.nan\n",
    "  \n",
    "    print('Info downloaded for book ' + str(j + 1) + ' of ' +  str(len(canadian)) + ' books.')\n",
    "              \n",
    "    time.sleep(1)\n",
    "    "
   ]
  },
  {
   "cell_type": "code",
   "execution_count": 49,
   "metadata": {},
   "outputs": [
    {
     "ename": "ConnectionError",
     "evalue": "HTTPSConnectionPool(host='49thshelf.com', port=443): Max retries exceeded with url: /Books/S/Some-Days-Run-Long (Caused by NewConnectionError('<urllib3.connection.VerifiedHTTPSConnection object at 0x0000017911275AC8>: Failed to establish a new connection: [WinError 10060] A connection attempt failed because the connected party did not properly respond after a period of time, or established connection failed because connected host has failed to respond'))",
     "output_type": "error",
     "traceback": [
      "\u001b[1;31m---------------------------------------------------------------------------\u001b[0m",
      "\u001b[1;31mTimeoutError\u001b[0m                              Traceback (most recent call last)",
      "\u001b[1;32mC:\\ProgramData\\Anaconda3\\lib\\site-packages\\urllib3\\connection.py\u001b[0m in \u001b[0;36m_new_conn\u001b[1;34m(self)\u001b[0m\n\u001b[0;32m    156\u001b[0m             conn = connection.create_connection(\n\u001b[1;32m--> 157\u001b[1;33m                 \u001b[1;33m(\u001b[0m\u001b[0mself\u001b[0m\u001b[1;33m.\u001b[0m\u001b[0m_dns_host\u001b[0m\u001b[1;33m,\u001b[0m \u001b[0mself\u001b[0m\u001b[1;33m.\u001b[0m\u001b[0mport\u001b[0m\u001b[1;33m)\u001b[0m\u001b[1;33m,\u001b[0m \u001b[0mself\u001b[0m\u001b[1;33m.\u001b[0m\u001b[0mtimeout\u001b[0m\u001b[1;33m,\u001b[0m \u001b[1;33m**\u001b[0m\u001b[0mextra_kw\u001b[0m\u001b[1;33m\u001b[0m\u001b[1;33m\u001b[0m\u001b[0m\n\u001b[0m\u001b[0;32m    158\u001b[0m             )\n",
      "\u001b[1;32mC:\\ProgramData\\Anaconda3\\lib\\site-packages\\urllib3\\util\\connection.py\u001b[0m in \u001b[0;36mcreate_connection\u001b[1;34m(address, timeout, source_address, socket_options)\u001b[0m\n\u001b[0;32m     83\u001b[0m     \u001b[1;32mif\u001b[0m \u001b[0merr\u001b[0m \u001b[1;32mis\u001b[0m \u001b[1;32mnot\u001b[0m \u001b[1;32mNone\u001b[0m\u001b[1;33m:\u001b[0m\u001b[1;33m\u001b[0m\u001b[1;33m\u001b[0m\u001b[0m\n\u001b[1;32m---> 84\u001b[1;33m         \u001b[1;32mraise\u001b[0m \u001b[0merr\u001b[0m\u001b[1;33m\u001b[0m\u001b[1;33m\u001b[0m\u001b[0m\n\u001b[0m\u001b[0;32m     85\u001b[0m \u001b[1;33m\u001b[0m\u001b[0m\n",
      "\u001b[1;32mC:\\ProgramData\\Anaconda3\\lib\\site-packages\\urllib3\\util\\connection.py\u001b[0m in \u001b[0;36mcreate_connection\u001b[1;34m(address, timeout, source_address, socket_options)\u001b[0m\n\u001b[0;32m     73\u001b[0m                 \u001b[0msock\u001b[0m\u001b[1;33m.\u001b[0m\u001b[0mbind\u001b[0m\u001b[1;33m(\u001b[0m\u001b[0msource_address\u001b[0m\u001b[1;33m)\u001b[0m\u001b[1;33m\u001b[0m\u001b[1;33m\u001b[0m\u001b[0m\n\u001b[1;32m---> 74\u001b[1;33m             \u001b[0msock\u001b[0m\u001b[1;33m.\u001b[0m\u001b[0mconnect\u001b[0m\u001b[1;33m(\u001b[0m\u001b[0msa\u001b[0m\u001b[1;33m)\u001b[0m\u001b[1;33m\u001b[0m\u001b[1;33m\u001b[0m\u001b[0m\n\u001b[0m\u001b[0;32m     75\u001b[0m             \u001b[1;32mreturn\u001b[0m \u001b[0msock\u001b[0m\u001b[1;33m\u001b[0m\u001b[1;33m\u001b[0m\u001b[0m\n",
      "\u001b[1;31mTimeoutError\u001b[0m: [WinError 10060] A connection attempt failed because the connected party did not properly respond after a period of time, or established connection failed because connected host has failed to respond",
      "\nDuring handling of the above exception, another exception occurred:\n",
      "\u001b[1;31mNewConnectionError\u001b[0m                        Traceback (most recent call last)",
      "\u001b[1;32mC:\\ProgramData\\Anaconda3\\lib\\site-packages\\urllib3\\connectionpool.py\u001b[0m in \u001b[0;36murlopen\u001b[1;34m(self, method, url, body, headers, retries, redirect, assert_same_host, timeout, pool_timeout, release_conn, chunked, body_pos, **response_kw)\u001b[0m\n\u001b[0;32m    671\u001b[0m                 \u001b[0mheaders\u001b[0m\u001b[1;33m=\u001b[0m\u001b[0mheaders\u001b[0m\u001b[1;33m,\u001b[0m\u001b[1;33m\u001b[0m\u001b[1;33m\u001b[0m\u001b[0m\n\u001b[1;32m--> 672\u001b[1;33m                 \u001b[0mchunked\u001b[0m\u001b[1;33m=\u001b[0m\u001b[0mchunked\u001b[0m\u001b[1;33m,\u001b[0m\u001b[1;33m\u001b[0m\u001b[1;33m\u001b[0m\u001b[0m\n\u001b[0m\u001b[0;32m    673\u001b[0m             )\n",
      "\u001b[1;32mC:\\ProgramData\\Anaconda3\\lib\\site-packages\\urllib3\\connectionpool.py\u001b[0m in \u001b[0;36m_make_request\u001b[1;34m(self, conn, method, url, timeout, chunked, **httplib_request_kw)\u001b[0m\n\u001b[0;32m    375\u001b[0m         \u001b[1;32mtry\u001b[0m\u001b[1;33m:\u001b[0m\u001b[1;33m\u001b[0m\u001b[1;33m\u001b[0m\u001b[0m\n\u001b[1;32m--> 376\u001b[1;33m             \u001b[0mself\u001b[0m\u001b[1;33m.\u001b[0m\u001b[0m_validate_conn\u001b[0m\u001b[1;33m(\u001b[0m\u001b[0mconn\u001b[0m\u001b[1;33m)\u001b[0m\u001b[1;33m\u001b[0m\u001b[1;33m\u001b[0m\u001b[0m\n\u001b[0m\u001b[0;32m    377\u001b[0m         \u001b[1;32mexcept\u001b[0m \u001b[1;33m(\u001b[0m\u001b[0mSocketTimeout\u001b[0m\u001b[1;33m,\u001b[0m \u001b[0mBaseSSLError\u001b[0m\u001b[1;33m)\u001b[0m \u001b[1;32mas\u001b[0m \u001b[0me\u001b[0m\u001b[1;33m:\u001b[0m\u001b[1;33m\u001b[0m\u001b[1;33m\u001b[0m\u001b[0m\n",
      "\u001b[1;32mC:\\ProgramData\\Anaconda3\\lib\\site-packages\\urllib3\\connectionpool.py\u001b[0m in \u001b[0;36m_validate_conn\u001b[1;34m(self, conn)\u001b[0m\n\u001b[0;32m    993\u001b[0m         \u001b[1;32mif\u001b[0m \u001b[1;32mnot\u001b[0m \u001b[0mgetattr\u001b[0m\u001b[1;33m(\u001b[0m\u001b[0mconn\u001b[0m\u001b[1;33m,\u001b[0m \u001b[1;34m\"sock\"\u001b[0m\u001b[1;33m,\u001b[0m \u001b[1;32mNone\u001b[0m\u001b[1;33m)\u001b[0m\u001b[1;33m:\u001b[0m  \u001b[1;31m# AppEngine might not have  `.sock`\u001b[0m\u001b[1;33m\u001b[0m\u001b[1;33m\u001b[0m\u001b[0m\n\u001b[1;32m--> 994\u001b[1;33m             \u001b[0mconn\u001b[0m\u001b[1;33m.\u001b[0m\u001b[0mconnect\u001b[0m\u001b[1;33m(\u001b[0m\u001b[1;33m)\u001b[0m\u001b[1;33m\u001b[0m\u001b[1;33m\u001b[0m\u001b[0m\n\u001b[0m\u001b[0;32m    995\u001b[0m \u001b[1;33m\u001b[0m\u001b[0m\n",
      "\u001b[1;32mC:\\ProgramData\\Anaconda3\\lib\\site-packages\\urllib3\\connection.py\u001b[0m in \u001b[0;36mconnect\u001b[1;34m(self)\u001b[0m\n\u001b[0;32m    299\u001b[0m         \u001b[1;31m# Add certificate verification\u001b[0m\u001b[1;33m\u001b[0m\u001b[1;33m\u001b[0m\u001b[1;33m\u001b[0m\u001b[0m\n\u001b[1;32m--> 300\u001b[1;33m         \u001b[0mconn\u001b[0m \u001b[1;33m=\u001b[0m \u001b[0mself\u001b[0m\u001b[1;33m.\u001b[0m\u001b[0m_new_conn\u001b[0m\u001b[1;33m(\u001b[0m\u001b[1;33m)\u001b[0m\u001b[1;33m\u001b[0m\u001b[1;33m\u001b[0m\u001b[0m\n\u001b[0m\u001b[0;32m    301\u001b[0m         \u001b[0mhostname\u001b[0m \u001b[1;33m=\u001b[0m \u001b[0mself\u001b[0m\u001b[1;33m.\u001b[0m\u001b[0mhost\u001b[0m\u001b[1;33m\u001b[0m\u001b[1;33m\u001b[0m\u001b[0m\n",
      "\u001b[1;32mC:\\ProgramData\\Anaconda3\\lib\\site-packages\\urllib3\\connection.py\u001b[0m in \u001b[0;36m_new_conn\u001b[1;34m(self)\u001b[0m\n\u001b[0;32m    168\u001b[0m             raise NewConnectionError(\n\u001b[1;32m--> 169\u001b[1;33m                 \u001b[0mself\u001b[0m\u001b[1;33m,\u001b[0m \u001b[1;34m\"Failed to establish a new connection: %s\"\u001b[0m \u001b[1;33m%\u001b[0m \u001b[0me\u001b[0m\u001b[1;33m\u001b[0m\u001b[1;33m\u001b[0m\u001b[0m\n\u001b[0m\u001b[0;32m    170\u001b[0m             )\n",
      "\u001b[1;31mNewConnectionError\u001b[0m: <urllib3.connection.VerifiedHTTPSConnection object at 0x0000017911275AC8>: Failed to establish a new connection: [WinError 10060] A connection attempt failed because the connected party did not properly respond after a period of time, or established connection failed because connected host has failed to respond",
      "\nDuring handling of the above exception, another exception occurred:\n",
      "\u001b[1;31mMaxRetryError\u001b[0m                             Traceback (most recent call last)",
      "\u001b[1;32mC:\\ProgramData\\Anaconda3\\lib\\site-packages\\requests\\adapters.py\u001b[0m in \u001b[0;36msend\u001b[1;34m(self, request, stream, timeout, verify, cert, proxies)\u001b[0m\n\u001b[0;32m    448\u001b[0m                     \u001b[0mretries\u001b[0m\u001b[1;33m=\u001b[0m\u001b[0mself\u001b[0m\u001b[1;33m.\u001b[0m\u001b[0mmax_retries\u001b[0m\u001b[1;33m,\u001b[0m\u001b[1;33m\u001b[0m\u001b[1;33m\u001b[0m\u001b[0m\n\u001b[1;32m--> 449\u001b[1;33m                     \u001b[0mtimeout\u001b[0m\u001b[1;33m=\u001b[0m\u001b[0mtimeout\u001b[0m\u001b[1;33m\u001b[0m\u001b[1;33m\u001b[0m\u001b[0m\n\u001b[0m\u001b[0;32m    450\u001b[0m                 )\n",
      "\u001b[1;32mC:\\ProgramData\\Anaconda3\\lib\\site-packages\\urllib3\\connectionpool.py\u001b[0m in \u001b[0;36murlopen\u001b[1;34m(self, method, url, body, headers, retries, redirect, assert_same_host, timeout, pool_timeout, release_conn, chunked, body_pos, **response_kw)\u001b[0m\n\u001b[0;32m    719\u001b[0m             retries = retries.increment(\n\u001b[1;32m--> 720\u001b[1;33m                 \u001b[0mmethod\u001b[0m\u001b[1;33m,\u001b[0m \u001b[0murl\u001b[0m\u001b[1;33m,\u001b[0m \u001b[0merror\u001b[0m\u001b[1;33m=\u001b[0m\u001b[0me\u001b[0m\u001b[1;33m,\u001b[0m \u001b[0m_pool\u001b[0m\u001b[1;33m=\u001b[0m\u001b[0mself\u001b[0m\u001b[1;33m,\u001b[0m \u001b[0m_stacktrace\u001b[0m\u001b[1;33m=\u001b[0m\u001b[0msys\u001b[0m\u001b[1;33m.\u001b[0m\u001b[0mexc_info\u001b[0m\u001b[1;33m(\u001b[0m\u001b[1;33m)\u001b[0m\u001b[1;33m[\u001b[0m\u001b[1;36m2\u001b[0m\u001b[1;33m]\u001b[0m\u001b[1;33m\u001b[0m\u001b[1;33m\u001b[0m\u001b[0m\n\u001b[0m\u001b[0;32m    721\u001b[0m             )\n",
      "\u001b[1;32mC:\\ProgramData\\Anaconda3\\lib\\site-packages\\urllib3\\util\\retry.py\u001b[0m in \u001b[0;36mincrement\u001b[1;34m(self, method, url, response, error, _pool, _stacktrace)\u001b[0m\n\u001b[0;32m    435\u001b[0m         \u001b[1;32mif\u001b[0m \u001b[0mnew_retry\u001b[0m\u001b[1;33m.\u001b[0m\u001b[0mis_exhausted\u001b[0m\u001b[1;33m(\u001b[0m\u001b[1;33m)\u001b[0m\u001b[1;33m:\u001b[0m\u001b[1;33m\u001b[0m\u001b[1;33m\u001b[0m\u001b[0m\n\u001b[1;32m--> 436\u001b[1;33m             \u001b[1;32mraise\u001b[0m \u001b[0mMaxRetryError\u001b[0m\u001b[1;33m(\u001b[0m\u001b[0m_pool\u001b[0m\u001b[1;33m,\u001b[0m \u001b[0murl\u001b[0m\u001b[1;33m,\u001b[0m \u001b[0merror\u001b[0m \u001b[1;32mor\u001b[0m \u001b[0mResponseError\u001b[0m\u001b[1;33m(\u001b[0m\u001b[0mcause\u001b[0m\u001b[1;33m)\u001b[0m\u001b[1;33m)\u001b[0m\u001b[1;33m\u001b[0m\u001b[1;33m\u001b[0m\u001b[0m\n\u001b[0m\u001b[0;32m    437\u001b[0m \u001b[1;33m\u001b[0m\u001b[0m\n",
      "\u001b[1;31mMaxRetryError\u001b[0m: HTTPSConnectionPool(host='49thshelf.com', port=443): Max retries exceeded with url: /Books/S/Some-Days-Run-Long (Caused by NewConnectionError('<urllib3.connection.VerifiedHTTPSConnection object at 0x0000017911275AC8>: Failed to establish a new connection: [WinError 10060] A connection attempt failed because the connected party did not properly respond after a period of time, or established connection failed because connected host has failed to respond'))",
      "\nDuring handling of the above exception, another exception occurred:\n",
      "\u001b[1;31mConnectionError\u001b[0m                           Traceback (most recent call last)",
      "\u001b[1;32m<ipython-input-49-971f9303d369>\u001b[0m in \u001b[0;36m<module>\u001b[1;34m\u001b[0m\n\u001b[1;32m----> 1\u001b[1;33m \u001b[0mresponse\u001b[0m \u001b[1;33m=\u001b[0m \u001b[0mrequests\u001b[0m\u001b[1;33m.\u001b[0m\u001b[0mget\u001b[0m\u001b[1;33m(\u001b[0m\u001b[0mcanadian\u001b[0m\u001b[1;33m[\u001b[0m\u001b[1;34m'title_url'\u001b[0m\u001b[1;33m]\u001b[0m\u001b[1;33m[\u001b[0m\u001b[1;36m1\u001b[0m\u001b[1;33m]\u001b[0m\u001b[1;33m)\u001b[0m\u001b[1;33m\u001b[0m\u001b[1;33m\u001b[0m\u001b[0m\n\u001b[0m\u001b[0;32m      2\u001b[0m \u001b[0msoup\u001b[0m \u001b[1;33m=\u001b[0m \u001b[0mBeautifulSoup\u001b[0m\u001b[1;33m(\u001b[0m\u001b[0mresponse\u001b[0m\u001b[1;33m.\u001b[0m\u001b[0mcontent\u001b[0m\u001b[1;33m)\u001b[0m\u001b[1;33m\u001b[0m\u001b[1;33m\u001b[0m\u001b[0m\n",
      "\u001b[1;32mC:\\ProgramData\\Anaconda3\\lib\\site-packages\\requests\\api.py\u001b[0m in \u001b[0;36mget\u001b[1;34m(url, params, **kwargs)\u001b[0m\n\u001b[0;32m     73\u001b[0m \u001b[1;33m\u001b[0m\u001b[0m\n\u001b[0;32m     74\u001b[0m     \u001b[0mkwargs\u001b[0m\u001b[1;33m.\u001b[0m\u001b[0msetdefault\u001b[0m\u001b[1;33m(\u001b[0m\u001b[1;34m'allow_redirects'\u001b[0m\u001b[1;33m,\u001b[0m \u001b[1;32mTrue\u001b[0m\u001b[1;33m)\u001b[0m\u001b[1;33m\u001b[0m\u001b[1;33m\u001b[0m\u001b[0m\n\u001b[1;32m---> 75\u001b[1;33m     \u001b[1;32mreturn\u001b[0m \u001b[0mrequest\u001b[0m\u001b[1;33m(\u001b[0m\u001b[1;34m'get'\u001b[0m\u001b[1;33m,\u001b[0m \u001b[0murl\u001b[0m\u001b[1;33m,\u001b[0m \u001b[0mparams\u001b[0m\u001b[1;33m=\u001b[0m\u001b[0mparams\u001b[0m\u001b[1;33m,\u001b[0m \u001b[1;33m**\u001b[0m\u001b[0mkwargs\u001b[0m\u001b[1;33m)\u001b[0m\u001b[1;33m\u001b[0m\u001b[1;33m\u001b[0m\u001b[0m\n\u001b[0m\u001b[0;32m     76\u001b[0m \u001b[1;33m\u001b[0m\u001b[0m\n\u001b[0;32m     77\u001b[0m \u001b[1;33m\u001b[0m\u001b[0m\n",
      "\u001b[1;32mC:\\ProgramData\\Anaconda3\\lib\\site-packages\\requests\\api.py\u001b[0m in \u001b[0;36mrequest\u001b[1;34m(method, url, **kwargs)\u001b[0m\n\u001b[0;32m     58\u001b[0m     \u001b[1;31m# cases, and look like a memory leak in others.\u001b[0m\u001b[1;33m\u001b[0m\u001b[1;33m\u001b[0m\u001b[1;33m\u001b[0m\u001b[0m\n\u001b[0;32m     59\u001b[0m     \u001b[1;32mwith\u001b[0m \u001b[0msessions\u001b[0m\u001b[1;33m.\u001b[0m\u001b[0mSession\u001b[0m\u001b[1;33m(\u001b[0m\u001b[1;33m)\u001b[0m \u001b[1;32mas\u001b[0m \u001b[0msession\u001b[0m\u001b[1;33m:\u001b[0m\u001b[1;33m\u001b[0m\u001b[1;33m\u001b[0m\u001b[0m\n\u001b[1;32m---> 60\u001b[1;33m         \u001b[1;32mreturn\u001b[0m \u001b[0msession\u001b[0m\u001b[1;33m.\u001b[0m\u001b[0mrequest\u001b[0m\u001b[1;33m(\u001b[0m\u001b[0mmethod\u001b[0m\u001b[1;33m=\u001b[0m\u001b[0mmethod\u001b[0m\u001b[1;33m,\u001b[0m \u001b[0murl\u001b[0m\u001b[1;33m=\u001b[0m\u001b[0murl\u001b[0m\u001b[1;33m,\u001b[0m \u001b[1;33m**\u001b[0m\u001b[0mkwargs\u001b[0m\u001b[1;33m)\u001b[0m\u001b[1;33m\u001b[0m\u001b[1;33m\u001b[0m\u001b[0m\n\u001b[0m\u001b[0;32m     61\u001b[0m \u001b[1;33m\u001b[0m\u001b[0m\n\u001b[0;32m     62\u001b[0m \u001b[1;33m\u001b[0m\u001b[0m\n",
      "\u001b[1;32mC:\\ProgramData\\Anaconda3\\lib\\site-packages\\requests\\sessions.py\u001b[0m in \u001b[0;36mrequest\u001b[1;34m(self, method, url, params, data, headers, cookies, files, auth, timeout, allow_redirects, proxies, hooks, stream, verify, cert, json)\u001b[0m\n\u001b[0;32m    531\u001b[0m         }\n\u001b[0;32m    532\u001b[0m         \u001b[0msend_kwargs\u001b[0m\u001b[1;33m.\u001b[0m\u001b[0mupdate\u001b[0m\u001b[1;33m(\u001b[0m\u001b[0msettings\u001b[0m\u001b[1;33m)\u001b[0m\u001b[1;33m\u001b[0m\u001b[1;33m\u001b[0m\u001b[0m\n\u001b[1;32m--> 533\u001b[1;33m         \u001b[0mresp\u001b[0m \u001b[1;33m=\u001b[0m \u001b[0mself\u001b[0m\u001b[1;33m.\u001b[0m\u001b[0msend\u001b[0m\u001b[1;33m(\u001b[0m\u001b[0mprep\u001b[0m\u001b[1;33m,\u001b[0m \u001b[1;33m**\u001b[0m\u001b[0msend_kwargs\u001b[0m\u001b[1;33m)\u001b[0m\u001b[1;33m\u001b[0m\u001b[1;33m\u001b[0m\u001b[0m\n\u001b[0m\u001b[0;32m    534\u001b[0m \u001b[1;33m\u001b[0m\u001b[0m\n\u001b[0;32m    535\u001b[0m         \u001b[1;32mreturn\u001b[0m \u001b[0mresp\u001b[0m\u001b[1;33m\u001b[0m\u001b[1;33m\u001b[0m\u001b[0m\n",
      "\u001b[1;32mC:\\ProgramData\\Anaconda3\\lib\\site-packages\\requests\\sessions.py\u001b[0m in \u001b[0;36msend\u001b[1;34m(self, request, **kwargs)\u001b[0m\n\u001b[0;32m    644\u001b[0m \u001b[1;33m\u001b[0m\u001b[0m\n\u001b[0;32m    645\u001b[0m         \u001b[1;31m# Send the request\u001b[0m\u001b[1;33m\u001b[0m\u001b[1;33m\u001b[0m\u001b[1;33m\u001b[0m\u001b[0m\n\u001b[1;32m--> 646\u001b[1;33m         \u001b[0mr\u001b[0m \u001b[1;33m=\u001b[0m \u001b[0madapter\u001b[0m\u001b[1;33m.\u001b[0m\u001b[0msend\u001b[0m\u001b[1;33m(\u001b[0m\u001b[0mrequest\u001b[0m\u001b[1;33m,\u001b[0m \u001b[1;33m**\u001b[0m\u001b[0mkwargs\u001b[0m\u001b[1;33m)\u001b[0m\u001b[1;33m\u001b[0m\u001b[1;33m\u001b[0m\u001b[0m\n\u001b[0m\u001b[0;32m    647\u001b[0m \u001b[1;33m\u001b[0m\u001b[0m\n\u001b[0;32m    648\u001b[0m         \u001b[1;31m# Total elapsed time of the request (approximately)\u001b[0m\u001b[1;33m\u001b[0m\u001b[1;33m\u001b[0m\u001b[1;33m\u001b[0m\u001b[0m\n",
      "\u001b[1;32mC:\\ProgramData\\Anaconda3\\lib\\site-packages\\requests\\adapters.py\u001b[0m in \u001b[0;36msend\u001b[1;34m(self, request, stream, timeout, verify, cert, proxies)\u001b[0m\n\u001b[0;32m    514\u001b[0m                 \u001b[1;32mraise\u001b[0m \u001b[0mSSLError\u001b[0m\u001b[1;33m(\u001b[0m\u001b[0me\u001b[0m\u001b[1;33m,\u001b[0m \u001b[0mrequest\u001b[0m\u001b[1;33m=\u001b[0m\u001b[0mrequest\u001b[0m\u001b[1;33m)\u001b[0m\u001b[1;33m\u001b[0m\u001b[1;33m\u001b[0m\u001b[0m\n\u001b[0;32m    515\u001b[0m \u001b[1;33m\u001b[0m\u001b[0m\n\u001b[1;32m--> 516\u001b[1;33m             \u001b[1;32mraise\u001b[0m \u001b[0mConnectionError\u001b[0m\u001b[1;33m(\u001b[0m\u001b[0me\u001b[0m\u001b[1;33m,\u001b[0m \u001b[0mrequest\u001b[0m\u001b[1;33m=\u001b[0m\u001b[0mrequest\u001b[0m\u001b[1;33m)\u001b[0m\u001b[1;33m\u001b[0m\u001b[1;33m\u001b[0m\u001b[0m\n\u001b[0m\u001b[0;32m    517\u001b[0m \u001b[1;33m\u001b[0m\u001b[0m\n\u001b[0;32m    518\u001b[0m         \u001b[1;32mexcept\u001b[0m \u001b[0mClosedPoolError\u001b[0m \u001b[1;32mas\u001b[0m \u001b[0me\u001b[0m\u001b[1;33m:\u001b[0m\u001b[1;33m\u001b[0m\u001b[1;33m\u001b[0m\u001b[0m\n",
      "\u001b[1;31mConnectionError\u001b[0m: HTTPSConnectionPool(host='49thshelf.com', port=443): Max retries exceeded with url: /Books/S/Some-Days-Run-Long (Caused by NewConnectionError('<urllib3.connection.VerifiedHTTPSConnection object at 0x0000017911275AC8>: Failed to establish a new connection: [WinError 10060] A connection attempt failed because the connected party did not properly respond after a period of time, or established connection failed because connected host has failed to respond'))"
     ]
    }
   ],
   "source": [
    "response = requests.get(canadian['title_url'][1])\n",
    "soup = BeautifulSoup(response.content)"
   ]
  },
  {
   "cell_type": "code",
   "execution_count": null,
   "metadata": {},
   "outputs": [],
   "source": [
    "for tag in soup.find_all(\"meta\"):\n",
    "    if tag.get(\"property\", None) == \"og:description\":\n",
    "        canadian[description][1]tag.get(\"content\", None)"
   ]
  },
  {
   "cell_type": "code",
   "execution_count": null,
   "metadata": {},
   "outputs": [],
   "source": [
    "canadian"
   ]
  },
  {
   "cell_type": "code",
   "execution_count": null,
   "metadata": {},
   "outputs": [],
   "source": [
    "now = datetime.now()\n",
    "dt = now.strftime(\"%d-%m-%Y_%H-%M-%S\")\n",
    "\n",
    "canadian.to_csv('../data/saved/isbn' + dt +'.csv', index = False)"
   ]
  },
  {
   "cell_type": "code",
   "execution_count": 23,
   "metadata": {},
   "outputs": [
    {
     "data": {
      "text/plain": [
       "'\\n<html><head><title>The Dormouse\\'s story</title></head>\\n<body>\\n<p class=\"title\"><b>The Dormouse\\'s story</b></p>\\n\\n<p class=\"story\">Once upon a time there were three little sisters; and their names were\\n<a href=\"http://example.com/elsie\" class=\"sister\" id=\"link1\">Elsie</a>,\\n<a href=\"http://example.com/lacie\" class=\"sister\" id=\"link2\">Lacie</a> and\\n<a href=\"http://example.com/tillie\" class=\"sister\" id=\"link3\">Tillie</a>;\\nand they lived at the bottom of a well.</p>\\n\\n<p class=\"story\">...</p>\\n'"
      ]
     },
     "execution_count": 23,
     "metadata": {},
     "output_type": "execute_result"
    }
   ],
   "source": [
    "html_doc = \"\"\"\n",
    "<html><head><title>The Dormouse's story</title></head>\n",
    "<body>\n",
    "<p class=\"title\"><b>The Dormouse's story</b></p>\n",
    "\n",
    "<p class=\"story\">Once upon a time there were three little sisters; and their names were\n",
    "<a href=\"http://example.com/elsie\" class=\"sister\" id=\"link1\">Elsie</a>,\n",
    "<a href=\"http://example.com/lacie\" class=\"sister\" id=\"link2\">Lacie</a> and\n",
    "<a href=\"http://example.com/tillie\" class=\"sister\" id=\"link3\">Tillie</a>;\n",
    "and they lived at the bottom of a well.</p>\n",
    "\n",
    "<p class=\"story\">...</p>\n",
    "\"\"\"\n",
    "\n",
    "html_doc\n",
    "\n"
   ]
  },
  {
   "cell_type": "code",
   "execution_count": 35,
   "metadata": {},
   "outputs": [
    {
     "data": {
      "text/plain": [
       "<bound method Tag.prettify of <?xml version=\"1.0\" encoding=\"utf-8\"?><html><body><product>\n",
       "<recordreference>1440503257</recordreference>\n",
       "<notificationtype>03</notificationtype>\n",
       "<productidentifier>\n",
       "<productidtype>02</productidtype>\n",
       "<idvalue>1440503257</idvalue>\n",
       "</productidentifier>\n",
       "<productidentifier>\n",
       "<productidtype>03</productidtype>\n",
       "<idvalue>9781440503252</idvalue>\n",
       "</productidentifier>\n",
       "<productidentifier>\n",
       "<productidtype>15</productidtype>\n",
       "<idvalue>9781440503252</idvalue>\n",
       "</productidentifier>\n",
       "<barcode>11</barcode>\n",
       "<productform>BB</productform>\n",
       "<productformfeature>\n",
       "<productformfeaturetype>30</productformfeaturetype>\n",
       "</productformfeature>\n",
       "<productformdescription>Hardback</productformdescription>\n",
       "<series>\n",
       "<titleofseries>Unofficial Cookbook</titleofseries>\n",
       "</series>\n",
       "<title>\n",
       "<titletype>01</titletype>\n",
       "<titletext>The Unofficial Harry Potter Cookbook</titletext>\n",
       "<titleprefix>The</titleprefix>\n",
       "<titlewithoutprefix>Unofficial Harry Potter Cookbook</titlewithoutprefix>\n",
       "<subtitle>From Cauldron Cakes to Knickerbocker Glory--More Than 150 Magical Recipes for Wizards and Non-Wizards Alike</subtitle>\n",
       "</title>\n",
       "<workidentifier>\n",
       "<workidtype>01</workidtype>\n",
       "<idvalue>2137705894</idvalue>\n",
       "</workidentifier>\n",
       "<contributor>\n",
       "<sequencenumber>1</sequencenumber>\n",
       "<contributorrole>A01</contributorrole>\n",
       "<personname>Dinah Bucholz</personname>\n",
       "<personnameinverted>Bucholz, Dinah</personnameinverted>\n",
       "<namesbeforekey>Dinah</namesbeforekey>\n",
       "<keynames>Bucholz</keynames>\n",
       "</contributor>\n",
       "<noedition></noedition>\n",
       "<language>\n",
       "<languagerole>01</languagerole>\n",
       "<languagecode>eng</languagecode>\n",
       "</language>\n",
       "<numberofpages>256</numberofpages>\n",
       "<basicmainsubject>JNF014000</basicmainsubject>\n",
       "<bicmainsubject>YF</bicmainsubject>\n",
       "<bicversion>2.1</bicversion>\n",
       "<subject>\n",
       "<subjectschemeidentifier>20</subjectschemeidentifier>\n",
       "<subjectheadingtext>cookbooks for kids age 9 12; recipes; food; birthday; cake; candy; treats; desserts; theme; party; gift; banquet; Christmas; super fan; fan fiction; wizard; wand; magic; best seller; Hogwarts; Express; Hermione Granger; Ron Weasley; Gryffindor; Slytherin; Hufflepuff; Ravenclaw; Aunt Petunia; Florean Fortesue; Leaky Cauldron; knickerbocker glory; goblet; muggle; Pumpkin Pasties; Bath Buns; Fantastic Beasts and Where to Find Them; Crimes of Grindlewald; JK Rowling; harry potter merchandise</subjectheadingtext>\n",
       "</subject>\n",
       "<subject>\n",
       "<subjectschemeidentifier>10</subjectschemeidentifier>\n",
       "<subjectcode>JNF015000</subjectcode>\n",
       "</subject>\n",
       "<subject>\n",
       "<subjectschemeidentifier>10</subjectschemeidentifier>\n",
       "<subjectcode>JNF039030</subjectcode>\n",
       "</subject>\n",
       "<audience>\n",
       "<audiencecodetype>01</audiencecodetype>\n",
       "<audiencecodevalue>01</audiencecodevalue>\n",
       "</audience>\n",
       "<audiencerange>\n",
       "<audiencerangequalifier>17</audiencerangequalifier>\n",
       "<audiencerangeprecision>03</audiencerangeprecision>\n",
       "<audiencerangevalue>9</audiencerangevalue>\n",
       "<audiencerangeprecision>04</audiencerangeprecision>\n",
       "<audiencerangevalue>18</audiencerangevalue>\n",
       "</audiencerange>\n",
       "<audiencerange>\n",
       "<audiencerangequalifier>18</audiencerangequalifier>\n",
       "<audiencerangeprecision>03</audiencerangeprecision>\n",
       "<audiencerangevalue>9</audiencerangevalue>\n",
       "<audiencerangeprecision>04</audiencerangeprecision>\n",
       "<audiencerangevalue>18</audiencerangevalue>\n",
       "</audiencerange>\n",
       "<othertext>\n",
       "<texttypecode>01</texttypecode>\n",
       "<textformat>02</textformat>\n",
       "<text>&amp;lt;b&amp;gt;“A fun way to get kids interested in Harry Potter also interested in food.” &amp;lt;/b&amp;gt;&amp;lt;b&amp;gt;&amp;lt;i&amp;gt;—New York &amp;lt;/i&amp;gt;magazine&amp;lt;/b&amp;gt;&amp;lt;BR&amp;gt; &amp;lt;BR&amp;gt;&amp;lt;b&amp;gt;Conjure up feasts that rival the Great Hall’s, sweets fit for the Minister of Magic, snacks you’d find on the Hogwarts Express, and more with this bestselling unofficial Harry Potter cookbook—no wands required!&amp;lt;/b&amp;gt;&amp;lt;BR&amp;gt;&amp;lt;BR&amp;gt;&amp;lt;i&amp;gt;Bangers and mash with Harry, Ron, and Hermione in the Hogwarts dining hall.&amp;lt;/i&amp;gt;&amp;lt;BR&amp;gt; &amp;lt;BR&amp;gt; A proper cuppa tea and rock cakes in Hagrid's hut.&amp;lt;BR&amp;gt; &amp;lt;BR&amp;gt; Cauldron cakes and pumpkin juice on the Hogwarts Express.&amp;lt;BR&amp;gt; &amp;lt;BR&amp;gt; With this cookbook, dining a la Hogwarts is as easy as Banoffi Pie! With more than 150 easy-to-make recipes, tips, and techniques, you can indulge in spellbindingly delicious meals drawn straight from the pages of your favorite Potter stories, such as:&amp;lt;BR&amp;gt;&amp;lt;BR&amp;gt;Treacle Tart--Harry's favorite dessert&amp;lt;BR&amp;gt; &amp;lt;BR&amp;gt;Molly's Meat Pies--Mrs. Weasley's classic dish&amp;lt;BR&amp;gt; &amp;lt;BR&amp;gt;Kreacher's French Onion Soup&amp;lt;BR&amp;gt; &amp;lt;BR&amp;gt;Pumpkin Pasties--a staple on the Hogwarts Express cart&amp;lt;BR&amp;gt;&amp;lt;BR&amp;gt; With a dash of magic and a drop of creativity, you'll conjure up the entrees, desserts, snacks, and drinks you need to transform ordinary Muggle meals into magical culinary masterpieces, sure make even Mrs. Weasley proud!</text>\n",
       "</othertext>\n",
       "<othertext>\n",
       "<texttypecode>08</texttypecode>\n",
       "<textformat>02</textformat>\n",
       "<text>“Extensive… legitimately helpful.”&amp;lt;BR&amp;gt; &amp;lt;BR&amp;gt;&amp;lt;b&amp;gt;—&amp;lt;/b&amp;gt;&amp;lt;i&amp;gt;&amp;lt;b&amp;gt;BookRiot&amp;lt;/b&amp;gt;&amp;lt;/i&amp;gt;</text>\n",
       "</othertext>\n",
       "<othertext>\n",
       "<texttypecode>08</texttypecode>\n",
       "<textformat>02</textformat>\n",
       "<text>\"We love it!! In fact, we're such geeks, my husband and I planned our weekly date nights around this book. This book has everything Harry Potter. Not only does this cookbook have delicious recipes that make me feel like I'm in the Harry Potter story, but it cites each recipe from the book, so I know exactly where to imagine myself while eating these delicious treats. So...if you are geeky (like we are) and love good recipes (which we do), I highly recommend this cookbook!\"&amp;lt;BR&amp;gt; &amp;lt;BR&amp;gt;&amp;lt;i&amp;gt;&amp;lt;b&amp;gt;—Pink Apron blog&amp;lt;/b&amp;gt;&amp;lt;/i&amp;gt;</text>\n",
       "</othertext>\n",
       "<othertext>\n",
       "<texttypecode>08</texttypecode>\n",
       "<textformat>02</textformat>\n",
       "<text>“An excellent gift idea for any fan.”&amp;lt;BR&amp;gt; &amp;lt;BR&amp;gt;&amp;lt;b&amp;gt;—&amp;lt;/b&amp;gt;&amp;lt;i&amp;gt;&amp;lt;b&amp;gt;Merch Dope&amp;lt;/b&amp;gt;&amp;lt;/i&amp;gt;</text>\n",
       "</othertext>\n",
       "<othertext>\n",
       "<texttypecode>08</texttypecode>\n",
       "<textformat>02</textformat>\n",
       "<text>\"A Harry Potter cookbook with 150 easy-to-make recipes so they can shine some &amp;lt;i&amp;gt;lumos&amp;lt;/i&amp;gt; on you and your friends of their spell-binding cooking ability.\"&amp;lt;BR&amp;gt; &amp;lt;i&amp;gt;&amp;lt;b&amp;gt;—Buzzfeed&amp;lt;/b&amp;gt;&amp;lt;/i&amp;gt;&amp;lt;BR&amp;gt;  </text>\n",
       "</othertext>\n",
       "<othertext>\n",
       "<texttypecode>08</texttypecode>\n",
       "<textformat>02</textformat>\n",
       "<text>\"Cooking dishes from popular fantasy books—from &amp;lt;i&amp;gt;Harry Potter&amp;lt;/i&amp;gt; to &amp;lt;i&amp;gt;A Game of Thrones&amp;lt;/i&amp;gt; to the &amp;lt;i&amp;gt;Twilight&amp;lt;/i&amp;gt; vampire tales—has become a pastime for fans seeking to immerse themselves in their favorite fictional worlds. Literary foodies are trading tips on how to cook eel pie and nettle soup, sharing ideas on blogs, YouTube and Twitter, and occasionally scoring cookbook deals. &amp;lt;i&amp;gt;The Unofficial Harry Potter Cookbook&amp;lt;/i&amp;gt;, which came out last year, has sold more than 150,000 copies.\"&amp;lt;BR&amp;gt; &amp;lt;BR&amp;gt; &amp;lt;b&amp;gt;—&amp;lt;i&amp;gt;The Wall Street Journal&amp;lt;/i&amp;gt;&amp;lt;/b&amp;gt;</text>\n",
       "</othertext>\n",
       "<othertext>\n",
       "<texttypecode>08</texttypecode>\n",
       "<textformat>02</textformat>\n",
       "<text>\"After a long winter's day, ever wish you could just cozy up in the Burrow and have Molly Weasley whip you up a little roast chicken with mashed potatoes? Now you can...with a bit of Muggle work. There are some delectable-sounding treats, including a lot of stick-to-your-ribs winter fare. It sure is fun cooking to these literary references. And if you have any plans to throw a Harry Potter theme party, this cookbook is a must-have.\"&amp;lt;BR&amp;gt; &amp;lt;BR&amp;gt;&amp;lt;i&amp;gt;&amp;lt;b&amp;gt;—GeekMom&amp;lt;/b&amp;gt;&amp;lt;/i&amp;gt;</text>\n",
       "</othertext>\n",
       "<othertext>\n",
       "<texttypecode>08</texttypecode>\n",
       "<textformat>02</textformat>\n",
       "<text>\"From Cauldron Cakes to Pumpkin Pasties...this magical tome for muggles is filled with awesome facts about each recipe.\"&amp;lt;BR&amp;gt; &amp;lt;BR&amp;gt;&amp;lt;i&amp;gt;&amp;lt;b&amp;gt;—The Book Table Blog&amp;lt;/b&amp;gt;&amp;lt;/i&amp;gt;</text>\n",
       "</othertext>\n",
       "<othertext>\n",
       "<texttypecode>08</texttypecode>\n",
       "<textformat>02</textformat>\n",
       "<text>\"This cookbook is extremely comprehensive. With more than 150 recipes, it includes foods explicitly mentioned in the Harry Potter books. The author includes historical tidbits about the recipes. I love this kind of thing. The cookbook features delicious-sounding dishes that you could easily whip up in your own kitchen.\"&amp;lt;BR&amp;gt; &amp;lt;BR&amp;gt;&amp;lt;i&amp;gt;&amp;lt;b&amp;gt;—Food Lush blog&amp;lt;/b&amp;gt;&amp;lt;/i&amp;gt;</text>\n",
       "</othertext>\n",
       "<othertext>\n",
       "<texttypecode>08</texttypecode>\n",
       "<textformat>02</textformat>\n",
       "<text>“Filled with tasty, unique recipes that are surprisingly simple to make- no magic required!”&amp;lt;BR&amp;gt; &amp;lt;BR&amp;gt;&amp;lt;b&amp;gt;—&amp;lt;/b&amp;gt;&amp;lt;i&amp;gt;&amp;lt;b&amp;gt;Kitchenistic&amp;lt;/b&amp;gt;&amp;lt;/i&amp;gt;</text>\n",
       "</othertext>\n",
       "<othertext>\n",
       "<texttypecode>08</texttypecode>\n",
       "<textformat>02</textformat>\n",
       "<text>\"The Harry Potter series is filled with all sorts of fantastic magic, but some of the most memorable moments are centered around the fantastic edibles that J. K. Rowling created. Lucky for all of us muggles, Dinah Buchholz has penned &amp;lt;i&amp;gt;The Unofficial Harry Potter Cookbook&amp;lt;/i&amp;gt;, a guide to recreating all sorts of witchy and wizardy vittles introduced throughout the series.\"&amp;lt;BR&amp;gt; &amp;lt;BR&amp;gt;&amp;lt;i&amp;gt;&amp;lt;b&amp;gt;—Serious Eats&amp;lt;/b&amp;gt;&amp;lt;/i&amp;gt;</text>\n",
       "</othertext>\n",
       "<othertext>\n",
       "<texttypecode>08</texttypecode>\n",
       "<textformat>02</textformat>\n",
       "<text>\"Maybe you already have all seven volumes of Harry Potter, but do you have the unofficial cookbook? Featuring delicious recipes from the wizarding world, including Cauldron Cakes and Butterbeer, it's the only guide you need to throwing the ultimate Hogwarts-style feast.\"&amp;lt;BR&amp;gt; &amp;lt;BR&amp;gt;&amp;lt;i&amp;gt;&amp;lt;b&amp;gt;—Bustle&amp;lt;/b&amp;gt;&amp;lt;/i&amp;gt;</text>\n",
       "</othertext>\n",
       "<othertext>\n",
       "<texttypecode>08</texttypecode>\n",
       "<textformat>02</textformat>\n",
       "<text>\"The food in the &amp;lt;i&amp;gt;Harry Potter &amp;lt;/i&amp;gt;series has had us drooling for over a decade … but now you can finally make your own! &amp;lt;i&amp;gt;The Unofficial Harry Potter Cookbook &amp;lt;/i&amp;gt;will have you performing absolute magic in the kitchen … . These easy-to-follow recipes are apparently delicious and don't require you to be a master chef either, meaning this is an essential book for yourself and for any budding chefs in the family. Time to dust off your cauldrons and get cooking!\"&amp;lt;BR&amp;gt; &amp;lt;BR&amp;gt; &amp;lt;b&amp;gt;—&amp;lt;i&amp;gt;Pretty52&amp;lt;/i&amp;gt;&amp;lt;/b&amp;gt;</text>\n",
       "</othertext>\n",
       "<othertext>\n",
       "<texttypecode>08</texttypecode>\n",
       "<textformat>02</textformat>\n",
       "<text>\"A magical cookbook that'll have you sipping on gin and [pumpkin] juice in no time. Hate pumpkin juice? FINE! This also contains recipes for treacle tarts, rock cakes, kippers, and more.\"&amp;lt;BR&amp;gt; &amp;lt;BR&amp;gt;&amp;lt;i&amp;gt;&amp;lt;b&amp;gt;—Buzzfeed&amp;lt;/b&amp;gt;&amp;lt;/i&amp;gt;</text>\n",
       "</othertext>\n",
       "<othertext>\n",
       "<texttypecode>08</texttypecode>\n",
       "<textformat>02</textformat>\n",
       "<text>\"Is your pal an expert chef? Gift them this Harry Potter cookbook, complete with 150 magical recipes.\"&amp;lt;BR&amp;gt; &amp;lt;BR&amp;gt;&amp;lt;i&amp;gt;&amp;lt;b&amp;gt;—Scary Mommy&amp;lt;/b&amp;gt;&amp;lt;/i&amp;gt;</text>\n",
       "</othertext>\n",
       "<othertext>\n",
       "<texttypecode>08</texttypecode>\n",
       "<textformat>02</textformat>\n",
       "<text>\"A truly brilliant idea that combines a beloved children's literary classic with an old-fashioned recipe book. Designed to look and feel more like a literary companion with excerpts from the books providing context for each recipe … your little wizard will be able to serve up a pint of freshly made pumpkin juice, then imagine he's sitting down to a feast in the Hogwarts dining hall.\"&amp;lt;BR&amp;gt; &amp;lt;BR&amp;gt;&amp;lt;i&amp;gt;&amp;lt;b&amp;gt;—EatingWell&amp;lt;/b&amp;gt;&amp;lt;/i&amp;gt;</text>\n",
       "</othertext>\n",
       "<othertext>\n",
       "<texttypecode>08</texttypecode>\n",
       "<textformat>02</textformat>\n",
       "<text>\"&amp;lt;i&amp;gt;The Unofficial Harry Potter Cookbook&amp;lt;/i&amp;gt; is filled with all of the delicious, magical recipes from your favorite wizarding world — and don't worry, they're all perfectly safe for Muggles. Let your mouth water at the thought of lemon drops, cauldron cakes, and pumpkin pasties, all listed with easy-to-follow instructions and context from the Harry Potter books themselves. For example, the lemon drop recipe … makes a reference to a conversation between Harry and Professor McGonagall … which is what makes this book so darn cool. Plus, the recipes … offer everything you could possibly want on any given day, focusing on a banana bunch of English foods that range from savory to sweet.\"&amp;lt;BR&amp;gt; &amp;lt;BR&amp;gt;&amp;lt;i&amp;gt;&amp;lt;b&amp;gt;—Buzzfeed&amp;lt;/b&amp;gt;&amp;lt;/i&amp;gt;</text>\n",
       "</othertext>\n",
       "<othertext>\n",
       "<texttypecode>08</texttypecode>\n",
       "<textformat>02</textformat>\n",
       "<text>\"This book could rightly be regarded as something like a portkey; to open it is to at once be transported back to a living world of … culinary delights. A pleasant stroll down memory lane with old friends. It’s a walk worth taking for many reasons, not least of which is the abundance of good eating to be shared along the way.\"&amp;lt;BR&amp;gt; &amp;lt;BR&amp;gt;&amp;lt;i&amp;gt;&amp;lt;b&amp;gt;—Flavorful World&amp;lt;/b&amp;gt;&amp;lt;/i&amp;gt;</text>\n",
       "</othertext>\n",
       "<othertext>\n",
       "<texttypecode>08</texttypecode>\n",
       "<textformat>02</textformat>\n",
       "<text>\"If your loved one in a whiz in the kitchen, they’ll love the &amp;lt;i&amp;gt;Unofficial Harry Potter Cookbook.&amp;lt;/i&amp;gt; This top-rated cookbook has recipes for all the classic Harry Potter treats, from Treacle Tart to Pumpkin Pasties. Maybe if you’re lucky, the recipient will share the magical results with you!\"&amp;lt;BR&amp;gt; &amp;lt;BR&amp;gt;&amp;lt;i&amp;gt;&amp;lt;b&amp;gt;—Reviewed.com&amp;lt;/b&amp;gt;&amp;lt;/i&amp;gt;</text>\n",
       "</othertext>\n",
       "<othertext>\n",
       "<texttypecode>08</texttypecode>\n",
       "<textformat>02</textformat>\n",
       "<text>\"Includes recipes for the fictional foods from the series, like cauldron cakes and treacle, and is a fun way to get kids interested in Harry Potter also interested in food.\"&amp;lt;BR&amp;gt; &amp;lt;BR&amp;gt; &amp;lt;i&amp;gt;&amp;lt;b&amp;gt;—New York Magazine&amp;lt;/b&amp;gt;&amp;lt;/i&amp;gt;</text>\n",
       "</othertext>\n",
       "<othertext>\n",
       "<texttypecode>08</texttypecode>\n",
       "<textformat>02</textformat>\n",
       "<text>\"With this cookbook, dining a la Hogwarts is as easy as Banoffi Pie. With more than 150 easy-to-make recipes, tips, and techniques, you can indulge in spellbindingly delicious meals drawn straight from the pages of your favorite Potter stories.\" &amp;lt;i&amp;gt;&amp;lt;b&amp;gt;—Maria's Space blog&amp;lt;/b&amp;gt;&amp;lt;/i&amp;gt;</text>\n",
       "</othertext>\n",
       "<othertext>\n",
       "<texttypecode>08</texttypecode>\n",
       "<textformat>02</textformat>\n",
       "<text>\"If your kids love Harry Potter, nothing is going to inspire them to get in the kitchen like this cookbook. Some of the best parts of the Harry Potter books are the rich descriptions of the holiday feasts at the Great Hall. With this book, your kids can make Harry's favorite dessert (treacle tart, of course). They can make the mince pies that Mrs. Weasley sends Harry every Christmas, and the pumpkin pasties from the Halloween feast scene I loved reading as a kid. They can even make Mrs. Dursley's pudding—the one Dobby destroys in the beginning of The Chamber of Secrets. As long as you don't mind your kids going down the weird meat-pie, haggis, and Scotch collop–filled path that is the world of British food, this book is sure to be a hit.\"&amp;lt;BR&amp;gt; &amp;lt;BR&amp;gt; &amp;lt;i&amp;gt;&amp;lt;b&amp;gt;—Epicurious&amp;lt;/b&amp;gt;&amp;lt;/i&amp;gt;</text>\n",
       "</othertext>\n",
       "<othertext>\n",
       "<texttypecode>08</texttypecode>\n",
       "<textformat>02</textformat>\n",
       "<text>\"This cookbook lets them recreate some of the gang's favorite meals, drinks, and sweet treats. It's got all the classics … plus it tells you exactly where in the books to find the references to each food.\"&amp;lt;BR&amp;gt; &amp;lt;BR&amp;gt;&amp;lt;i&amp;gt;&amp;lt;b&amp;gt;—Business Insider&amp;lt;/b&amp;gt;&amp;lt;/i&amp;gt;</text>\n",
       "</othertext>\n",
       "<othertext>\n",
       "<texttypecode>08</texttypecode>\n",
       "<textformat>02</textformat>\n",
       "<text>\"The Unofficial Harry Potter Cookbook will help you make magic in the kitchen for wizards and muggles alike.\"&amp;lt;BR&amp;gt; &amp;lt;BR&amp;gt;&amp;lt;i&amp;gt;&amp;lt;b&amp;gt;—Taste of Home&amp;lt;/b&amp;gt;&amp;lt;/i&amp;gt;</text>\n",
       "</othertext>\n",
       "<othertext>\n",
       "<texttypecode>08</texttypecode>\n",
       "<textformat>02</textformat>\n",
       "<text>\"Manage all your kitchen mischief, such as Cauldron Cakes and Molly’s meat pies. We won’t tell if you pretend your mixing bowl is a cauldron.\"&amp;lt;BR&amp;gt; &amp;lt;BR&amp;gt;&amp;lt;i&amp;gt;&amp;lt;b&amp;gt;—BookRiot&amp;lt;/b&amp;gt;&amp;lt;/i&amp;gt;&amp;lt;BR&amp;gt; &amp;lt;BR&amp;gt;  </text>\n",
       "</othertext>\n",
       "<othertext>\n",
       "<texttypecode>08</texttypecode>\n",
       "<textformat>02</textformat>\n",
       "<text>\"Awesome gift idea for the avid reader who loves the Harry Potter series.\"&amp;lt;BR&amp;gt; &amp;lt;BR&amp;gt;&amp;lt;i&amp;gt;&amp;lt;b&amp;gt;—The Greatest Gift Guide&amp;lt;/b&amp;gt;&amp;lt;/i&amp;gt;</text>\n",
       "</othertext>\n",
       "<mediafile>\n",
       "<mediafiletypecode>04</mediafiletypecode>\n",
       "<mediafileformatcode>03</mediafileformatcode>\n",
       "<mediafilelinktypecode>01</mediafilelinktypecode>\n",
       "<mediafilelink>http://cloud.firebrandtech.com/api/v2/hostedcover/18ff470b-06c1-40db-9eb8-a6ed0043e784</mediafilelink>\n",
       "</mediafile>\n",
       "<imprint>\n",
       "<namecodetype>01</namecodetype>\n",
       "<namecodetypename>Adams Media</namecodetypename>\n",
       "<namecodevalue>SIMO533</namecodevalue>\n",
       "<imprintname>Adams Media</imprintname>\n",
       "</imprint>\n",
       "<publisher>\n",
       "<publishingrole>01</publishingrole>\n",
       "<namecodetype>01</namecodetype>\n",
       "<namecodetypename>Adams Media</namecodetypename>\n",
       "<namecodevalue>SIMO533</namecodevalue>\n",
       "<publishername>Adams Media</publishername>\n",
       "</publisher>\n",
       "<publishingstatus>04</publishingstatus>\n",
       "<publicationdate>20100918</publicationdate>\n",
       "<copyrightyear>2010</copyrightyear>\n",
       "<salesrights>\n",
       "<salesrightstype>01</salesrightstype>\n",
       "<rightscountry>AS CA FM GU MP PH PR PW UM US VI</rightscountry>\n",
       "</salesrights>\n",
       "<measure>\n",
       "<measuretypecode>01</measuretypecode>\n",
       "<measurement>9.125</measurement>\n",
       "<measureunitcode>in</measureunitcode>\n",
       "</measure>\n",
       "<measure>\n",
       "<measuretypecode>01</measuretypecode>\n",
       "<measurement>231.78</measurement>\n",
       "<measureunitcode>mm</measureunitcode>\n",
       "</measure>\n",
       "<measure>\n",
       "<measuretypecode>02</measuretypecode>\n",
       "<measurement>7</measurement>\n",
       "<measureunitcode>in</measureunitcode>\n",
       "</measure>\n",
       "<measure>\n",
       "<measuretypecode>02</measuretypecode>\n",
       "<measurement>177.8</measurement>\n",
       "<measureunitcode>mm</measureunitcode>\n",
       "</measure>\n",
       "<measure>\n",
       "<measuretypecode>03</measuretypecode>\n",
       "<measurement>0.9</measurement>\n",
       "<measureunitcode>in</measureunitcode>\n",
       "</measure>\n",
       "<measure>\n",
       "<measuretypecode>03</measuretypecode>\n",
       "<measurement>22.86</measurement>\n",
       "<measureunitcode>mm</measureunitcode>\n",
       "</measure>\n",
       "<measure>\n",
       "<measuretypecode>08</measuretypecode>\n",
       "<measurement>1.32</measurement>\n",
       "<measureunitcode>lb</measureunitcode>\n",
       "</measure>\n",
       "<measure>\n",
       "<measuretypecode>08</measuretypecode>\n",
       "<measurement>21.12</measurement>\n",
       "<measureunitcode>oz</measureunitcode>\n",
       "</measure>\n",
       "<measure>\n",
       "<measuretypecode>08</measuretypecode>\n",
       "<measurement>598.74</measurement>\n",
       "<measureunitcode>gr</measureunitcode>\n",
       "</measure>\n",
       "<relatedproduct>\n",
       "<relationcode>27</relationcode>\n",
       "<productidentifier>\n",
       "<productidtype>15</productidtype>\n",
       "<idvalue>9781440508530</idvalue>\n",
       "</productidentifier>\n",
       "</relatedproduct>\n",
       "<relatedproduct>\n",
       "<relationcode>27</relationcode>\n",
       "<productidentifier>\n",
       "<productidtype>15</productidtype>\n",
       "<idvalue>9781440508523</idvalue>\n",
       "</productidentifier>\n",
       "</relatedproduct>\n",
       "<supplydetail>\n",
       "<suppliername>Simon &amp;amp; Schuster</suppliername>\n",
       "<returnscodetype>02</returnscodetype>\n",
       "<returnscode>Y</returnscode>\n",
       "<availabilitycode>IP</availabilitycode>\n",
       "<productavailability>20</productavailability>\n",
       "<packquantity>24</packquantity>\n",
       "<price>\n",
       "<pricetypecode>01</pricetypecode>\n",
       "<discountcoded>\n",
       "<discountcodetype>02</discountcodetype>\n",
       "<discountcode>348</discountcode>\n",
       "</discountcoded>\n",
       "<priceamount>26.95</priceamount>\n",
       "<currencycode>CAD</currencycode>\n",
       "<priceeffectivefrom>2020-05-02</priceeffectivefrom>\n",
       "</price>\n",
       "</supplydetail>\n",
       "</product></body></html>>"
      ]
     },
     "execution_count": 35,
     "metadata": {},
     "output_type": "execute_result"
    }
   ],
   "source": [
    "import requests\n",
    "import lxml\n",
    "from lxml import html\n",
    "import requests\n",
    "from bs4 import BeautifulSoup\n",
    "\n",
    "biblio_share_url = 'https://www.biblioshare.ca/BNCServices/BNCServices.asmx/ONIX?Token=zvo3vpz7uulcuajs&EAN=9781440503252'\n",
    "test_url = 'https://www.biblioshare.ca/BNCServices/BNCServices.asmx/ONIX?Token=zvo3vpz7uulcuajs&EAN=9781927655023'\n",
    "catalist_url = 'https://www.bnccatalist.ca/viewtitle.aspx?ean=9781440503252'\n",
    "\n",
    "\n",
    "page = requests.get(biblio_share_url)\n",
    "soup = BeautifulSoup(page.content, 'lxml')\n",
    "soup.prettify"
   ]
  },
  {
   "cell_type": "code",
   "execution_count": 33,
   "metadata": {},
   "outputs": [],
   "source": [
    "# booknetcanada\n",
    "\n",
    "import requests\n",
    "import lxml\n",
    "from lxml import html\n",
    "import requests\n",
    "from bs4 import BeautifulSoup\n",
    "\n",
    "biblio_share_url = 'https://www.biblioshare.ca/BNCServices/BNCServices.asmx/ONIX?Token=zvo3vpz7uulcuajs&EAN=9781440503252'\n",
    "test_url = 'https://www.biblioshare.ca/BNCServices/BNCServices.asmx/ONIX?Token=zvo3vpz7uulcuajs&EAN=9781927655023'\n",
    "catalist_url = 'https://www.bnccatalist.ca/viewtitle.aspx?ean=9781440503252'\n",
    "\n",
    "\n",
    "page = requests.get(biblio_share_url)\n",
    "soup = BeautifulSoup(page.content, 'lxml')\n",
    "\n",
    "\n",
    "# page = requests.get(catalist_url)\n",
    "# soup = BeautifulSoup(page.content, 'html.parser')\n",
    "# for tag in soup.find_all(\"meta\"):\n",
    "#      if tag.get(\"property\", None) == \"og:description\":\n",
    "#          print(tag.get(\"content\", None))\n",
    "\n",
    "\n",
    "# content = html.fromstring(page.content)\n",
    "# tree = html.parse(content)\n",
    "# print(html.tostring(tree))\n",
    "\n",
    "# soup = BeautifulSoup(catalist_url)\n",
    "# for tag in soup.find_all(\"meta\"):\n",
    "#     if tag.get(\"property\", None) == \"og:description\":\n",
    "#         print(tag.get(\"content\", None))\n",
    "    \n",
    "# https://www.biblioshare.ca/BNCServices/BNCServices.asmx/ONIX?Token=amcfxpnjwt9o6a7f&EAN=9780312573577\n",
    "    \n",
    "# for i in isbn['isbn']:\n",
    "\n",
    "# i = '9780312573577'\n",
    "# # header = {'Authorization': '44023_23ab132f3977ad9849e8f1a5d7dc73bf'}\n",
    "# base_url = ('https://www.biblioshare.ca/BNCServices/BNCServices.asmx/ONIX?Token=amcfxpnjwt9o6a7f&EAN=')\n",
    "# #descriptors = ['title', 'authors', 'image', 'date_published', 'pages', 'overview']\n",
    "# response = requests.get(base_url + i)\n",
    "# payload = response.text\n",
    "\n",
    "# response.\n",
    "\n",
    "#     try:\n",
    "#         title = payload['book']['title']\n",
    "#         print(title)\n",
    "    \n",
    "#         authors = payload['book']['authors']\n",
    "#         print(authors)\n",
    "    \n",
    "#         image = payload['book']['image']\n",
    "#         print(image)\n",
    "    \n",
    "#         overview = payload['book']['overview']\n",
    "#         print(overview)\n",
    "    \n",
    "#     except:\n",
    "#         pass\n",
    "    \n",
    "    # time.sleep(1)\n",
    "    \n"
   ]
  },
  {
   "cell_type": "code",
   "execution_count": null,
   "metadata": {},
   "outputs": [],
   "source": [
    "\n",
    "all = tree.xpath"
   ]
  },
  {
   "cell_type": "code",
   "execution_count": null,
   "metadata": {},
   "outputs": [],
   "source": []
  },
  {
   "cell_type": "markdown",
   "metadata": {},
   "source": [
    "### EDA"
   ]
  },
  {
   "cell_type": "code",
   "execution_count": null,
   "metadata": {},
   "outputs": [],
   "source": [
    "df download_jpg(url, file_path, file_name):\n",
    "    full_path = file_path + file_name + '.jpg'\n",
    "    urllib.request.urlretrieve(url, full_path)\n",
    "    \n",
    "url =\n",
    "file_name = 'https://images.isbndb.com/covers/94/86/9781934759486.jpg'"
   ]
  },
  {
   "cell_type": "code",
   "execution_count": null,
   "metadata": {},
   "outputs": [],
   "source": [
    "df = pd.read_csv('../data/readmoreCanlit.csv')"
   ]
  },
  {
   "cell_type": "code",
   "execution_count": null,
   "metadata": {},
   "outputs": [],
   "source": [
    "df.dtypes"
   ]
  },
  {
   "cell_type": "code",
   "execution_count": null,
   "metadata": {},
   "outputs": [],
   "source": [
    "df.shape"
   ]
  },
  {
   "cell_type": "code",
   "execution_count": null,
   "metadata": {},
   "outputs": [],
   "source": [
    "df.head()"
   ]
  },
  {
   "cell_type": "code",
   "execution_count": null,
   "metadata": {},
   "outputs": [],
   "source": [
    "df.tail()"
   ]
  },
  {
   "cell_type": "code",
   "execution_count": null,
   "metadata": {},
   "outputs": [],
   "source": [
    "df.author.value_counts()"
   ]
  },
  {
   "cell_type": "code",
   "execution_count": null,
   "metadata": {},
   "outputs": [],
   "source": [
    "df.origin.value_counts()"
   ]
  },
  {
   "cell_type": "markdown",
   "metadata": {},
   "source": [
    "### Content accumulation"
   ]
  },
  {
   "cell_type": "code",
   "execution_count": null,
   "metadata": {},
   "outputs": [],
   "source": [
    "# isbn = pd.read_csv('../data/isbnlist.csv', 'isbn' : str)\n",
    "# base_url = 'https://www.biblioshare.ca/BNCServices/BNCServices.asmx/ONIX?Token=zvo3vpz7uulcuajs&EAN='\n",
    "# for isbn in isbn['isbn']:\n",
    "#     target_url = base_url + isbn"
   ]
  },
  {
   "cell_type": "markdown",
   "metadata": {},
   "source": [
    "### Preprocessing\n"
   ]
  },
  {
   "cell_type": "code",
   "execution_count": null,
   "metadata": {},
   "outputs": [],
   "source": [
    "# Preprocess the posting content; this should take under 2 minutes\n",
    "# start an empty list to hold preprocessed postings\n",
    "\n",
    "for i in range(len(df)):  # for each description\n",
    "    desc = re.sub('[^a-zA-Z]', ' ', df['description'][i]) # remove non text characters\n",
    "    desc = desc.lower() # lower-case everything\n",
    "    desc = desc.split() # split into words\n",
    "    desc = ' '.join(desc) # reassemble the string\n",
    "    df['description'][i] = desc\n"
   ]
  },
  {
   "cell_type": "markdown",
   "metadata": {},
   "source": [
    "## Modeling"
   ]
  },
  {
   "cell_type": "markdown",
   "metadata": {},
   "source": [
    "### TF-IDF"
   ]
  },
  {
   "cell_type": "code",
   "execution_count": null,
   "metadata": {},
   "outputs": [],
   "source": [
    "tf = TfidfVectorizer(analyzer='word', ngram_range=(1, 3), min_df=0, stop_words='english')\n",
    "tfidf_matrix = tf.fit_transform(df['description'])\n",
    "cosine_similarities = linear_kernel(tfidf_matrix, tfidf_matrix)"
   ]
  },
  {
   "cell_type": "markdown",
   "metadata": {},
   "source": [
    "### Recommender"
   ]
  },
  {
   "cell_type": "code",
   "execution_count": null,
   "metadata": {},
   "outputs": [],
   "source": [
    "results = {}\n",
    "\n",
    "for idx, row in df.iterrows():\n",
    "    similar_indices = cosine_similarities[idx].argsort()[:-100:-1]\n",
    "    similar_items = [(cosine_similarities[idx][i], df['id'][i]) for i in similar_indices]\n",
    "    results[row['id']] = similar_items[1:]"
   ]
  },
  {
   "cell_type": "code",
   "execution_count": null,
   "metadata": {},
   "outputs": [],
   "source": [
    "def item(id):\n",
    "    return df.loc[df['id'] == id]['description'].tolist()[0].split(' - ')[0]"
   ]
  },
  {
   "cell_type": "code",
   "execution_count": null,
   "metadata": {},
   "outputs": [],
   "source": [
    "def recommend(item_id, num):\n",
    "    print(\"Here \" + str(num) + \" books that are similar to \" + item(item_id) + \"...\")\n",
    "    print(\"-------\")\n",
    "    recs = results[item_id][:num]\n",
    "    for rec in recs:\n",
    "        print(\"Recommended: \" + item(rec[1]) + \" (score:\" + str(rec[0]) + \")\")"
   ]
  },
  {
   "cell_type": "code",
   "execution_count": null,
   "metadata": {},
   "outputs": [],
   "source": [
    "print('How many new books would you like to learn about?')\n",
    "num_books = input()"
   ]
  },
  {
   "cell_type": "code",
   "execution_count": null,
   "metadata": {},
   "outputs": [],
   "source": [
    "recommend(item_id=109, num=3)"
   ]
  },
  {
   "cell_type": "markdown",
   "metadata": {},
   "source": [
    "### Visualization"
   ]
  },
  {
   "cell_type": "code",
   "execution_count": null,
   "metadata": {},
   "outputs": [],
   "source": [
    "sns.pairplot(df)"
   ]
  },
  {
   "cell_type": "markdown",
   "metadata": {},
   "source": [
    "## References"
   ]
  },
  {
   "cell_type": "markdown",
   "metadata": {},
   "source": [
    "To come"
   ]
  }
 ],
 "metadata": {
  "kernelspec": {
   "display_name": "Python 3",
   "language": "python",
   "name": "python3"
  },
  "language_info": {
   "codemirror_mode": {
    "name": "ipython",
    "version": 3
   },
   "file_extension": ".py",
   "mimetype": "text/x-python",
   "name": "python",
   "nbconvert_exporter": "python",
   "pygments_lexer": "ipython3",
   "version": "3.7.6"
  }
 },
 "nbformat": 4,
 "nbformat_minor": 4
}
